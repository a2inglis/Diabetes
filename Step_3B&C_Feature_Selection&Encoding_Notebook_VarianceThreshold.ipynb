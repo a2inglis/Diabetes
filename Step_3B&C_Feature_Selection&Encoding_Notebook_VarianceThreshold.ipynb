{
 "cells": [
  {
   "cell_type": "markdown",
   "id": "a234c548",
   "metadata": {
    "id": "65ceaddf"
   },
   "source": [
    "## Feature Selection & Encoding - Variance Threshold Approach to Dimensionality Reduction"
   ]
  },
  {
   "cell_type": "code",
   "execution_count": 1,
   "id": "1bce5f03",
   "metadata": {},
   "outputs": [],
   "source": [
    "# This notebook is applicable to both Scenario C at 0.10 variance tolerance \n",
    "# and for Scenario D at 0.20 variance tolerance.\n",
    "# To change code to run for 0.20, two changes need to be made in Variance\n",
    "# Threshold section - one in Thresholder cell and one in plot cell."
   ]
  },
  {
   "cell_type": "code",
   "execution_count": 2,
   "id": "1558998d",
   "metadata": {
    "id": "1558998d",
    "scrolled": false
   },
   "outputs": [],
   "source": [
    "# Import the libraries needed\n",
    "\n",
    "import pandas as pd\n",
    "import numpy as np\n",
    "import seaborn as sns\n",
    "from sklearn.preprocessing import OneHotEncoder, StandardScaler\n",
    "from sklearn.model_selection import train_test_split\n",
    "from sklearn.feature_selection import VarianceThreshold, SelectKBest, f_classif, RFE\n",
    "from sklearn.ensemble import RandomForestClassifier\n",
    "from sklearn.tree import DecisionTreeClassifier\n",
    "import matplotlib.pyplot as plt\n",
    "import time\n",
    "from sklearn.neighbors import KNeighborsClassifier\n",
    "from imblearn.over_sampling import SMOTE\n",
    "from sklearn.metrics import confusion_matrix, precision_score, recall_score, accuracy_score"
   ]
  },
  {
   "cell_type": "code",
   "execution_count": 3,
   "id": "6151c3c1",
   "metadata": {
    "id": "6151c3c1",
    "scrolled": false
   },
   "outputs": [],
   "source": [
    "# ******************************************************\n",
    "# TWO CHANGES NEED TO BE MADE TO THIS NOTEBOOK IF 'RACE'\n",
    "# ATTRIBUTE IS INCLUDED\n",
    "# ******************************************************"
   ]
  },
  {
   "cell_type": "code",
   "execution_count": 4,
   "id": "ecb76c4e",
   "metadata": {
    "id": "ecb76c4e",
    "scrolled": false
   },
   "outputs": [],
   "source": [
    "# Read in the dataset passed from the last module\n",
    "\n",
    "data = pd.read_csv('Mod_2_data_to_pass.csv')"
   ]
  },
  {
   "cell_type": "code",
   "execution_count": 5,
   "id": "b4e7d0f1",
   "metadata": {
    "colab": {
     "base_uri": "https://localhost:8080/"
    },
    "id": "b4e7d0f1",
    "outputId": "8ad97dab-225e-447c-9cf9-90ed311bad3c",
    "scrolled": true
   },
   "outputs": [
    {
     "name": "stdout",
     "output_type": "stream",
     "text": [
      "<class 'pandas.core.frame.DataFrame'>\n",
      "RangeIndex: 99343 entries, 0 to 99342\n",
      "Data columns (total 27 columns):\n",
      " #   Column                    Non-Null Count  Dtype \n",
      "---  ------                    --------------  ----- \n",
      " 0   gender                    99343 non-null  object\n",
      " 1   age                       99343 non-null  object\n",
      " 2   admission_type_id         99343 non-null  object\n",
      " 3   discharge_disposition_id  99343 non-null  int64 \n",
      " 4   time_in_hospital          99343 non-null  int64 \n",
      " 5   num_lab_procedures        99343 non-null  int64 \n",
      " 6   num_procedures            99343 non-null  int64 \n",
      " 7   num_medications           99343 non-null  int64 \n",
      " 8   number_outpatient         99343 non-null  int64 \n",
      " 9   number_emergency          99343 non-null  int64 \n",
      " 10  number_inpatient          99343 non-null  int64 \n",
      " 11  diag_1                    99323 non-null  object\n",
      " 12  diag_2                    98987 non-null  object\n",
      " 13  diag_3                    97924 non-null  object\n",
      " 14  number_diagnoses          99343 non-null  int64 \n",
      " 15  max_glu_serum             5152 non-null   object\n",
      " 16  A1Cresult                 16834 non-null  object\n",
      " 17  change                    99343 non-null  object\n",
      " 18  diabetesMed               99343 non-null  object\n",
      " 19  readmitted                99343 non-null  object\n",
      " 20  Meglitinides              99343 non-null  object\n",
      " 21  Thiazolidinediones        99343 non-null  object\n",
      " 22  Sulfonylureas             99343 non-null  object\n",
      " 23  AG_Inhibitors             99343 non-null  object\n",
      " 24  Metformin                 99343 non-null  object\n",
      " 25  Insulin                   99343 non-null  object\n",
      " 26  Admission_Source          99343 non-null  object\n",
      "dtypes: int64(9), object(18)\n",
      "memory usage: 20.5+ MB\n"
     ]
    }
   ],
   "source": [
    "# Checking data types before proceeding\n",
    "data.info()"
   ]
  },
  {
   "cell_type": "code",
   "execution_count": 6,
   "id": "664de38e",
   "metadata": {
    "id": "664de38e",
    "scrolled": false
   },
   "outputs": [],
   "source": [
    "# Change data types to categories\n",
    "\n",
    "cat_list = ['gender', 'age', 'admission_type_id', 'discharge_disposition_id',\n",
    "            'diag_1', 'diag_2', 'diag_3', 'max_glu_serum', 'A1Cresult', 'change',\n",
    "           'diabetesMed', 'readmitted', 'Meglitinides', 'Thiazolidinediones',\n",
    "           'Sulfonylureas', 'AG_Inhibitors', 'Metformin', 'Insulin', 'Admission_Source']\n",
    "\n",
    "#cat_list.append('race')\n",
    "\n",
    "for item in cat_list:\n",
    "    data[item] = data[item].astype('category')\n",
    "\n"
   ]
  },
  {
   "cell_type": "code",
   "execution_count": 7,
   "id": "11d8606d",
   "metadata": {
    "colab": {
     "base_uri": "https://localhost:8080/"
    },
    "id": "11d8606d",
    "outputId": "1bf84f85-f083-4df3-c6d5-fe03d52a3f6f",
    "scrolled": true
   },
   "outputs": [
    {
     "name": "stdout",
     "output_type": "stream",
     "text": [
      "<class 'pandas.core.frame.DataFrame'>\n",
      "RangeIndex: 99343 entries, 0 to 99342\n",
      "Data columns (total 27 columns):\n",
      " #   Column                    Non-Null Count  Dtype   \n",
      "---  ------                    --------------  -----   \n",
      " 0   gender                    99343 non-null  category\n",
      " 1   age                       99343 non-null  category\n",
      " 2   admission_type_id         99343 non-null  category\n",
      " 3   discharge_disposition_id  99343 non-null  category\n",
      " 4   time_in_hospital          99343 non-null  int64   \n",
      " 5   num_lab_procedures        99343 non-null  int64   \n",
      " 6   num_procedures            99343 non-null  int64   \n",
      " 7   num_medications           99343 non-null  int64   \n",
      " 8   number_outpatient         99343 non-null  int64   \n",
      " 9   number_emergency          99343 non-null  int64   \n",
      " 10  number_inpatient          99343 non-null  int64   \n",
      " 11  diag_1                    99323 non-null  category\n",
      " 12  diag_2                    98987 non-null  category\n",
      " 13  diag_3                    97924 non-null  category\n",
      " 14  number_diagnoses          99343 non-null  int64   \n",
      " 15  max_glu_serum             5152 non-null   category\n",
      " 16  A1Cresult                 16834 non-null  category\n",
      " 17  change                    99343 non-null  category\n",
      " 18  diabetesMed               99343 non-null  category\n",
      " 19  readmitted                99343 non-null  category\n",
      " 20  Meglitinides              99343 non-null  category\n",
      " 21  Thiazolidinediones        99343 non-null  category\n",
      " 22  Sulfonylureas             99343 non-null  category\n",
      " 23  AG_Inhibitors             99343 non-null  category\n",
      " 24  Metformin                 99343 non-null  category\n",
      " 25  Insulin                   99343 non-null  category\n",
      " 26  Admission_Source          99343 non-null  category\n",
      "dtypes: category(19), int64(8)\n",
      "memory usage: 8.2 MB\n"
     ]
    }
   ],
   "source": [
    "# Confirming data types have been changed to categorical\n",
    "data.info()"
   ]
  },
  {
   "cell_type": "code",
   "execution_count": 8,
   "id": "013ac6a2",
   "metadata": {
    "id": "dd74a85c"
   },
   "outputs": [],
   "source": [
    "# Three attributes contain NaN data so they need to be removed from the dataset\n",
    "# Remove diag_1, diag_2 and diag_3 due to NaN\n",
    "data = data.drop('diag_1', axis = 1)\n",
    "data = data.drop('diag_2', axis = 1)\n",
    "data = data.drop('diag_3', axis = 1)"
   ]
  },
  {
   "cell_type": "markdown",
   "id": "3dfacac9",
   "metadata": {
    "id": "3dfacac9"
   },
   "source": [
    "## One Hot Encoding"
   ]
  },
  {
   "cell_type": "code",
   "execution_count": 9,
   "id": "6f91247b",
   "metadata": {
    "colab": {
     "base_uri": "https://localhost:8080/"
    },
    "id": "6f91247b",
    "outputId": "f3fe3e29-74d9-405e-f8b3-68a4ada8cde2",
    "scrolled": false
   },
   "outputs": [
    {
     "data": {
      "text/plain": [
       "\"\\n# Create one hot encoder (start the tool)\\n# ?? Don't understand what 'sparse_output = False' does\\nencoder = OneHotEncoder(sparse_output = False, dtype = np.int)\\n\\n# Create a new dataframe to store the one-hot encoded data\\nencoded_dataframes = []\\n\\n# Create a list of all the categorical columns to be one-hot encoded\\ncat_columns = ['gender', 'age', 'admission_type_id',\\n               'discharge_disposition_id', 'max_glu_serum', 'A1Cresult',\\n               'Meglitinides', 'Thiazolidinediones', 'Sulfonylureas',\\n               'AG_Inhibitors', 'Metformin', 'Insulin', 'change',\\n               'diabetesMed', 'Admission_Source']\\n\\n#cat_columns.append('race')\\n\\nfor column in cat_columns:\\n    # Get data to be encoded from original dataset\\n    column_data = data[[column]]\\n\\n    # Use the encoder\\n    encoded_data = encoder.fit_transform(column_data)\\n\\n    # Create a temporary dataframe to hold encoded data\\n    temp_encoded_data = pd.DataFrame(encoded_data, columns = encoder.get_feature_names_out([column]))\\n\\n    # Add the encoded dataframe to the list created above\\n    encoded_dataframes.append(temp_encoded_data)\\n\\n# Concat all the encoded dataframes in the temp_encoded_data list\\ncompleted_dataframe = pd.concat(encoded_dataframes, axis = 1)\\n\\n# Remove the original columns from test3\\ndata_copy = data.copy()\\ndata_copy = data_copy.drop(cat_columns, axis = 1)\\n\\n\\n# Put the remaining original data columns together with the encoded dataframe\\ndata = pd.concat([data_copy, completed_dataframe], axis=1)\\n\\n# Confirming binarizing was done correctly and verifying new number of attributes\\n\\ndisplay(data.info())\\n\\ndisplay(data)\\n\\n\""
      ]
     },
     "execution_count": 9,
     "metadata": {},
     "output_type": "execute_result"
    }
   ],
   "source": [
    "# APPROACH 1\n",
    "# USING OneHotEncoder TO GENERATE DUMMY VARIABLES\n",
    "# ONE HOT ENCODING IN A LOOP TO BINARIZE CATEGORICAL ATTRIBUTES\n",
    "\n",
    "'''\n",
    "# Create one hot encoder (start the tool)\n",
    "# ?? Don't understand what 'sparse_output = False' does\n",
    "encoder = OneHotEncoder(sparse_output = False, dtype = np.int)\n",
    "\n",
    "# Create a new dataframe to store the one-hot encoded data\n",
    "encoded_dataframes = []\n",
    "\n",
    "# Create a list of all the categorical columns to be one-hot encoded\n",
    "cat_columns = ['gender', 'age', 'admission_type_id',\n",
    "               'discharge_disposition_id', 'max_glu_serum', 'A1Cresult',\n",
    "               'Meglitinides', 'Thiazolidinediones', 'Sulfonylureas',\n",
    "               'AG_Inhibitors', 'Metformin', 'Insulin', 'change',\n",
    "               'diabetesMed', 'Admission_Source']\n",
    "\n",
    "#cat_columns.append('race')\n",
    "\n",
    "for column in cat_columns:\n",
    "    # Get data to be encoded from original dataset\n",
    "    column_data = data[[column]]\n",
    "\n",
    "    # Use the encoder\n",
    "    encoded_data = encoder.fit_transform(column_data)\n",
    "\n",
    "    # Create a temporary dataframe to hold encoded data\n",
    "    temp_encoded_data = pd.DataFrame(encoded_data, columns = encoder.get_feature_names_out([column]))\n",
    "\n",
    "    # Add the encoded dataframe to the list created above\n",
    "    encoded_dataframes.append(temp_encoded_data)\n",
    "\n",
    "# Concat all the encoded dataframes in the temp_encoded_data list\n",
    "completed_dataframe = pd.concat(encoded_dataframes, axis = 1)\n",
    "\n",
    "# Remove the original columns from test3\n",
    "data_copy = data.copy()\n",
    "data_copy = data_copy.drop(cat_columns, axis = 1)\n",
    "\n",
    "\n",
    "# Put the remaining original data columns together with the encoded dataframe\n",
    "data = pd.concat([data_copy, completed_dataframe], axis=1)\n",
    "\n",
    "# Confirming binarizing was done correctly and verifying new number of attributes\n",
    "\n",
    "display(data.info())\n",
    "\n",
    "display(data)\n",
    "\n",
    "'''"
   ]
  },
  {
   "cell_type": "code",
   "execution_count": 10,
   "id": "457204b8",
   "metadata": {},
   "outputs": [
    {
     "name": "stdout",
     "output_type": "stream",
     "text": [
      "<class 'pandas.core.frame.DataFrame'>\n",
      "RangeIndex: 99343 entries, 0 to 99342\n",
      "Data columns (total 76 columns):\n",
      " #   Column                           Non-Null Count  Dtype   \n",
      "---  ------                           --------------  -----   \n",
      " 0   time_in_hospital                 99343 non-null  int64   \n",
      " 1   num_lab_procedures               99343 non-null  int64   \n",
      " 2   num_procedures                   99343 non-null  int64   \n",
      " 3   num_medications                  99343 non-null  int64   \n",
      " 4   number_outpatient                99343 non-null  int64   \n",
      " 5   number_emergency                 99343 non-null  int64   \n",
      " 6   number_inpatient                 99343 non-null  int64   \n",
      " 7   number_diagnoses                 99343 non-null  int64   \n",
      " 8   readmitted                       99343 non-null  category\n",
      " 9   gender_Female                    99343 non-null  int32   \n",
      " 10  gender_Male                      99343 non-null  int32   \n",
      " 11  gender_Missing                   99343 non-null  int32   \n",
      " 12  age_[0-10)                       99343 non-null  int32   \n",
      " 13  age_[10-20)                      99343 non-null  int32   \n",
      " 14  age_[20-30)                      99343 non-null  int32   \n",
      " 15  age_[30-40)                      99343 non-null  int32   \n",
      " 16  age_[40-50)                      99343 non-null  int32   \n",
      " 17  age_[50-60)                      99343 non-null  int32   \n",
      " 18  age_[60-70)                      99343 non-null  int32   \n",
      " 19  age_[70-80)                      99343 non-null  int32   \n",
      " 20  age_[80-90)                      99343 non-null  int32   \n",
      " 21  age_[90-100)                     99343 non-null  int32   \n",
      " 22  admission_type_id_Elective       99343 non-null  int32   \n",
      " 23  admission_type_id_Emergency      99343 non-null  int32   \n",
      " 24  admission_type_id_Missing        99343 non-null  int32   \n",
      " 25  admission_type_id_Trauma Centre  99343 non-null  int32   \n",
      " 26  admission_type_id_Urgent         99343 non-null  int32   \n",
      " 27  discharge_disposition_id_1       99343 non-null  int32   \n",
      " 28  discharge_disposition_id_2       99343 non-null  int32   \n",
      " 29  discharge_disposition_id_3       99343 non-null  int32   \n",
      " 30  discharge_disposition_id_4       99343 non-null  int32   \n",
      " 31  discharge_disposition_id_5       99343 non-null  int32   \n",
      " 32  discharge_disposition_id_6       99343 non-null  int32   \n",
      " 33  discharge_disposition_id_7       99343 non-null  int32   \n",
      " 34  discharge_disposition_id_8       99343 non-null  int32   \n",
      " 35  discharge_disposition_id_9       99343 non-null  int32   \n",
      " 36  discharge_disposition_id_12      99343 non-null  int32   \n",
      " 37  discharge_disposition_id_15      99343 non-null  int32   \n",
      " 38  discharge_disposition_id_16      99343 non-null  int32   \n",
      " 39  discharge_disposition_id_17      99343 non-null  int32   \n",
      " 40  discharge_disposition_id_22      99343 non-null  int32   \n",
      " 41  discharge_disposition_id_23      99343 non-null  int32   \n",
      " 42  discharge_disposition_id_24      99343 non-null  int32   \n",
      " 43  discharge_disposition_id_27      99343 non-null  int32   \n",
      " 44  discharge_disposition_id_28      99343 non-null  int32   \n",
      " 45  discharge_disposition_id_999     99343 non-null  int32   \n",
      " 46  max_glu_serum_>200               99343 non-null  int32   \n",
      " 47  max_glu_serum_>300               99343 non-null  int32   \n",
      " 48  max_glu_serum_Norm               99343 non-null  int32   \n",
      " 49  A1Cresult_>7                     99343 non-null  int32   \n",
      " 50  A1Cresult_>8                     99343 non-null  int32   \n",
      " 51  A1Cresult_Norm                   99343 non-null  int32   \n",
      " 52  Meglitinides_Adjusted            99343 non-null  int32   \n",
      " 53  Meglitinides_No                  99343 non-null  int32   \n",
      " 54  Meglitinides_Steady              99343 non-null  int32   \n",
      " 55  Thiazolidinediones_No            99343 non-null  int32   \n",
      " 56  Thiazolidinediones_Steady        99343 non-null  int32   \n",
      " 57  Sulfonylureas_No                 99343 non-null  int32   \n",
      " 58  Sulfonylureas_Steady             99343 non-null  int32   \n",
      " 59  AG_Inhibitors_Adjusted           99343 non-null  int32   \n",
      " 60  AG_Inhibitors_No                 99343 non-null  int32   \n",
      " 61  AG_Inhibitors_Steady             99343 non-null  int32   \n",
      " 62  Metformin_No                     99343 non-null  int32   \n",
      " 63  Metformin_Steady                 99343 non-null  int32   \n",
      " 64  Insulin_Adjusted                 99343 non-null  int32   \n",
      " 65  Insulin_No                       99343 non-null  int32   \n",
      " 66  Insulin_Steady                   99343 non-null  int32   \n",
      " 67  change_Ch                        99343 non-null  int32   \n",
      " 68  change_No                        99343 non-null  int32   \n",
      " 69  diabetesMed_No                   99343 non-null  int32   \n",
      " 70  diabetesMed_Yes                  99343 non-null  int32   \n",
      " 71  Admission_Source_Emerg_Dept      99343 non-null  int32   \n",
      " 72  Admission_Source_Missing         99343 non-null  int32   \n",
      " 73  Admission_Source_Other           99343 non-null  int32   \n",
      " 74  Admission_Source_Referral        99343 non-null  int32   \n",
      " 75  Admission_Source_Transfer        99343 non-null  int32   \n",
      "dtypes: category(1), int32(67), int64(8)\n",
      "memory usage: 31.5 MB\n"
     ]
    },
    {
     "data": {
      "text/plain": [
       "None"
      ]
     },
     "metadata": {},
     "output_type": "display_data"
    },
    {
     "data": {
      "text/html": [
       "<div>\n",
       "<style scoped>\n",
       "    .dataframe tbody tr th:only-of-type {\n",
       "        vertical-align: middle;\n",
       "    }\n",
       "\n",
       "    .dataframe tbody tr th {\n",
       "        vertical-align: top;\n",
       "    }\n",
       "\n",
       "    .dataframe thead th {\n",
       "        text-align: right;\n",
       "    }\n",
       "</style>\n",
       "<table border=\"1\" class=\"dataframe\">\n",
       "  <thead>\n",
       "    <tr style=\"text-align: right;\">\n",
       "      <th></th>\n",
       "      <th>time_in_hospital</th>\n",
       "      <th>num_lab_procedures</th>\n",
       "      <th>num_procedures</th>\n",
       "      <th>num_medications</th>\n",
       "      <th>number_outpatient</th>\n",
       "      <th>number_emergency</th>\n",
       "      <th>number_inpatient</th>\n",
       "      <th>number_diagnoses</th>\n",
       "      <th>readmitted</th>\n",
       "      <th>gender_Female</th>\n",
       "      <th>...</th>\n",
       "      <th>Insulin_Steady</th>\n",
       "      <th>change_Ch</th>\n",
       "      <th>change_No</th>\n",
       "      <th>diabetesMed_No</th>\n",
       "      <th>diabetesMed_Yes</th>\n",
       "      <th>Admission_Source_Emerg_Dept</th>\n",
       "      <th>Admission_Source_Missing</th>\n",
       "      <th>Admission_Source_Other</th>\n",
       "      <th>Admission_Source_Referral</th>\n",
       "      <th>Admission_Source_Transfer</th>\n",
       "    </tr>\n",
       "  </thead>\n",
       "  <tbody>\n",
       "    <tr>\n",
       "      <th>0</th>\n",
       "      <td>1</td>\n",
       "      <td>41</td>\n",
       "      <td>0</td>\n",
       "      <td>1</td>\n",
       "      <td>0</td>\n",
       "      <td>0</td>\n",
       "      <td>0</td>\n",
       "      <td>1</td>\n",
       "      <td>NO</td>\n",
       "      <td>1</td>\n",
       "      <td>...</td>\n",
       "      <td>0</td>\n",
       "      <td>0</td>\n",
       "      <td>1</td>\n",
       "      <td>1</td>\n",
       "      <td>0</td>\n",
       "      <td>0</td>\n",
       "      <td>0</td>\n",
       "      <td>0</td>\n",
       "      <td>1</td>\n",
       "      <td>0</td>\n",
       "    </tr>\n",
       "    <tr>\n",
       "      <th>1</th>\n",
       "      <td>3</td>\n",
       "      <td>59</td>\n",
       "      <td>0</td>\n",
       "      <td>18</td>\n",
       "      <td>0</td>\n",
       "      <td>0</td>\n",
       "      <td>0</td>\n",
       "      <td>9</td>\n",
       "      <td>&gt;30</td>\n",
       "      <td>1</td>\n",
       "      <td>...</td>\n",
       "      <td>0</td>\n",
       "      <td>1</td>\n",
       "      <td>0</td>\n",
       "      <td>0</td>\n",
       "      <td>1</td>\n",
       "      <td>1</td>\n",
       "      <td>0</td>\n",
       "      <td>0</td>\n",
       "      <td>0</td>\n",
       "      <td>0</td>\n",
       "    </tr>\n",
       "    <tr>\n",
       "      <th>2</th>\n",
       "      <td>2</td>\n",
       "      <td>11</td>\n",
       "      <td>5</td>\n",
       "      <td>13</td>\n",
       "      <td>2</td>\n",
       "      <td>0</td>\n",
       "      <td>1</td>\n",
       "      <td>6</td>\n",
       "      <td>NO</td>\n",
       "      <td>1</td>\n",
       "      <td>...</td>\n",
       "      <td>0</td>\n",
       "      <td>0</td>\n",
       "      <td>1</td>\n",
       "      <td>0</td>\n",
       "      <td>1</td>\n",
       "      <td>1</td>\n",
       "      <td>0</td>\n",
       "      <td>0</td>\n",
       "      <td>0</td>\n",
       "      <td>0</td>\n",
       "    </tr>\n",
       "    <tr>\n",
       "      <th>3</th>\n",
       "      <td>2</td>\n",
       "      <td>44</td>\n",
       "      <td>1</td>\n",
       "      <td>16</td>\n",
       "      <td>0</td>\n",
       "      <td>0</td>\n",
       "      <td>0</td>\n",
       "      <td>7</td>\n",
       "      <td>NO</td>\n",
       "      <td>0</td>\n",
       "      <td>...</td>\n",
       "      <td>0</td>\n",
       "      <td>1</td>\n",
       "      <td>0</td>\n",
       "      <td>0</td>\n",
       "      <td>1</td>\n",
       "      <td>1</td>\n",
       "      <td>0</td>\n",
       "      <td>0</td>\n",
       "      <td>0</td>\n",
       "      <td>0</td>\n",
       "    </tr>\n",
       "    <tr>\n",
       "      <th>4</th>\n",
       "      <td>1</td>\n",
       "      <td>51</td>\n",
       "      <td>0</td>\n",
       "      <td>8</td>\n",
       "      <td>0</td>\n",
       "      <td>0</td>\n",
       "      <td>0</td>\n",
       "      <td>5</td>\n",
       "      <td>NO</td>\n",
       "      <td>0</td>\n",
       "      <td>...</td>\n",
       "      <td>1</td>\n",
       "      <td>1</td>\n",
       "      <td>0</td>\n",
       "      <td>0</td>\n",
       "      <td>1</td>\n",
       "      <td>1</td>\n",
       "      <td>0</td>\n",
       "      <td>0</td>\n",
       "      <td>0</td>\n",
       "      <td>0</td>\n",
       "    </tr>\n",
       "    <tr>\n",
       "      <th>...</th>\n",
       "      <td>...</td>\n",
       "      <td>...</td>\n",
       "      <td>...</td>\n",
       "      <td>...</td>\n",
       "      <td>...</td>\n",
       "      <td>...</td>\n",
       "      <td>...</td>\n",
       "      <td>...</td>\n",
       "      <td>...</td>\n",
       "      <td>...</td>\n",
       "      <td>...</td>\n",
       "      <td>...</td>\n",
       "      <td>...</td>\n",
       "      <td>...</td>\n",
       "      <td>...</td>\n",
       "      <td>...</td>\n",
       "      <td>...</td>\n",
       "      <td>...</td>\n",
       "      <td>...</td>\n",
       "      <td>...</td>\n",
       "      <td>...</td>\n",
       "    </tr>\n",
       "    <tr>\n",
       "      <th>99338</th>\n",
       "      <td>3</td>\n",
       "      <td>51</td>\n",
       "      <td>0</td>\n",
       "      <td>16</td>\n",
       "      <td>0</td>\n",
       "      <td>0</td>\n",
       "      <td>0</td>\n",
       "      <td>9</td>\n",
       "      <td>&gt;30</td>\n",
       "      <td>0</td>\n",
       "      <td>...</td>\n",
       "      <td>0</td>\n",
       "      <td>1</td>\n",
       "      <td>0</td>\n",
       "      <td>0</td>\n",
       "      <td>1</td>\n",
       "      <td>1</td>\n",
       "      <td>0</td>\n",
       "      <td>0</td>\n",
       "      <td>0</td>\n",
       "      <td>0</td>\n",
       "    </tr>\n",
       "    <tr>\n",
       "      <th>99339</th>\n",
       "      <td>5</td>\n",
       "      <td>33</td>\n",
       "      <td>3</td>\n",
       "      <td>18</td>\n",
       "      <td>0</td>\n",
       "      <td>0</td>\n",
       "      <td>1</td>\n",
       "      <td>9</td>\n",
       "      <td>NO</td>\n",
       "      <td>1</td>\n",
       "      <td>...</td>\n",
       "      <td>1</td>\n",
       "      <td>0</td>\n",
       "      <td>1</td>\n",
       "      <td>0</td>\n",
       "      <td>1</td>\n",
       "      <td>0</td>\n",
       "      <td>0</td>\n",
       "      <td>0</td>\n",
       "      <td>0</td>\n",
       "      <td>1</td>\n",
       "    </tr>\n",
       "    <tr>\n",
       "      <th>99340</th>\n",
       "      <td>1</td>\n",
       "      <td>53</td>\n",
       "      <td>0</td>\n",
       "      <td>9</td>\n",
       "      <td>1</td>\n",
       "      <td>0</td>\n",
       "      <td>0</td>\n",
       "      <td>13</td>\n",
       "      <td>NO</td>\n",
       "      <td>0</td>\n",
       "      <td>...</td>\n",
       "      <td>0</td>\n",
       "      <td>1</td>\n",
       "      <td>0</td>\n",
       "      <td>0</td>\n",
       "      <td>1</td>\n",
       "      <td>1</td>\n",
       "      <td>0</td>\n",
       "      <td>0</td>\n",
       "      <td>0</td>\n",
       "      <td>0</td>\n",
       "    </tr>\n",
       "    <tr>\n",
       "      <th>99341</th>\n",
       "      <td>10</td>\n",
       "      <td>45</td>\n",
       "      <td>2</td>\n",
       "      <td>21</td>\n",
       "      <td>0</td>\n",
       "      <td>0</td>\n",
       "      <td>1</td>\n",
       "      <td>9</td>\n",
       "      <td>NO</td>\n",
       "      <td>1</td>\n",
       "      <td>...</td>\n",
       "      <td>0</td>\n",
       "      <td>1</td>\n",
       "      <td>0</td>\n",
       "      <td>0</td>\n",
       "      <td>1</td>\n",
       "      <td>1</td>\n",
       "      <td>0</td>\n",
       "      <td>0</td>\n",
       "      <td>0</td>\n",
       "      <td>0</td>\n",
       "    </tr>\n",
       "    <tr>\n",
       "      <th>99342</th>\n",
       "      <td>6</td>\n",
       "      <td>13</td>\n",
       "      <td>3</td>\n",
       "      <td>3</td>\n",
       "      <td>0</td>\n",
       "      <td>0</td>\n",
       "      <td>0</td>\n",
       "      <td>9</td>\n",
       "      <td>NO</td>\n",
       "      <td>0</td>\n",
       "      <td>...</td>\n",
       "      <td>0</td>\n",
       "      <td>0</td>\n",
       "      <td>1</td>\n",
       "      <td>1</td>\n",
       "      <td>0</td>\n",
       "      <td>1</td>\n",
       "      <td>0</td>\n",
       "      <td>0</td>\n",
       "      <td>0</td>\n",
       "      <td>0</td>\n",
       "    </tr>\n",
       "  </tbody>\n",
       "</table>\n",
       "<p>99343 rows × 76 columns</p>\n",
       "</div>"
      ],
      "text/plain": [
       "       time_in_hospital  num_lab_procedures  num_procedures  num_medications  \\\n",
       "0                     1                  41               0                1   \n",
       "1                     3                  59               0               18   \n",
       "2                     2                  11               5               13   \n",
       "3                     2                  44               1               16   \n",
       "4                     1                  51               0                8   \n",
       "...                 ...                 ...             ...              ...   \n",
       "99338                 3                  51               0               16   \n",
       "99339                 5                  33               3               18   \n",
       "99340                 1                  53               0                9   \n",
       "99341                10                  45               2               21   \n",
       "99342                 6                  13               3                3   \n",
       "\n",
       "       number_outpatient  number_emergency  number_inpatient  \\\n",
       "0                      0                 0                 0   \n",
       "1                      0                 0                 0   \n",
       "2                      2                 0                 1   \n",
       "3                      0                 0                 0   \n",
       "4                      0                 0                 0   \n",
       "...                  ...               ...               ...   \n",
       "99338                  0                 0                 0   \n",
       "99339                  0                 0                 1   \n",
       "99340                  1                 0                 0   \n",
       "99341                  0                 0                 1   \n",
       "99342                  0                 0                 0   \n",
       "\n",
       "       number_diagnoses readmitted  gender_Female  ...  Insulin_Steady  \\\n",
       "0                     1         NO              1  ...               0   \n",
       "1                     9        >30              1  ...               0   \n",
       "2                     6         NO              1  ...               0   \n",
       "3                     7         NO              0  ...               0   \n",
       "4                     5         NO              0  ...               1   \n",
       "...                 ...        ...            ...  ...             ...   \n",
       "99338                 9        >30              0  ...               0   \n",
       "99339                 9         NO              1  ...               1   \n",
       "99340                13         NO              0  ...               0   \n",
       "99341                 9         NO              1  ...               0   \n",
       "99342                 9         NO              0  ...               0   \n",
       "\n",
       "       change_Ch  change_No  diabetesMed_No  diabetesMed_Yes  \\\n",
       "0              0          1               1                0   \n",
       "1              1          0               0                1   \n",
       "2              0          1               0                1   \n",
       "3              1          0               0                1   \n",
       "4              1          0               0                1   \n",
       "...          ...        ...             ...              ...   \n",
       "99338          1          0               0                1   \n",
       "99339          0          1               0                1   \n",
       "99340          1          0               0                1   \n",
       "99341          1          0               0                1   \n",
       "99342          0          1               1                0   \n",
       "\n",
       "       Admission_Source_Emerg_Dept  Admission_Source_Missing  \\\n",
       "0                                0                         0   \n",
       "1                                1                         0   \n",
       "2                                1                         0   \n",
       "3                                1                         0   \n",
       "4                                1                         0   \n",
       "...                            ...                       ...   \n",
       "99338                            1                         0   \n",
       "99339                            0                         0   \n",
       "99340                            1                         0   \n",
       "99341                            1                         0   \n",
       "99342                            1                         0   \n",
       "\n",
       "       Admission_Source_Other  Admission_Source_Referral  \\\n",
       "0                           0                          1   \n",
       "1                           0                          0   \n",
       "2                           0                          0   \n",
       "3                           0                          0   \n",
       "4                           0                          0   \n",
       "...                       ...                        ...   \n",
       "99338                       0                          0   \n",
       "99339                       0                          0   \n",
       "99340                       0                          0   \n",
       "99341                       0                          0   \n",
       "99342                       0                          0   \n",
       "\n",
       "       Admission_Source_Transfer  \n",
       "0                              0  \n",
       "1                              0  \n",
       "2                              0  \n",
       "3                              0  \n",
       "4                              0  \n",
       "...                          ...  \n",
       "99338                          0  \n",
       "99339                          1  \n",
       "99340                          0  \n",
       "99341                          0  \n",
       "99342                          0  \n",
       "\n",
       "[99343 rows x 76 columns]"
      ]
     },
     "metadata": {},
     "output_type": "display_data"
    }
   ],
   "source": [
    "# APPROACH 2\n",
    "# USING GET_DUMMIES TO GENERATE DUMMY VARIABLES\n",
    "# USING THE PACKAGE WITHOUT A LOOP TO BINARIZE CATEGORICAL ATTRIBUTES\n",
    "\n",
    "# Create a list of all the categorical columns to be one-hot encoded\n",
    "cat_columns = ['gender', 'age', 'admission_type_id',\n",
    "               'discharge_disposition_id', 'max_glu_serum', 'A1Cresult',\n",
    "               'Meglitinides', 'Thiazolidinediones', 'Sulfonylureas',\n",
    "               'AG_Inhibitors', 'Metformin', 'Insulin', 'change',\n",
    "               'diabetesMed', 'Admission_Source']\n",
    "\n",
    "#cat_columns.append('race')\n",
    "\n",
    "data = pd.get_dummies(data,columns=cat_columns, dtype = int)\n",
    "\n",
    "# Confirming binarizing was done correctly and verifying new number of attributes\n",
    "\n",
    "display(data.info())\n",
    "\n",
    "display(data)\n"
   ]
  },
  {
   "cell_type": "code",
   "execution_count": null,
   "id": "02db4a6d",
   "metadata": {},
   "outputs": [],
   "source": []
  },
  {
   "cell_type": "markdown",
   "id": "594362fd",
   "metadata": {
    "id": "dcd41398"
   },
   "source": [
    "## Feature Scaling of Quantitative Attributes"
   ]
  },
  {
   "cell_type": "code",
   "execution_count": 11,
   "id": "b93e276f",
   "metadata": {
    "id": "b4f41902"
   },
   "outputs": [],
   "source": [
    "# Create a list of the quantitative attributes\n",
    "\n",
    "quantList = ['time_in_hospital', 'num_lab_procedures', 'num_procedures',\n",
    "             'num_medications', 'number_outpatient', 'number_emergency',\n",
    "             'number_inpatient', 'number_diagnoses']\n",
    "\n",
    "# Instantiate the StandardScaler tool\n",
    "scaler = StandardScaler()\n",
    "\n",
    "# Scaling the numerical attributes listed in quantList in the training\n",
    "# set using the StandardScaler\n",
    "\n",
    "data[quantList] = scaler.fit_transform(data[quantList])"
   ]
  },
  {
   "cell_type": "code",
   "execution_count": 12,
   "id": "48ff989c",
   "metadata": {
    "colab": {
     "base_uri": "https://localhost:8080/",
     "height": 444
    },
    "id": "33076fe3",
    "outputId": "25aee709-6942-4058-cd69-64f0b1713a38"
   },
   "outputs": [
    {
     "name": "stdout",
     "output_type": "stream",
     "text": [
      "<class 'pandas.core.frame.DataFrame'>\n",
      "RangeIndex: 99343 entries, 0 to 99342\n",
      "Data columns (total 76 columns):\n",
      " #   Column                           Non-Null Count  Dtype   \n",
      "---  ------                           --------------  -----   \n",
      " 0   time_in_hospital                 99343 non-null  float64 \n",
      " 1   num_lab_procedures               99343 non-null  float64 \n",
      " 2   num_procedures                   99343 non-null  float64 \n",
      " 3   num_medications                  99343 non-null  float64 \n",
      " 4   number_outpatient                99343 non-null  float64 \n",
      " 5   number_emergency                 99343 non-null  float64 \n",
      " 6   number_inpatient                 99343 non-null  float64 \n",
      " 7   number_diagnoses                 99343 non-null  float64 \n",
      " 8   readmitted                       99343 non-null  category\n",
      " 9   gender_Female                    99343 non-null  int32   \n",
      " 10  gender_Male                      99343 non-null  int32   \n",
      " 11  gender_Missing                   99343 non-null  int32   \n",
      " 12  age_[0-10)                       99343 non-null  int32   \n",
      " 13  age_[10-20)                      99343 non-null  int32   \n",
      " 14  age_[20-30)                      99343 non-null  int32   \n",
      " 15  age_[30-40)                      99343 non-null  int32   \n",
      " 16  age_[40-50)                      99343 non-null  int32   \n",
      " 17  age_[50-60)                      99343 non-null  int32   \n",
      " 18  age_[60-70)                      99343 non-null  int32   \n",
      " 19  age_[70-80)                      99343 non-null  int32   \n",
      " 20  age_[80-90)                      99343 non-null  int32   \n",
      " 21  age_[90-100)                     99343 non-null  int32   \n",
      " 22  admission_type_id_Elective       99343 non-null  int32   \n",
      " 23  admission_type_id_Emergency      99343 non-null  int32   \n",
      " 24  admission_type_id_Missing        99343 non-null  int32   \n",
      " 25  admission_type_id_Trauma Centre  99343 non-null  int32   \n",
      " 26  admission_type_id_Urgent         99343 non-null  int32   \n",
      " 27  discharge_disposition_id_1       99343 non-null  int32   \n",
      " 28  discharge_disposition_id_2       99343 non-null  int32   \n",
      " 29  discharge_disposition_id_3       99343 non-null  int32   \n",
      " 30  discharge_disposition_id_4       99343 non-null  int32   \n",
      " 31  discharge_disposition_id_5       99343 non-null  int32   \n",
      " 32  discharge_disposition_id_6       99343 non-null  int32   \n",
      " 33  discharge_disposition_id_7       99343 non-null  int32   \n",
      " 34  discharge_disposition_id_8       99343 non-null  int32   \n",
      " 35  discharge_disposition_id_9       99343 non-null  int32   \n",
      " 36  discharge_disposition_id_12      99343 non-null  int32   \n",
      " 37  discharge_disposition_id_15      99343 non-null  int32   \n",
      " 38  discharge_disposition_id_16      99343 non-null  int32   \n",
      " 39  discharge_disposition_id_17      99343 non-null  int32   \n",
      " 40  discharge_disposition_id_22      99343 non-null  int32   \n",
      " 41  discharge_disposition_id_23      99343 non-null  int32   \n",
      " 42  discharge_disposition_id_24      99343 non-null  int32   \n",
      " 43  discharge_disposition_id_27      99343 non-null  int32   \n",
      " 44  discharge_disposition_id_28      99343 non-null  int32   \n",
      " 45  discharge_disposition_id_999     99343 non-null  int32   \n",
      " 46  max_glu_serum_>200               99343 non-null  int32   \n",
      " 47  max_glu_serum_>300               99343 non-null  int32   \n",
      " 48  max_glu_serum_Norm               99343 non-null  int32   \n",
      " 49  A1Cresult_>7                     99343 non-null  int32   \n",
      " 50  A1Cresult_>8                     99343 non-null  int32   \n",
      " 51  A1Cresult_Norm                   99343 non-null  int32   \n",
      " 52  Meglitinides_Adjusted            99343 non-null  int32   \n",
      " 53  Meglitinides_No                  99343 non-null  int32   \n",
      " 54  Meglitinides_Steady              99343 non-null  int32   \n",
      " 55  Thiazolidinediones_No            99343 non-null  int32   \n",
      " 56  Thiazolidinediones_Steady        99343 non-null  int32   \n",
      " 57  Sulfonylureas_No                 99343 non-null  int32   \n",
      " 58  Sulfonylureas_Steady             99343 non-null  int32   \n",
      " 59  AG_Inhibitors_Adjusted           99343 non-null  int32   \n",
      " 60  AG_Inhibitors_No                 99343 non-null  int32   \n",
      " 61  AG_Inhibitors_Steady             99343 non-null  int32   \n",
      " 62  Metformin_No                     99343 non-null  int32   \n",
      " 63  Metformin_Steady                 99343 non-null  int32   \n",
      " 64  Insulin_Adjusted                 99343 non-null  int32   \n",
      " 65  Insulin_No                       99343 non-null  int32   \n",
      " 66  Insulin_Steady                   99343 non-null  int32   \n",
      " 67  change_Ch                        99343 non-null  int32   \n",
      " 68  change_No                        99343 non-null  int32   \n",
      " 69  diabetesMed_No                   99343 non-null  int32   \n",
      " 70  diabetesMed_Yes                  99343 non-null  int32   \n",
      " 71  Admission_Source_Emerg_Dept      99343 non-null  int32   \n",
      " 72  Admission_Source_Missing         99343 non-null  int32   \n",
      " 73  Admission_Source_Other           99343 non-null  int32   \n",
      " 74  Admission_Source_Referral        99343 non-null  int32   \n",
      " 75  Admission_Source_Transfer        99343 non-null  int32   \n",
      "dtypes: category(1), float64(8), int32(67)\n",
      "memory usage: 31.5 MB\n"
     ]
    }
   ],
   "source": [
    "# Confirming the data has been scaled in the training set\n",
    "data.info()"
   ]
  },
  {
   "cell_type": "code",
   "execution_count": null,
   "id": "45b0979f",
   "metadata": {},
   "outputs": [],
   "source": []
  },
  {
   "cell_type": "markdown",
   "id": "25c1d815",
   "metadata": {
    "id": "25c1d815"
   },
   "source": [
    "## Split Data into Train and Test Sets"
   ]
  },
  {
   "cell_type": "code",
   "execution_count": 13,
   "id": "92ec546f",
   "metadata": {
    "id": "92ec546f"
   },
   "outputs": [],
   "source": [
    "# Select all the features except the target variable\n",
    "X = data.drop('readmitted', axis = 1)\n",
    "#print(X.info())\n",
    "\n",
    "# Split the dataset into training and testing sets\n",
    "X_train, X_test, Y_train, Y_test = train_test_split(X, data['readmitted'], test_size = 0.2, random_state=53)"
   ]
  },
  {
   "cell_type": "code",
   "execution_count": 14,
   "id": "a541d0a0",
   "metadata": {
    "colab": {
     "base_uri": "https://localhost:8080/"
    },
    "id": "a541d0a0",
    "outputId": "0753f688-a5eb-4aa5-ca73-7c58c23b8c89"
   },
   "outputs": [
    {
     "name": "stdout",
     "output_type": "stream",
     "text": [
      "X_train size\n",
      " (79474, 75)\n",
      "\n",
      "X_test size\n",
      " (19869, 75)\n"
     ]
    }
   ],
   "source": [
    "# Confirming the size of the training and test sets\n",
    "\n",
    "print('X_train size\\n', X_train.shape)\n",
    "\n",
    "print('\\nX_test size\\n', X_test.shape)"
   ]
  },
  {
   "cell_type": "code",
   "execution_count": null,
   "id": "69153965",
   "metadata": {},
   "outputs": [],
   "source": []
  },
  {
   "cell_type": "code",
   "execution_count": null,
   "id": "490660ff",
   "metadata": {},
   "outputs": [],
   "source": []
  },
  {
   "cell_type": "markdown",
   "id": "93bc1074",
   "metadata": {
    "id": "93bc1074"
   },
   "source": [
    "## SMOTE"
   ]
  },
  {
   "cell_type": "code",
   "execution_count": 15,
   "id": "cd2be68c",
   "metadata": {
    "id": "cd2be68c"
   },
   "outputs": [],
   "source": [
    "# Using SMOTE (Synthetic Minority Over-sampling TEchnique) to address the\n",
    "# class imbalance problem.\n",
    "# SMOTE generates synthetic rows for the minority class in the training set\n",
    "smote = SMOTE()\n",
    "X_train_resampled, Y_train_resampled = smote.fit_resample(X_train, Y_train)"
   ]
  },
  {
   "cell_type": "code",
   "execution_count": 16,
   "id": "b7302c44",
   "metadata": {
    "colab": {
     "base_uri": "https://localhost:8080/"
    },
    "id": "b7302c44",
    "outputId": "b865f3fa-dd7e-47e1-9d93-d9e2e0d748b3"
   },
   "outputs": [
    {
     "name": "stdout",
     "output_type": "stream",
     "text": [
      "<class 'pandas.core.series.Series'>\n",
      "Index: 79474 entries, 60411 to 56857\n",
      "Series name: readmitted\n",
      "Non-Null Count  Dtype   \n",
      "--------------  -----   \n",
      "79474 non-null  category\n",
      "dtypes: category(1)\n",
      "memory usage: 698.6 KB\n"
     ]
    }
   ],
   "source": [
    "# Checking the size of the y training dataset before SMOTE was applied\n",
    "Y_train.info()"
   ]
  },
  {
   "cell_type": "code",
   "execution_count": 17,
   "id": "8302f563",
   "metadata": {
    "id": "8302f563"
   },
   "outputs": [
    {
     "name": "stdout",
     "output_type": "stream",
     "text": [
      "<class 'pandas.core.series.Series'>\n",
      "RangeIndex: 125919 entries, 0 to 125918\n",
      "Series name: readmitted\n",
      "Non-Null Count   Dtype   \n",
      "--------------   -----   \n",
      "125919 non-null  category\n",
      "dtypes: category(1)\n",
      "memory usage: 123.2 KB\n"
     ]
    }
   ],
   "source": [
    "# Checking the size of the y training dataset after SMOTE was applied\n",
    "Y_train_resampled.info()"
   ]
  },
  {
   "cell_type": "markdown",
   "id": "e455c4e4",
   "metadata": {},
   "source": [
    "## Variance Threshold"
   ]
  },
  {
   "cell_type": "code",
   "execution_count": 18,
   "id": "610cb977",
   "metadata": {},
   "outputs": [
    {
     "data": {
      "text/plain": [
       "'Low variance features to be dropped:'"
      ]
     },
     "metadata": {},
     "output_type": "display_data"
    },
    {
     "data": {
      "text/plain": [
       "['gender_Missing',\n",
       " 'age_[0-10)',\n",
       " 'age_[10-20)',\n",
       " 'age_[20-30)',\n",
       " 'age_[30-40)',\n",
       " 'age_[40-50)',\n",
       " 'age_[90-100)',\n",
       " 'admission_type_id_Missing',\n",
       " 'admission_type_id_Trauma Centre',\n",
       " 'discharge_disposition_id_2',\n",
       " 'discharge_disposition_id_4',\n",
       " 'discharge_disposition_id_5',\n",
       " 'discharge_disposition_id_7',\n",
       " 'discharge_disposition_id_8',\n",
       " 'discharge_disposition_id_9',\n",
       " 'discharge_disposition_id_12',\n",
       " 'discharge_disposition_id_15',\n",
       " 'discharge_disposition_id_16',\n",
       " 'discharge_disposition_id_17',\n",
       " 'discharge_disposition_id_22',\n",
       " 'discharge_disposition_id_23',\n",
       " 'discharge_disposition_id_24',\n",
       " 'discharge_disposition_id_27',\n",
       " 'discharge_disposition_id_28',\n",
       " 'discharge_disposition_id_999',\n",
       " 'max_glu_serum_>200',\n",
       " 'max_glu_serum_>300',\n",
       " 'max_glu_serum_Norm',\n",
       " 'A1Cresult_>7',\n",
       " 'A1Cresult_>8',\n",
       " 'A1Cresult_Norm',\n",
       " 'Meglitinides_Adjusted',\n",
       " 'Meglitinides_No',\n",
       " 'Meglitinides_Steady',\n",
       " 'Thiazolidinediones_No',\n",
       " 'Thiazolidinediones_Steady',\n",
       " 'Sulfonylureas_No',\n",
       " 'Sulfonylureas_Steady',\n",
       " 'AG_Inhibitors_Adjusted',\n",
       " 'AG_Inhibitors_No',\n",
       " 'AG_Inhibitors_Steady',\n",
       " 'Metformin_No',\n",
       " 'Metformin_Steady',\n",
       " 'Admission_Source_Missing',\n",
       " 'Admission_Source_Other',\n",
       " 'Admission_Source_Transfer']"
      ]
     },
     "metadata": {},
     "output_type": "display_data"
    },
    {
     "name": "stdout",
     "output_type": "stream",
     "text": [
      "Number of features to be dropped:  46\n"
     ]
    }
   ],
   "source": [
    "# USING VARIANCE THRESHOLD TO ELIMINATE UNHELPFUL ATTRIBUTES\n",
    "\n",
    "# Turn the VarianceThreshold tool on & specify the minimum\n",
    "# variance threshold\n",
    "# The lower the threshold, the more features will be\n",
    "# considered for removal\n",
    "selector = VarianceThreshold(threshold=0.1)\n",
    "\n",
    "# Create high variance feature matrix\n",
    "# Fit and transform the data\n",
    "Xnew = selector.fit_transform(X_train_resampled)\n",
    "\n",
    "# Get the indices of the features that were selected\n",
    "selected_features_indices = selector.get_support(indices=True)\n",
    "\n",
    "# Create a list of the attribute names\n",
    "feature_names = X_train_resampled.columns\n",
    "\n",
    "# Get the feature names with low variance\n",
    "low_variance_features = [feature_names[i] for i in range(len(feature_names)) if i not in selected_features_indices]\n",
    "\n",
    "# Print the low variance features\n",
    "display(\"Low variance features to be dropped:\", low_variance_features)\n",
    "print(\"Number of features to be dropped: \", len(low_variance_features))"
   ]
  },
  {
   "cell_type": "code",
   "execution_count": 19,
   "id": "f81ba151",
   "metadata": {},
   "outputs": [],
   "source": [
    "# Make changes to X_train_resampled dataset\n",
    "# Drop low variance features from dataset\n",
    "X_train_LowVariance = X_train_resampled.drop(low_variance_features, axis=1)"
   ]
  },
  {
   "cell_type": "code",
   "execution_count": 20,
   "id": "b597b10c",
   "metadata": {},
   "outputs": [
    {
     "name": "stdout",
     "output_type": "stream",
     "text": [
      "X_train before changes:  (125919, 75)\n",
      "X_train after changes:  (125919, 29)\n"
     ]
    }
   ],
   "source": [
    "# Verifying changes were made correctly\n",
    "print('X_train before changes: ', X_train_resampled.shape)\n",
    "print('X_train after changes: ', X_train_LowVariance.shape)"
   ]
  },
  {
   "cell_type": "code",
   "execution_count": 21,
   "id": "b9ed4f3a",
   "metadata": {},
   "outputs": [
    {
     "name": "stdout",
     "output_type": "stream",
     "text": [
      "X_test dimensions after changes:  (19869, 29)\n",
      "Y_test dimensions:  (19869,)\n"
     ]
    }
   ],
   "source": [
    "# Make changes to X_test dataset\n",
    "X_test_LowVariance = X_test.drop(low_variance_features, axis = 1)\n",
    "print('X_test dimensions after changes: ', X_test_LowVariance.shape)\n",
    "\n",
    "# Verify test datasets match in size\n",
    "print('Y_test dimensions: ', Y_test.shape)"
   ]
  },
  {
   "cell_type": "code",
   "execution_count": 22,
   "id": "7f9ab5a0",
   "metadata": {},
   "outputs": [
    {
     "data": {
      "text/plain": [
       "<function matplotlib.pyplot.show(close=None, block=None)>"
      ]
     },
     "execution_count": 22,
     "metadata": {},
     "output_type": "execute_result"
    },
    {
     "data": {
      "image/png": "[encoded data removed]",
      "text/plain": [
       "<Figure size 1000x600 with 1 Axes>"
      ]
     },
     "metadata": {},
     "output_type": "display_data"
    }
   ],
   "source": [
    "# Plot the variances of all of the attributes in blue\n",
    "plt.figure(figsize = (10,6))\n",
    "plt.bar(range(len(feature_names)), selector.variances_, color = 'blue', alpha = 0.7, label = 'High Variance')\n",
    "\n",
    "# Show the low variance features in red\n",
    "low_variance_indices = [i for i in range(len(feature_names)) if i not in selected_features_indices]\n",
    "plt.bar(low_variance_indices, selector.variances_[low_variance_indices], color = 'red', alpha = 0.7, label = 'Low Variance')\n",
    "\n",
    "plt.axhline(y=0.1, color = 'black', linestyle = '--', label = 'Threshold')\n",
    "plt.xticks(range(len(feature_names)), feature_names, rotation = 'vertical')\n",
    "plt.xlabel('Attribute Names')\n",
    "plt.ylabel('Variance')\n",
    "plt.title('Attributes and Their Variances')\n",
    "plt.legend()\n",
    "plt.show"
   ]
  },
  {
   "cell_type": "code",
   "execution_count": null,
   "id": "5edea548",
   "metadata": {},
   "outputs": [],
   "source": []
  },
  {
   "cell_type": "code",
   "execution_count": null,
   "id": "8ac6583e",
   "metadata": {},
   "outputs": [],
   "source": []
  },
  {
   "cell_type": "code",
   "execution_count": null,
   "id": "09c5005d",
   "metadata": {
    "id": "09c5005d",
    "scrolled": false
   },
   "outputs": [],
   "source": []
  },
  {
   "cell_type": "markdown",
   "id": "efb18e71",
   "metadata": {},
   "source": [
    "## Exporting Data to Next Step"
   ]
  },
  {
   "cell_type": "code",
   "execution_count": 23,
   "id": "e48f297d",
   "metadata": {},
   "outputs": [],
   "source": [
    "# Export data to Model Building & Evaluation Notebook\n",
    "\n",
    "# If using Feature Importance from a Tree-Based Model, use this cell\n",
    "X_train_LowVariance.to_csv('Mod_3_X_train_LVar.csv', index = False)\n",
    "X_test_LowVariance.to_csv('Mod_3_X_test_LVar.csv', index = False)\n",
    "Y_train_resampled.to_csv('Mod_3_Y_LVar.csv', index = False)\n",
    "Y_test.to_csv('Mod_3_Y_test_LVar.csv', index = False)"
   ]
  },
  {
   "cell_type": "code",
   "execution_count": null,
   "id": "26d33420",
   "metadata": {},
   "outputs": [],
   "source": []
  },
  {
   "cell_type": "code",
   "execution_count": 24,
   "id": "05592b28",
   "metadata": {},
   "outputs": [
    {
     "name": "stdout",
     "output_type": "stream",
     "text": [
      "<class 'pandas.core.frame.DataFrame'>\n",
      "RangeIndex: 125919 entries, 0 to 125918\n",
      "Data columns (total 29 columns):\n",
      " #   Column                       Non-Null Count   Dtype  \n",
      "---  ------                       --------------   -----  \n",
      " 0   time_in_hospital             125919 non-null  float64\n",
      " 1   num_lab_procedures           125919 non-null  float64\n",
      " 2   num_procedures               125919 non-null  float64\n",
      " 3   num_medications              125919 non-null  float64\n",
      " 4   number_outpatient            125919 non-null  float64\n",
      " 5   number_emergency             125919 non-null  float64\n",
      " 6   number_inpatient             125919 non-null  float64\n",
      " 7   number_diagnoses             125919 non-null  float64\n",
      " 8   gender_Female                125919 non-null  int32  \n",
      " 9   gender_Male                  125919 non-null  int32  \n",
      " 10  age_[50-60)                  125919 non-null  int32  \n",
      " 11  age_[60-70)                  125919 non-null  int32  \n",
      " 12  age_[70-80)                  125919 non-null  int32  \n",
      " 13  age_[80-90)                  125919 non-null  int32  \n",
      " 14  admission_type_id_Elective   125919 non-null  int32  \n",
      " 15  admission_type_id_Emergency  125919 non-null  int32  \n",
      " 16  admission_type_id_Urgent     125919 non-null  int32  \n",
      " 17  discharge_disposition_id_1   125919 non-null  int32  \n",
      " 18  discharge_disposition_id_3   125919 non-null  int32  \n",
      " 19  discharge_disposition_id_6   125919 non-null  int32  \n",
      " 20  Insulin_Adjusted             125919 non-null  int32  \n",
      " 21  Insulin_No                   125919 non-null  int32  \n",
      " 22  Insulin_Steady               125919 non-null  int32  \n",
      " 23  change_Ch                    125919 non-null  int32  \n",
      " 24  change_No                    125919 non-null  int32  \n",
      " 25  diabetesMed_No               125919 non-null  int32  \n",
      " 26  diabetesMed_Yes              125919 non-null  int32  \n",
      " 27  Admission_Source_Emerg_Dept  125919 non-null  int32  \n",
      " 28  Admission_Source_Referral    125919 non-null  int32  \n",
      "dtypes: float64(8), int32(21)\n",
      "memory usage: 17.8 MB\n"
     ]
    }
   ],
   "source": [
    "X_train_LowVariance.info()"
   ]
  },
  {
   "cell_type": "code",
   "execution_count": null,
   "id": "bd212b2b",
   "metadata": {},
   "outputs": [],
   "source": []
  },
  {
   "cell_type": "code",
   "execution_count": null,
   "id": "7d2f2268",
   "metadata": {},
   "outputs": [],
   "source": []
  },
  {
   "cell_type": "code",
   "execution_count": null,
   "id": "a362dd2f",
   "metadata": {},
   "outputs": [],
   "source": []
  },
  {
   "cell_type": "code",
   "execution_count": null,
   "id": "6f60c036",
   "metadata": {},
   "outputs": [],
   "source": []
  },
  {
   "cell_type": "code",
   "execution_count": null,
   "id": "1c152ef7",
   "metadata": {
    "id": "1c152ef7"
   },
   "outputs": [],
   "source": []
  }
 ],
 "metadata": {
  "colab": {
   "provenance": []
  },
  "kernelspec": {
   "display_name": "Python 3 (ipykernel)",
   "language": "python",
   "name": "python3"
  },
  "language_info": {
   "codemirror_mode": {
    "name": "ipython",
    "version": 3
   },
   "file_extension": ".py",
   "mimetype": "text/x-python",
   "name": "python",
   "nbconvert_exporter": "python",
   "pygments_lexer": "ipython3",
   "version": "3.11.4"
  }
 },
 "nbformat": 4,
 "nbformat_minor": 5
}
