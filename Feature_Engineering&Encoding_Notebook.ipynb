{
 "cells": [
  {
   "cell_type": "markdown",
   "id": "9d928b6e",
   "metadata": {},
   "source": [
    "## Feature Engineering & Encoding"
   ]
  },
  {
   "cell_type": "code",
   "execution_count": 1,
   "id": "e5eda396",
   "metadata": {
    "scrolled": false
   },
   "outputs": [
    {
     "name": "stderr",
     "output_type": "stream",
     "text": [
      "C:\\Users\\Ingli\\anaconda3\\Lib\\site-packages\\numba\\core\\decorators.py:262: NumbaDeprecationWarning: \u001b[1mnumba.generated_jit is deprecated. Please see the documentation at: https://numba.readthedocs.io/en/stable/reference/deprecation.html#deprecation-of-generated-jit for more information and advice on a suitable replacement.\u001b[0m\n",
      "  warnings.warn(msg, NumbaDeprecationWarning)\n",
      "C:\\Users\\Ingli\\anaconda3\\Lib\\site-packages\\visions\\backends\\shared\\nan_handling.py:50: NumbaDeprecationWarning: \u001b[1mThe 'nopython' keyword argument was not supplied to the 'numba.jit' decorator. The implicit default value for this argument is currently False, but it will be changed to True in Numba 0.59.0. See https://numba.readthedocs.io/en/stable/reference/deprecation.html#deprecation-of-object-mode-fall-back-behaviour-when-using-jit for details.\u001b[0m\n",
      "  @nb.jit\n"
     ]
    }
   ],
   "source": [
    "# Import the libraries needed\n",
    "\n",
    "import pandas as pd\n",
    "from ydata_profiling import ProfileReport\n",
    "import numpy as np\n",
    "import seaborn as sns\n",
    "from sklearn.preprocessing import OneHotEncoder\n",
    "from sklearn.feature_selection import VarianceThreshold, SelectKBest, f_classif, RFE\n",
    "from sklearn.ensemble import RandomForestClassifier\n",
    "from sklearn.tree import DecisionTreeClassifier\n",
    "import matplotlib.pyplot as plt\n",
    "import time\n"
   ]
  },
  {
   "cell_type": "code",
   "execution_count": 2,
   "id": "6151c3c1",
   "metadata": {
    "scrolled": false
   },
   "outputs": [],
   "source": [
    "# ******************************************************\n",
    "# TWO CHANGES NEED TO BE MADE TO THIS NOTEBOOK IF 'RACE'\n",
    "# ATTRIBUTE IS REMOVED\n",
    "# ******************************************************"
   ]
  },
  {
   "cell_type": "code",
   "execution_count": 3,
   "id": "ecb76c4e",
   "metadata": {
    "scrolled": false
   },
   "outputs": [],
   "source": [
    "# Read in the dataset passed from the last module\n",
    "\n",
    "data = pd.read_csv('Mod_2_data_to_pass.csv')"
   ]
  },
  {
   "cell_type": "code",
   "execution_count": 4,
   "id": "b4e7d0f1",
   "metadata": {
    "scrolled": true
   },
   "outputs": [
    {
     "name": "stdout",
     "output_type": "stream",
     "text": [
      "<class 'pandas.core.frame.DataFrame'>\n",
      "RangeIndex: 99343 entries, 0 to 99342\n",
      "Data columns (total 27 columns):\n",
      " #   Column                    Non-Null Count  Dtype \n",
      "---  ------                    --------------  ----- \n",
      " 0   gender                    99343 non-null  object\n",
      " 1   age                       99343 non-null  object\n",
      " 2   admission_type_id         99343 non-null  object\n",
      " 3   discharge_disposition_id  99343 non-null  int64 \n",
      " 4   time_in_hospital          99343 non-null  int64 \n",
      " 5   num_lab_procedures        99343 non-null  int64 \n",
      " 6   num_procedures            99343 non-null  int64 \n",
      " 7   num_medications           99343 non-null  int64 \n",
      " 8   number_outpatient         99343 non-null  int64 \n",
      " 9   number_emergency          99343 non-null  int64 \n",
      " 10  number_inpatient          99343 non-null  int64 \n",
      " 11  diag_1                    99323 non-null  object\n",
      " 12  diag_2                    98987 non-null  object\n",
      " 13  diag_3                    97924 non-null  object\n",
      " 14  number_diagnoses          99343 non-null  int64 \n",
      " 15  max_glu_serum             5152 non-null   object\n",
      " 16  A1Cresult                 16834 non-null  object\n",
      " 17  change                    99343 non-null  object\n",
      " 18  diabetesMed               99343 non-null  object\n",
      " 19  readmitted                99343 non-null  object\n",
      " 20  Meglitinides              99343 non-null  object\n",
      " 21  Thiazolidinediones        99343 non-null  object\n",
      " 22  Sulfonylureas             99343 non-null  object\n",
      " 23  AG_Inhibitors             99343 non-null  object\n",
      " 24  Metformin                 99343 non-null  object\n",
      " 25  Insulin                   99343 non-null  object\n",
      " 26  Admission_Source          99343 non-null  object\n",
      "dtypes: int64(9), object(18)\n",
      "memory usage: 20.5+ MB\n"
     ]
    }
   ],
   "source": [
    "data.info()"
   ]
  },
  {
   "cell_type": "code",
   "execution_count": 5,
   "id": "664de38e",
   "metadata": {
    "scrolled": false
   },
   "outputs": [],
   "source": [
    "# Change data types to categories\n",
    "\n",
    "cat_list = ['gender', 'age', 'admission_type_id', 'discharge_disposition_id',\n",
    "            'diag_1', 'diag_2', 'diag_3', 'max_glu_serum', 'A1Cresult', 'change',\n",
    "           'diabetesMed', 'readmitted', 'Meglitinides', 'Thiazolidinediones',\n",
    "           'Sulfonylureas', 'AG_Inhibitors', 'Metformin', 'Insulin', 'Admission_Source']\n",
    "\n",
    "#cat_list.append('race')\n",
    "\n",
    "for item in cat_list:\n",
    "    data[item] = data[item].astype('category')\n",
    "    \n"
   ]
  },
  {
   "cell_type": "code",
   "execution_count": 6,
   "id": "11d8606d",
   "metadata": {
    "scrolled": true
   },
   "outputs": [
    {
     "name": "stdout",
     "output_type": "stream",
     "text": [
      "<class 'pandas.core.frame.DataFrame'>\n",
      "RangeIndex: 99343 entries, 0 to 99342\n",
      "Data columns (total 27 columns):\n",
      " #   Column                    Non-Null Count  Dtype   \n",
      "---  ------                    --------------  -----   \n",
      " 0   gender                    99343 non-null  category\n",
      " 1   age                       99343 non-null  category\n",
      " 2   admission_type_id         99343 non-null  category\n",
      " 3   discharge_disposition_id  99343 non-null  category\n",
      " 4   time_in_hospital          99343 non-null  int64   \n",
      " 5   num_lab_procedures        99343 non-null  int64   \n",
      " 6   num_procedures            99343 non-null  int64   \n",
      " 7   num_medications           99343 non-null  int64   \n",
      " 8   number_outpatient         99343 non-null  int64   \n",
      " 9   number_emergency          99343 non-null  int64   \n",
      " 10  number_inpatient          99343 non-null  int64   \n",
      " 11  diag_1                    99323 non-null  category\n",
      " 12  diag_2                    98987 non-null  category\n",
      " 13  diag_3                    97924 non-null  category\n",
      " 14  number_diagnoses          99343 non-null  int64   \n",
      " 15  max_glu_serum             5152 non-null   category\n",
      " 16  A1Cresult                 16834 non-null  category\n",
      " 17  change                    99343 non-null  category\n",
      " 18  diabetesMed               99343 non-null  category\n",
      " 19  readmitted                99343 non-null  category\n",
      " 20  Meglitinides              99343 non-null  category\n",
      " 21  Thiazolidinediones        99343 non-null  category\n",
      " 22  Sulfonylureas             99343 non-null  category\n",
      " 23  AG_Inhibitors             99343 non-null  category\n",
      " 24  Metformin                 99343 non-null  category\n",
      " 25  Insulin                   99343 non-null  category\n",
      " 26  Admission_Source          99343 non-null  category\n",
      "dtypes: category(19), int64(8)\n",
      "memory usage: 8.2 MB\n"
     ]
    }
   ],
   "source": [
    "data.info()"
   ]
  },
  {
   "cell_type": "markdown",
   "id": "3dfacac9",
   "metadata": {},
   "source": [
    "## One Hot Encoding"
   ]
  },
  {
   "cell_type": "code",
   "execution_count": 7,
   "id": "6f91247b",
   "metadata": {
    "scrolled": false
   },
   "outputs": [
    {
     "name": "stderr",
     "output_type": "stream",
     "text": [
      "C:\\Users\\Ingli\\AppData\\Local\\Temp\\ipykernel_8796\\3445418309.py:8: DeprecationWarning: `np.int` is a deprecated alias for the builtin `int`. To silence this warning, use `int` by itself. Doing this will not modify any behavior and is safe. When replacing `np.int`, you may wish to use e.g. `np.int64` or `np.int32` to specify the precision. If you wish to review your current use, check the release note link for additional information.\n",
      "Deprecated in NumPy 1.20; for more details and guidance: https://numpy.org/devdocs/release/1.20.0-notes.html#deprecations\n",
      "  encoder = OneHotEncoder(sparse_output = False, dtype = np.int)\n"
     ]
    }
   ],
   "source": [
    "# ONE HOT ENCODING IN A LOOP\n",
    "# DRUGS NOT INCLUDED\n",
    "# USE ONE-HOT ENCODING TO BINARIZE CATEGORICAL ATTRIBUTES\n",
    "\n",
    "\n",
    "# Create one hot encoder (start the tool)\n",
    "# ?? Don't understand what 'sparse_output = False' does\n",
    "encoder = OneHotEncoder(sparse_output = False, dtype = np.int)\n",
    "\n",
    "# Create a new dataframe to store the one-hot encoded data\n",
    "encoded_dataframes = []\n",
    "\n",
    "# Create a list of all the categorical columns to be one-hot encoded\n",
    "cat_columns = ['gender', 'age', 'admission_type_id', \n",
    "               'discharge_disposition_id', 'max_glu_serum', 'A1Cresult', \n",
    "               'Meglitinides', 'Thiazolidinediones', 'Sulfonylureas', \n",
    "               'AG_Inhibitors', 'Metformin', 'Insulin', 'change', \n",
    "               'diabetesMed', 'readmitted', 'Admission_Source']\n",
    "\n",
    "#cat_columns.append('race')\n",
    "\n",
    "for column in cat_columns:\n",
    "    # Get data to be encoded from original dataset\n",
    "    column_data = data[[column]]\n",
    "    \n",
    "    # Use the encoder\n",
    "    encoded_data = encoder.fit_transform(column_data)\n",
    "    \n",
    "    # Create a temporary dataframe to hold encoded data\n",
    "    temp_encoded_data = pd.DataFrame(encoded_data, columns = encoder.get_feature_names_out([column]))\n",
    "    \n",
    "    # Add the encoded dataframe to the list created above\n",
    "    encoded_dataframes.append(temp_encoded_data)\n",
    "\n",
    "# Concat all the encoded dataframes in the temp_encoded_data list\n",
    "completed_dataframe = pd.concat(encoded_dataframes, axis = 1)\n",
    "\n",
    "# Remove the original columns from test3\n",
    "data_copy = data.copy()\n",
    "data_copy = data_copy.drop(cat_columns, axis = 1)\n",
    "\n",
    "    \n",
    "# Put the remaining original data columns together with the encoded dataframe\n",
    "data = pd.concat([data_copy, completed_dataframe], axis=1)"
   ]
  },
  {
   "cell_type": "code",
   "execution_count": 8,
   "id": "6f266ff3",
   "metadata": {
    "scrolled": true
   },
   "outputs": [
    {
     "name": "stdout",
     "output_type": "stream",
     "text": [
      "<class 'pandas.core.frame.DataFrame'>\n",
      "RangeIndex: 99343 entries, 0 to 99342\n",
      "Data columns (total 83 columns):\n",
      " #   Column                           Non-Null Count  Dtype   \n",
      "---  ------                           --------------  -----   \n",
      " 0   time_in_hospital                 99343 non-null  int64   \n",
      " 1   num_lab_procedures               99343 non-null  int64   \n",
      " 2   num_procedures                   99343 non-null  int64   \n",
      " 3   num_medications                  99343 non-null  int64   \n",
      " 4   number_outpatient                99343 non-null  int64   \n",
      " 5   number_emergency                 99343 non-null  int64   \n",
      " 6   number_inpatient                 99343 non-null  int64   \n",
      " 7   diag_1                           99323 non-null  category\n",
      " 8   diag_2                           98987 non-null  category\n",
      " 9   diag_3                           97924 non-null  category\n",
      " 10  number_diagnoses                 99343 non-null  int64   \n",
      " 11  gender_Female                    99343 non-null  int32   \n",
      " 12  gender_Male                      99343 non-null  int32   \n",
      " 13  gender_Missing                   99343 non-null  int32   \n",
      " 14  age_[0-10)                       99343 non-null  int32   \n",
      " 15  age_[10-20)                      99343 non-null  int32   \n",
      " 16  age_[20-30)                      99343 non-null  int32   \n",
      " 17  age_[30-40)                      99343 non-null  int32   \n",
      " 18  age_[40-50)                      99343 non-null  int32   \n",
      " 19  age_[50-60)                      99343 non-null  int32   \n",
      " 20  age_[60-70)                      99343 non-null  int32   \n",
      " 21  age_[70-80)                      99343 non-null  int32   \n",
      " 22  age_[80-90)                      99343 non-null  int32   \n",
      " 23  age_[90-100)                     99343 non-null  int32   \n",
      " 24  admission_type_id_Elective       99343 non-null  int32   \n",
      " 25  admission_type_id_Emergency      99343 non-null  int32   \n",
      " 26  admission_type_id_Missing        99343 non-null  int32   \n",
      " 27  admission_type_id_Trauma Centre  99343 non-null  int32   \n",
      " 28  admission_type_id_Urgent         99343 non-null  int32   \n",
      " 29  discharge_disposition_id_1       99343 non-null  int32   \n",
      " 30  discharge_disposition_id_2       99343 non-null  int32   \n",
      " 31  discharge_disposition_id_3       99343 non-null  int32   \n",
      " 32  discharge_disposition_id_4       99343 non-null  int32   \n",
      " 33  discharge_disposition_id_5       99343 non-null  int32   \n",
      " 34  discharge_disposition_id_6       99343 non-null  int32   \n",
      " 35  discharge_disposition_id_7       99343 non-null  int32   \n",
      " 36  discharge_disposition_id_8       99343 non-null  int32   \n",
      " 37  discharge_disposition_id_9       99343 non-null  int32   \n",
      " 38  discharge_disposition_id_12      99343 non-null  int32   \n",
      " 39  discharge_disposition_id_15      99343 non-null  int32   \n",
      " 40  discharge_disposition_id_16      99343 non-null  int32   \n",
      " 41  discharge_disposition_id_17      99343 non-null  int32   \n",
      " 42  discharge_disposition_id_22      99343 non-null  int32   \n",
      " 43  discharge_disposition_id_23      99343 non-null  int32   \n",
      " 44  discharge_disposition_id_24      99343 non-null  int32   \n",
      " 45  discharge_disposition_id_27      99343 non-null  int32   \n",
      " 46  discharge_disposition_id_28      99343 non-null  int32   \n",
      " 47  discharge_disposition_id_999     99343 non-null  int32   \n",
      " 48  max_glu_serum_>200               99343 non-null  int32   \n",
      " 49  max_glu_serum_>300               99343 non-null  int32   \n",
      " 50  max_glu_serum_Norm               99343 non-null  int32   \n",
      " 51  max_glu_serum_nan                99343 non-null  int32   \n",
      " 52  A1Cresult_>7                     99343 non-null  int32   \n",
      " 53  A1Cresult_>8                     99343 non-null  int32   \n",
      " 54  A1Cresult_Norm                   99343 non-null  int32   \n",
      " 55  A1Cresult_nan                    99343 non-null  int32   \n",
      " 56  Meglitinides_Adjusted            99343 non-null  int32   \n",
      " 57  Meglitinides_No                  99343 non-null  int32   \n",
      " 58  Meglitinides_Steady              99343 non-null  int32   \n",
      " 59  Thiazolidinediones_No            99343 non-null  int32   \n",
      " 60  Thiazolidinediones_Steady        99343 non-null  int32   \n",
      " 61  Sulfonylureas_No                 99343 non-null  int32   \n",
      " 62  Sulfonylureas_Steady             99343 non-null  int32   \n",
      " 63  AG_Inhibitors_Adjusted           99343 non-null  int32   \n",
      " 64  AG_Inhibitors_No                 99343 non-null  int32   \n",
      " 65  AG_Inhibitors_Steady             99343 non-null  int32   \n",
      " 66  Metformin_No                     99343 non-null  int32   \n",
      " 67  Metformin_Steady                 99343 non-null  int32   \n",
      " 68  Insulin_Adjusted                 99343 non-null  int32   \n",
      " 69  Insulin_No                       99343 non-null  int32   \n",
      " 70  Insulin_Steady                   99343 non-null  int32   \n",
      " 71  change_Ch                        99343 non-null  int32   \n",
      " 72  change_No                        99343 non-null  int32   \n",
      " 73  diabetesMed_No                   99343 non-null  int32   \n",
      " 74  diabetesMed_Yes                  99343 non-null  int32   \n",
      " 75  readmitted_<30                   99343 non-null  int32   \n",
      " 76  readmitted_>30                   99343 non-null  int32   \n",
      " 77  readmitted_NO                    99343 non-null  int32   \n",
      " 78  Admission_Source_Emerg_Dept      99343 non-null  int32   \n",
      " 79  Admission_Source_Missing         99343 non-null  int32   \n",
      " 80  Admission_Source_Other           99343 non-null  int32   \n",
      " 81  Admission_Source_Referral        99343 non-null  int32   \n",
      " 82  Admission_Source_Transfer        99343 non-null  int32   \n",
      "dtypes: category(3), int32(72), int64(8)\n",
      "memory usage: 34.0 MB\n"
     ]
    }
   ],
   "source": [
    "data.info()"
   ]
  },
  {
   "cell_type": "markdown",
   "id": "cfaa036f",
   "metadata": {},
   "source": [
    "## X and Y"
   ]
  },
  {
   "cell_type": "code",
   "execution_count": 9,
   "id": "3cf8a698",
   "metadata": {},
   "outputs": [],
   "source": [
    "# Create feature matrix X (independent variables) and target matrix Y (dependent variables)"
   ]
  },
  {
   "cell_type": "code",
   "execution_count": 10,
   "id": "253b4a3e",
   "metadata": {},
   "outputs": [
    {
     "data": {
      "text/html": [
       "<div>\n",
       "<style scoped>\n",
       "    .dataframe tbody tr th:only-of-type {\n",
       "        vertical-align: middle;\n",
       "    }\n",
       "\n",
       "    .dataframe tbody tr th {\n",
       "        vertical-align: top;\n",
       "    }\n",
       "\n",
       "    .dataframe thead th {\n",
       "        text-align: right;\n",
       "    }\n",
       "</style>\n",
       "<table border=\"1\" class=\"dataframe\">\n",
       "  <thead>\n",
       "    <tr style=\"text-align: right;\">\n",
       "      <th></th>\n",
       "      <th>time_in_hospital</th>\n",
       "      <th>num_lab_procedures</th>\n",
       "      <th>num_procedures</th>\n",
       "      <th>num_medications</th>\n",
       "      <th>number_outpatient</th>\n",
       "      <th>number_emergency</th>\n",
       "      <th>number_inpatient</th>\n",
       "      <th>number_diagnoses</th>\n",
       "      <th>gender_Female</th>\n",
       "      <th>gender_Male</th>\n",
       "      <th>...</th>\n",
       "      <th>Insulin_Steady</th>\n",
       "      <th>change_Ch</th>\n",
       "      <th>change_No</th>\n",
       "      <th>diabetesMed_No</th>\n",
       "      <th>diabetesMed_Yes</th>\n",
       "      <th>Admission_Source_Emerg_Dept</th>\n",
       "      <th>Admission_Source_Missing</th>\n",
       "      <th>Admission_Source_Other</th>\n",
       "      <th>Admission_Source_Referral</th>\n",
       "      <th>Admission_Source_Transfer</th>\n",
       "    </tr>\n",
       "  </thead>\n",
       "  <tbody>\n",
       "    <tr>\n",
       "      <th>0</th>\n",
       "      <td>1</td>\n",
       "      <td>41</td>\n",
       "      <td>0</td>\n",
       "      <td>1</td>\n",
       "      <td>0</td>\n",
       "      <td>0</td>\n",
       "      <td>0</td>\n",
       "      <td>1</td>\n",
       "      <td>1</td>\n",
       "      <td>0</td>\n",
       "      <td>...</td>\n",
       "      <td>0</td>\n",
       "      <td>0</td>\n",
       "      <td>1</td>\n",
       "      <td>1</td>\n",
       "      <td>0</td>\n",
       "      <td>0</td>\n",
       "      <td>0</td>\n",
       "      <td>0</td>\n",
       "      <td>1</td>\n",
       "      <td>0</td>\n",
       "    </tr>\n",
       "    <tr>\n",
       "      <th>1</th>\n",
       "      <td>3</td>\n",
       "      <td>59</td>\n",
       "      <td>0</td>\n",
       "      <td>18</td>\n",
       "      <td>0</td>\n",
       "      <td>0</td>\n",
       "      <td>0</td>\n",
       "      <td>9</td>\n",
       "      <td>1</td>\n",
       "      <td>0</td>\n",
       "      <td>...</td>\n",
       "      <td>0</td>\n",
       "      <td>1</td>\n",
       "      <td>0</td>\n",
       "      <td>0</td>\n",
       "      <td>1</td>\n",
       "      <td>1</td>\n",
       "      <td>0</td>\n",
       "      <td>0</td>\n",
       "      <td>0</td>\n",
       "      <td>0</td>\n",
       "    </tr>\n",
       "  </tbody>\n",
       "</table>\n",
       "<p>2 rows × 77 columns</p>\n",
       "</div>"
      ],
      "text/plain": [
       "   time_in_hospital  num_lab_procedures  num_procedures  num_medications  \\\n",
       "0                 1                  41               0                1   \n",
       "1                 3                  59               0               18   \n",
       "\n",
       "   number_outpatient  number_emergency  number_inpatient  number_diagnoses  \\\n",
       "0                  0                 0                 0                 1   \n",
       "1                  0                 0                 0                 9   \n",
       "\n",
       "   gender_Female  gender_Male  ...  Insulin_Steady  change_Ch  change_No  \\\n",
       "0              1            0  ...               0          0          1   \n",
       "1              1            0  ...               0          1          0   \n",
       "\n",
       "   diabetesMed_No  diabetesMed_Yes  Admission_Source_Emerg_Dept  \\\n",
       "0               1                0                            0   \n",
       "1               0                1                            1   \n",
       "\n",
       "   Admission_Source_Missing  Admission_Source_Other  \\\n",
       "0                         0                       0   \n",
       "1                         0                       0   \n",
       "\n",
       "   Admission_Source_Referral  Admission_Source_Transfer  \n",
       "0                          1                          0  \n",
       "1                          0                          0  \n",
       "\n",
       "[2 rows x 77 columns]"
      ]
     },
     "metadata": {},
     "output_type": "display_data"
    },
    {
     "data": {
      "text/html": [
       "<div>\n",
       "<style scoped>\n",
       "    .dataframe tbody tr th:only-of-type {\n",
       "        vertical-align: middle;\n",
       "    }\n",
       "\n",
       "    .dataframe tbody tr th {\n",
       "        vertical-align: top;\n",
       "    }\n",
       "\n",
       "    .dataframe thead th {\n",
       "        text-align: right;\n",
       "    }\n",
       "</style>\n",
       "<table border=\"1\" class=\"dataframe\">\n",
       "  <thead>\n",
       "    <tr style=\"text-align: right;\">\n",
       "      <th></th>\n",
       "      <th>readmitted_&lt;30</th>\n",
       "      <th>readmitted_&gt;30</th>\n",
       "      <th>readmitted_NO</th>\n",
       "    </tr>\n",
       "  </thead>\n",
       "  <tbody>\n",
       "    <tr>\n",
       "      <th>0</th>\n",
       "      <td>0</td>\n",
       "      <td>0</td>\n",
       "      <td>1</td>\n",
       "    </tr>\n",
       "    <tr>\n",
       "      <th>1</th>\n",
       "      <td>0</td>\n",
       "      <td>1</td>\n",
       "      <td>0</td>\n",
       "    </tr>\n",
       "  </tbody>\n",
       "</table>\n",
       "</div>"
      ],
      "text/plain": [
       "   readmitted_<30  readmitted_>30  readmitted_NO\n",
       "0               0               0              1\n",
       "1               0               1              0"
      ]
     },
     "metadata": {},
     "output_type": "display_data"
    }
   ],
   "source": [
    "# Separate dataset into independent variables and dependent variables\n",
    "# X = indep var's = predictors = features\n",
    "# Y = dep var's = target variables = what we want to predict\n",
    "\n",
    "X = data.drop(columns=['readmitted_<30', 'readmitted_>30', 'readmitted_NO', 'diag_1', 'diag_2', 'diag_3'])\n",
    "\n",
    "Y = pd.concat([data['readmitted_<30'], data['readmitted_>30'], data['readmitted_NO']], axis = 1)\n",
    "\n",
    "display(X.head(2))\n",
    "display(Y.head(2))"
   ]
  },
  {
   "cell_type": "code",
   "execution_count": 11,
   "id": "190478c4",
   "metadata": {},
   "outputs": [
    {
     "data": {
      "text/plain": [
       "['time_in_hospital',\n",
       " 'num_lab_procedures',\n",
       " 'num_procedures',\n",
       " 'num_medications',\n",
       " 'number_outpatient',\n",
       " 'number_emergency',\n",
       " 'number_inpatient',\n",
       " 'number_diagnoses',\n",
       " 'gender_Female',\n",
       " 'gender_Male',\n",
       " 'gender_Missing',\n",
       " 'age_[0-10)',\n",
       " 'age_[10-20)',\n",
       " 'age_[20-30)',\n",
       " 'age_[30-40)',\n",
       " 'age_[40-50)',\n",
       " 'age_[50-60)',\n",
       " 'age_[60-70)',\n",
       " 'age_[70-80)',\n",
       " 'age_[80-90)',\n",
       " 'age_[90-100)',\n",
       " 'admission_type_id_Elective',\n",
       " 'admission_type_id_Emergency',\n",
       " 'admission_type_id_Missing',\n",
       " 'admission_type_id_Trauma Centre',\n",
       " 'admission_type_id_Urgent',\n",
       " 'discharge_disposition_id_1',\n",
       " 'discharge_disposition_id_2',\n",
       " 'discharge_disposition_id_3',\n",
       " 'discharge_disposition_id_4',\n",
       " 'discharge_disposition_id_5',\n",
       " 'discharge_disposition_id_6',\n",
       " 'discharge_disposition_id_7',\n",
       " 'discharge_disposition_id_8',\n",
       " 'discharge_disposition_id_9',\n",
       " 'discharge_disposition_id_12',\n",
       " 'discharge_disposition_id_15',\n",
       " 'discharge_disposition_id_16',\n",
       " 'discharge_disposition_id_17',\n",
       " 'discharge_disposition_id_22',\n",
       " 'discharge_disposition_id_23',\n",
       " 'discharge_disposition_id_24',\n",
       " 'discharge_disposition_id_27',\n",
       " 'discharge_disposition_id_28',\n",
       " 'discharge_disposition_id_999',\n",
       " 'max_glu_serum_>200',\n",
       " 'max_glu_serum_>300',\n",
       " 'max_glu_serum_Norm',\n",
       " 'max_glu_serum_nan',\n",
       " 'A1Cresult_>7',\n",
       " 'A1Cresult_>8',\n",
       " 'A1Cresult_Norm',\n",
       " 'A1Cresult_nan',\n",
       " 'Meglitinides_Adjusted',\n",
       " 'Meglitinides_No',\n",
       " 'Meglitinides_Steady',\n",
       " 'Thiazolidinediones_No',\n",
       " 'Thiazolidinediones_Steady',\n",
       " 'Sulfonylureas_No',\n",
       " 'Sulfonylureas_Steady',\n",
       " 'AG_Inhibitors_Adjusted',\n",
       " 'AG_Inhibitors_No',\n",
       " 'AG_Inhibitors_Steady',\n",
       " 'Metformin_No',\n",
       " 'Metformin_Steady',\n",
       " 'Insulin_Adjusted',\n",
       " 'Insulin_No',\n",
       " 'Insulin_Steady',\n",
       " 'change_Ch',\n",
       " 'change_No',\n",
       " 'diabetesMed_No',\n",
       " 'diabetesMed_Yes',\n",
       " 'Admission_Source_Emerg_Dept',\n",
       " 'Admission_Source_Missing',\n",
       " 'Admission_Source_Other',\n",
       " 'Admission_Source_Referral',\n",
       " 'Admission_Source_Transfer']"
      ]
     },
     "execution_count": 11,
     "metadata": {},
     "output_type": "execute_result"
    }
   ],
   "source": [
    "# Create a list of the attribute names\n",
    "\n",
    "feature_names = X.columns.tolist()\n",
    "feature_names"
   ]
  },
  {
   "cell_type": "markdown",
   "id": "b0485cba",
   "metadata": {},
   "source": [
    "## Variance Threshold"
   ]
  },
  {
   "cell_type": "code",
   "execution_count": 12,
   "id": "2dd39f5c",
   "metadata": {
    "scrolled": false
   },
   "outputs": [
    {
     "name": "stdout",
     "output_type": "stream",
     "text": [
      "Low variance features to be dropped: ['gender_Missing', 'age_[0-10)', 'age_[10-20)', 'admission_type_id_Trauma Centre', 'discharge_disposition_id_4', 'discharge_disposition_id_7', 'discharge_disposition_id_8', 'discharge_disposition_id_9', 'discharge_disposition_id_12', 'discharge_disposition_id_15', 'discharge_disposition_id_16', 'discharge_disposition_id_17', 'discharge_disposition_id_23', 'discharge_disposition_id_24', 'discharge_disposition_id_27', 'discharge_disposition_id_28', 'Meglitinides_Adjusted', 'Thiazolidinediones_No', 'Thiazolidinediones_Steady', 'Sulfonylureas_No', 'Sulfonylureas_Steady', 'AG_Inhibitors_Adjusted', 'AG_Inhibitors_No', 'AG_Inhibitors_Steady', 'Metformin_No', 'Metformin_Steady', 'Admission_Source_Other']\n"
     ]
    }
   ],
   "source": [
    "# Turn the VarianceThreshold tool on & specify the minimum \n",
    "# variance threshold\n",
    "# The lower the threshold, the more features will be \n",
    "# considered for removal\n",
    "selector = VarianceThreshold(threshold=0.01)\n",
    "\n",
    "# Create high variance feature matrix\n",
    "# Fit and transform the data\n",
    "Xnew = selector.fit_transform(X)\n",
    "\n",
    "# Get the indices of the features that were selected\n",
    "selected_features_indices = selector.get_support(indices=True)\n",
    "\n",
    "# Get the feature names with low variance\n",
    "low_variance_features = [feature_names[i] for i in range(len(feature_names)) if i not in selected_features_indices]\n",
    "\n",
    "# Print the low variance features\n",
    "print(\"Low variance features to be dropped:\", low_variance_features)"
   ]
  },
  {
   "cell_type": "code",
   "execution_count": 13,
   "id": "5c75548b",
   "metadata": {
    "scrolled": false
   },
   "outputs": [
    {
     "data": {
      "text/plain": [
       "27"
      ]
     },
     "execution_count": 13,
     "metadata": {},
     "output_type": "execute_result"
    }
   ],
   "source": [
    "len(low_variance_features)"
   ]
  },
  {
   "cell_type": "code",
   "execution_count": 14,
   "id": "80604727",
   "metadata": {
    "scrolled": false
   },
   "outputs": [],
   "source": [
    "# ********** MAY NOT WANT TO DO THIS CODE ************************\n",
    "\n",
    "# Drop low variance features from dataset\n",
    "X = X.drop(low_variance_features, axis=1)"
   ]
  },
  {
   "cell_type": "code",
   "execution_count": 15,
   "id": "3e2def47",
   "metadata": {
    "scrolled": true
   },
   "outputs": [
    {
     "name": "stdout",
     "output_type": "stream",
     "text": [
      "<class 'pandas.core.frame.DataFrame'>\n",
      "RangeIndex: 99343 entries, 0 to 99342\n",
      "Data columns (total 50 columns):\n",
      " #   Column                        Non-Null Count  Dtype\n",
      "---  ------                        --------------  -----\n",
      " 0   time_in_hospital              99343 non-null  int64\n",
      " 1   num_lab_procedures            99343 non-null  int64\n",
      " 2   num_procedures                99343 non-null  int64\n",
      " 3   num_medications               99343 non-null  int64\n",
      " 4   number_outpatient             99343 non-null  int64\n",
      " 5   number_emergency              99343 non-null  int64\n",
      " 6   number_inpatient              99343 non-null  int64\n",
      " 7   number_diagnoses              99343 non-null  int64\n",
      " 8   gender_Female                 99343 non-null  int32\n",
      " 9   gender_Male                   99343 non-null  int32\n",
      " 10  age_[20-30)                   99343 non-null  int32\n",
      " 11  age_[30-40)                   99343 non-null  int32\n",
      " 12  age_[40-50)                   99343 non-null  int32\n",
      " 13  age_[50-60)                   99343 non-null  int32\n",
      " 14  age_[60-70)                   99343 non-null  int32\n",
      " 15  age_[70-80)                   99343 non-null  int32\n",
      " 16  age_[80-90)                   99343 non-null  int32\n",
      " 17  age_[90-100)                  99343 non-null  int32\n",
      " 18  admission_type_id_Elective    99343 non-null  int32\n",
      " 19  admission_type_id_Emergency   99343 non-null  int32\n",
      " 20  admission_type_id_Missing     99343 non-null  int32\n",
      " 21  admission_type_id_Urgent      99343 non-null  int32\n",
      " 22  discharge_disposition_id_1    99343 non-null  int32\n",
      " 23  discharge_disposition_id_2    99343 non-null  int32\n",
      " 24  discharge_disposition_id_3    99343 non-null  int32\n",
      " 25  discharge_disposition_id_5    99343 non-null  int32\n",
      " 26  discharge_disposition_id_6    99343 non-null  int32\n",
      " 27  discharge_disposition_id_22   99343 non-null  int32\n",
      " 28  discharge_disposition_id_999  99343 non-null  int32\n",
      " 29  max_glu_serum_>200            99343 non-null  int32\n",
      " 30  max_glu_serum_>300            99343 non-null  int32\n",
      " 31  max_glu_serum_Norm            99343 non-null  int32\n",
      " 32  max_glu_serum_nan             99343 non-null  int32\n",
      " 33  A1Cresult_>7                  99343 non-null  int32\n",
      " 34  A1Cresult_>8                  99343 non-null  int32\n",
      " 35  A1Cresult_Norm                99343 non-null  int32\n",
      " 36  A1Cresult_nan                 99343 non-null  int32\n",
      " 37  Meglitinides_No               99343 non-null  int32\n",
      " 38  Meglitinides_Steady           99343 non-null  int32\n",
      " 39  Insulin_Adjusted              99343 non-null  int32\n",
      " 40  Insulin_No                    99343 non-null  int32\n",
      " 41  Insulin_Steady                99343 non-null  int32\n",
      " 42  change_Ch                     99343 non-null  int32\n",
      " 43  change_No                     99343 non-null  int32\n",
      " 44  diabetesMed_No                99343 non-null  int32\n",
      " 45  diabetesMed_Yes               99343 non-null  int32\n",
      " 46  Admission_Source_Emerg_Dept   99343 non-null  int32\n",
      " 47  Admission_Source_Missing      99343 non-null  int32\n",
      " 48  Admission_Source_Referral     99343 non-null  int32\n",
      " 49  Admission_Source_Transfer     99343 non-null  int32\n",
      "dtypes: int32(42), int64(8)\n",
      "memory usage: 22.0 MB\n"
     ]
    }
   ],
   "source": [
    "X.info()"
   ]
  },
  {
   "cell_type": "markdown",
   "id": "24f7fc98",
   "metadata": {},
   "source": [
    "## Highly Correlated Features"
   ]
  },
  {
   "cell_type": "code",
   "execution_count": 16,
   "id": "a2e7018b",
   "metadata": {
    "scrolled": false
   },
   "outputs": [
    {
     "name": "stdout",
     "output_type": "stream",
     "text": [
      "Highly correlated feature paires: {('diabetesMed_Yes', 'diabetesMed_No'), ('gender_Male', 'gender_Female'), ('change_No', 'change_Ch'), ('Meglitinides_Steady', 'Meglitinides_No')}\n"
     ]
    }
   ],
   "source": [
    "# Handling highly correlated attributes\n",
    "\n",
    "# Create correlation matrix\n",
    "correlation_matrix = X.corr()\n",
    "\n",
    "# Identify highly correlated attribute pairs using a\n",
    "# nested loop\n",
    "\n",
    "# Initialize an empty set to store the names of pairs \n",
    "# of attributes that are highly correlated\n",
    "highly_correlated = set()\n",
    "\n",
    "# Can use 0.95 if a higher correlation threshold is desired\n",
    "for i in range(len(correlation_matrix.columns)):\n",
    "    for j in range(i):\n",
    "        if abs(correlation_matrix.iloc[i,j]) > 0.80:\n",
    "            # if a highly correlated pair is identified, the next two\n",
    "            # lines extract the names of the attributes involved\n",
    "            feature_i = correlation_matrix.columns[i]\n",
    "            feature_j = correlation_matrix.columns[j]\n",
    "            # adds a tuple of the highly correlated attributes\n",
    "            # to the holding tank\n",
    "            highly_correlated.add((feature_i, feature_j))\n",
    "            \n",
    "# Print the highly correlated feature pairs\n",
    "print(\"Highly correlated feature paires:\", highly_correlated)"
   ]
  },
  {
   "cell_type": "code",
   "execution_count": 17,
   "id": "cd753cef",
   "metadata": {
    "scrolled": false
   },
   "outputs": [],
   "source": [
    "# ************** MAY NOT WANT TO DO THIS CODE *************************************\n",
    "\n",
    "# Drop features\n",
    "to_drop = ['Meglitinides_No', 'change_No', 'gender_Male', 'diabetesMed_No']\n",
    "#to_drop.append('race_Caucasian')\n",
    "X.drop(columns=to_drop, axis = 1, inplace = True)"
   ]
  },
  {
   "cell_type": "code",
   "execution_count": 18,
   "id": "ece63d50",
   "metadata": {
    "scrolled": true
   },
   "outputs": [
    {
     "name": "stdout",
     "output_type": "stream",
     "text": [
      "<class 'pandas.core.frame.DataFrame'>\n",
      "RangeIndex: 99343 entries, 0 to 99342\n",
      "Data columns (total 46 columns):\n",
      " #   Column                        Non-Null Count  Dtype\n",
      "---  ------                        --------------  -----\n",
      " 0   time_in_hospital              99343 non-null  int64\n",
      " 1   num_lab_procedures            99343 non-null  int64\n",
      " 2   num_procedures                99343 non-null  int64\n",
      " 3   num_medications               99343 non-null  int64\n",
      " 4   number_outpatient             99343 non-null  int64\n",
      " 5   number_emergency              99343 non-null  int64\n",
      " 6   number_inpatient              99343 non-null  int64\n",
      " 7   number_diagnoses              99343 non-null  int64\n",
      " 8   gender_Female                 99343 non-null  int32\n",
      " 9   age_[20-30)                   99343 non-null  int32\n",
      " 10  age_[30-40)                   99343 non-null  int32\n",
      " 11  age_[40-50)                   99343 non-null  int32\n",
      " 12  age_[50-60)                   99343 non-null  int32\n",
      " 13  age_[60-70)                   99343 non-null  int32\n",
      " 14  age_[70-80)                   99343 non-null  int32\n",
      " 15  age_[80-90)                   99343 non-null  int32\n",
      " 16  age_[90-100)                  99343 non-null  int32\n",
      " 17  admission_type_id_Elective    99343 non-null  int32\n",
      " 18  admission_type_id_Emergency   99343 non-null  int32\n",
      " 19  admission_type_id_Missing     99343 non-null  int32\n",
      " 20  admission_type_id_Urgent      99343 non-null  int32\n",
      " 21  discharge_disposition_id_1    99343 non-null  int32\n",
      " 22  discharge_disposition_id_2    99343 non-null  int32\n",
      " 23  discharge_disposition_id_3    99343 non-null  int32\n",
      " 24  discharge_disposition_id_5    99343 non-null  int32\n",
      " 25  discharge_disposition_id_6    99343 non-null  int32\n",
      " 26  discharge_disposition_id_22   99343 non-null  int32\n",
      " 27  discharge_disposition_id_999  99343 non-null  int32\n",
      " 28  max_glu_serum_>200            99343 non-null  int32\n",
      " 29  max_glu_serum_>300            99343 non-null  int32\n",
      " 30  max_glu_serum_Norm            99343 non-null  int32\n",
      " 31  max_glu_serum_nan             99343 non-null  int32\n",
      " 32  A1Cresult_>7                  99343 non-null  int32\n",
      " 33  A1Cresult_>8                  99343 non-null  int32\n",
      " 34  A1Cresult_Norm                99343 non-null  int32\n",
      " 35  A1Cresult_nan                 99343 non-null  int32\n",
      " 36  Meglitinides_Steady           99343 non-null  int32\n",
      " 37  Insulin_Adjusted              99343 non-null  int32\n",
      " 38  Insulin_No                    99343 non-null  int32\n",
      " 39  Insulin_Steady                99343 non-null  int32\n",
      " 40  change_Ch                     99343 non-null  int32\n",
      " 41  diabetesMed_Yes               99343 non-null  int32\n",
      " 42  Admission_Source_Emerg_Dept   99343 non-null  int32\n",
      " 43  Admission_Source_Missing      99343 non-null  int32\n",
      " 44  Admission_Source_Referral     99343 non-null  int32\n",
      " 45  Admission_Source_Transfer     99343 non-null  int32\n",
      "dtypes: int32(38), int64(8)\n",
      "memory usage: 20.5 MB\n"
     ]
    }
   ],
   "source": [
    "X.info()"
   ]
  },
  {
   "cell_type": "markdown",
   "id": "5f24c0ca",
   "metadata": {},
   "source": [
    "## Removing Irrelevant Features for Classification"
   ]
  },
  {
   "cell_type": "code",
   "execution_count": 19,
   "id": "77ff380c",
   "metadata": {
    "scrolled": false
   },
   "outputs": [],
   "source": [
    "y = Y['readmitted_<30']\n",
    "#y.head(3)"
   ]
  },
  {
   "cell_type": "code",
   "execution_count": 20,
   "id": "9b4604f0",
   "metadata": {
    "scrolled": false
   },
   "outputs": [
    {
     "name": "stdout",
     "output_type": "stream",
     "text": [
      "Selected best features: Index(['time_in_hospital', 'num_medications', 'number_emergency',\n",
      "       'number_inpatient', 'number_diagnoses', 'discharge_disposition_id_1',\n",
      "       'discharge_disposition_id_3', 'discharge_disposition_id_22',\n",
      "       'Insulin_Adjusted', 'Insulin_No'],\n",
      "      dtype='object')\n"
     ]
    }
   ],
   "source": [
    "# ****************************************************************\n",
    "# THIS CODE DOESN'T CHANGE THE DATASET AT ALL ********************\n",
    "# IT IS JUST INTERESTING *****************************************\n",
    "# ****************************************************************\n",
    "\n",
    "# Turn on the SelectKBest tool \n",
    "# f_classif is the default for score_func\n",
    "selector = SelectKBest(score_func = f_classif, k=10)\n",
    "\n",
    "# Fit and transform the data to select the top 'k' features\n",
    "X_new = selector.fit_transform(X, y)\n",
    "\n",
    "# Get the indices of the selected features\n",
    "selected_features_indices = selector.get_support(indices = True)\n",
    "\n",
    "# Get the names of the selected features\n",
    "selected_feature_names = X.columns[selected_features_indices]\n",
    "\n",
    "# Print the names of the selected attributes\n",
    "print('Selected best features:', selected_feature_names)"
   ]
  },
  {
   "cell_type": "code",
   "execution_count": 21,
   "id": "625db315",
   "metadata": {
    "scrolled": true
   },
   "outputs": [
    {
     "name": "stdout",
     "output_type": "stream",
     "text": [
      "<class 'pandas.core.frame.DataFrame'>\n",
      "RangeIndex: 99343 entries, 0 to 99342\n",
      "Data columns (total 46 columns):\n",
      " #   Column                        Non-Null Count  Dtype\n",
      "---  ------                        --------------  -----\n",
      " 0   time_in_hospital              99343 non-null  int64\n",
      " 1   num_lab_procedures            99343 non-null  int64\n",
      " 2   num_procedures                99343 non-null  int64\n",
      " 3   num_medications               99343 non-null  int64\n",
      " 4   number_outpatient             99343 non-null  int64\n",
      " 5   number_emergency              99343 non-null  int64\n",
      " 6   number_inpatient              99343 non-null  int64\n",
      " 7   number_diagnoses              99343 non-null  int64\n",
      " 8   gender_Female                 99343 non-null  int32\n",
      " 9   age_[20-30)                   99343 non-null  int32\n",
      " 10  age_[30-40)                   99343 non-null  int32\n",
      " 11  age_[40-50)                   99343 non-null  int32\n",
      " 12  age_[50-60)                   99343 non-null  int32\n",
      " 13  age_[60-70)                   99343 non-null  int32\n",
      " 14  age_[70-80)                   99343 non-null  int32\n",
      " 15  age_[80-90)                   99343 non-null  int32\n",
      " 16  age_[90-100)                  99343 non-null  int32\n",
      " 17  admission_type_id_Elective    99343 non-null  int32\n",
      " 18  admission_type_id_Emergency   99343 non-null  int32\n",
      " 19  admission_type_id_Missing     99343 non-null  int32\n",
      " 20  admission_type_id_Urgent      99343 non-null  int32\n",
      " 21  discharge_disposition_id_1    99343 non-null  int32\n",
      " 22  discharge_disposition_id_2    99343 non-null  int32\n",
      " 23  discharge_disposition_id_3    99343 non-null  int32\n",
      " 24  discharge_disposition_id_5    99343 non-null  int32\n",
      " 25  discharge_disposition_id_6    99343 non-null  int32\n",
      " 26  discharge_disposition_id_22   99343 non-null  int32\n",
      " 27  discharge_disposition_id_999  99343 non-null  int32\n",
      " 28  max_glu_serum_>200            99343 non-null  int32\n",
      " 29  max_glu_serum_>300            99343 non-null  int32\n",
      " 30  max_glu_serum_Norm            99343 non-null  int32\n",
      " 31  max_glu_serum_nan             99343 non-null  int32\n",
      " 32  A1Cresult_>7                  99343 non-null  int32\n",
      " 33  A1Cresult_>8                  99343 non-null  int32\n",
      " 34  A1Cresult_Norm                99343 non-null  int32\n",
      " 35  A1Cresult_nan                 99343 non-null  int32\n",
      " 36  Meglitinides_Steady           99343 non-null  int32\n",
      " 37  Insulin_Adjusted              99343 non-null  int32\n",
      " 38  Insulin_No                    99343 non-null  int32\n",
      " 39  Insulin_Steady                99343 non-null  int32\n",
      " 40  change_Ch                     99343 non-null  int32\n",
      " 41  diabetesMed_Yes               99343 non-null  int32\n",
      " 42  Admission_Source_Emerg_Dept   99343 non-null  int32\n",
      " 43  Admission_Source_Missing      99343 non-null  int32\n",
      " 44  Admission_Source_Referral     99343 non-null  int32\n",
      " 45  Admission_Source_Transfer     99343 non-null  int32\n",
      "dtypes: int32(38), int64(8)\n",
      "memory usage: 20.5 MB\n"
     ]
    }
   ],
   "source": [
    "X.info()"
   ]
  },
  {
   "cell_type": "markdown",
   "id": "98fbcd62",
   "metadata": {},
   "source": [
    "## Feature Importance from Tree-Based Models"
   ]
  },
  {
   "cell_type": "code",
   "execution_count": 22,
   "id": "1e99a685",
   "metadata": {
    "scrolled": false
   },
   "outputs": [
    {
     "name": "stdout",
     "output_type": "stream",
     "text": [
      "Time taken: 24.15516710281372 seconds\n"
     ]
    }
   ],
   "source": [
    "# Time how long this code takes to run\n",
    "start_time = time.time()\n",
    "\n",
    "# Train a random forest classifier\n",
    "classifier = RandomForestClassifier()\n",
    "classifier.fit(X, Y)\n",
    "\n",
    "# Get feature importance scores\n",
    "important_features = classifier.feature_importances_\n",
    "\n",
    "# Get feature names from your dataset\n",
    "feature_names = X.columns\n",
    "\n",
    "# Create a dataframe to associate feature names with their importance scores\n",
    "feature_importance_df = pd.DataFrame({'Feature' : feature_names, 'Importance' : important_features})\n",
    "\n",
    "# Sort the features by importance in descending order\n",
    "feature_importance_df = feature_importance_df.sort_values(by='Importance', ascending = False)\n",
    "\n",
    "end_time = time.time()\n",
    "elapsed_time = end_time - start_time\n",
    "print(f'Time taken: {elapsed_time} seconds')"
   ]
  },
  {
   "cell_type": "code",
   "execution_count": 23,
   "id": "828fa47b",
   "metadata": {
    "scrolled": true
   },
   "outputs": [
    {
     "data": {
      "image/png": "[encoded data removed]",
      "text/plain": [
       "<Figure size 1000x2000 with 1 Axes>"
      ]
     },
     "metadata": {},
     "output_type": "display_data"
    }
   ],
   "source": [
    "# ***************** THIS CODE DOESN'T CHANGE THE DATASET ************************\n",
    "\n",
    "# Visualize the feature importance scores\n",
    "\n",
    "plt.figure(figsize=(10,20))\n",
    "plt.barh(feature_importance_df['Feature'], feature_importance_df['Importance'])\n",
    "plt.xlabel('Importance Score')\n",
    "plt.ylabel('Feature')\n",
    "plt.title('Feature Importance')\n",
    "plt.show()"
   ]
  },
  {
   "cell_type": "code",
   "execution_count": null,
   "id": "cb63e6fb",
   "metadata": {
    "scrolled": false
   },
   "outputs": [],
   "source": []
  },
  {
   "cell_type": "code",
   "execution_count": null,
   "id": "09c5005d",
   "metadata": {
    "scrolled": false
   },
   "outputs": [],
   "source": []
  },
  {
   "cell_type": "markdown",
   "id": "9cefac09",
   "metadata": {},
   "source": [
    "## Recursive Feature Elimination"
   ]
  },
  {
   "cell_type": "code",
   "execution_count": 24,
   "id": "d817326a",
   "metadata": {
    "scrolled": false
   },
   "outputs": [
    {
     "name": "stdout",
     "output_type": "stream",
     "text": [
      "Selected features: Index(['time_in_hospital', 'num_lab_procedures', 'num_procedures',\n",
      "       'num_medications', 'number_outpatient', 'number_emergency',\n",
      "       'number_inpatient', 'number_diagnoses', 'gender_Female', 'age_[40-50)',\n",
      "       'age_[50-60)', 'age_[60-70)', 'age_[70-80)', 'age_[80-90)',\n",
      "       'admission_type_id_Emergency', 'admission_type_id_Urgent',\n",
      "       'discharge_disposition_id_3', 'A1Cresult_>8', 'A1Cresult_nan',\n",
      "       'Insulin_Adjusted', 'Insulin_No', 'Insulin_Steady', 'change_Ch',\n",
      "       'diabetesMed_Yes', 'Admission_Source_Referral'],\n",
      "      dtype='object')\n",
      "Time taken: 26.092698574066162 seconds\n"
     ]
    }
   ],
   "source": [
    "# ************** THIS CODE DOESN'T CHANGE THE DATASET ******************\n",
    "\n",
    "start_time = time.time()\n",
    "\n",
    "# Create a decision tree classifier\n",
    "base_model = DecisionTreeClassifier()\n",
    "\n",
    "# Set up the RFE model with the desired number of features\n",
    "rfe = RFE(estimator = base_model, n_features_to_select = 25)\n",
    "X_RFE = rfe.fit_transform(X, Y)\n",
    "\n",
    "# Get the mask of selected features\n",
    "selected_feature_indices = rfe.support_\n",
    "\n",
    "# Get the selected feature names from the original dataframe\n",
    "selected_features = X.columns[selected_feature_indices]\n",
    "\n",
    "# Print the selected features\n",
    "print('Selected features:', selected_features)\n",
    "\n",
    "end_time = time.time()\n",
    "elapsed_time = end_time - start_time\n",
    "print(f'Time taken: {elapsed_time} seconds')"
   ]
  },
  {
   "cell_type": "code",
   "execution_count": null,
   "id": "620204fa",
   "metadata": {
    "scrolled": false
   },
   "outputs": [],
   "source": []
  },
  {
   "cell_type": "code",
   "execution_count": 25,
   "id": "29e7870c",
   "metadata": {
    "scrolled": false
   },
   "outputs": [
    {
     "data": {
      "text/plain": [
       "Index(['time_in_hospital', 'num_lab_procedures', 'num_procedures',\n",
       "       'num_medications', 'number_outpatient', 'number_emergency',\n",
       "       'number_inpatient', 'number_diagnoses', 'gender_Female', 'age_[20-30)',\n",
       "       'age_[30-40)', 'age_[40-50)', 'age_[50-60)', 'age_[60-70)',\n",
       "       'age_[70-80)', 'age_[80-90)', 'age_[90-100)',\n",
       "       'admission_type_id_Elective', 'admission_type_id_Emergency',\n",
       "       'admission_type_id_Missing', 'admission_type_id_Urgent',\n",
       "       'discharge_disposition_id_1', 'discharge_disposition_id_2',\n",
       "       'discharge_disposition_id_3', 'discharge_disposition_id_5',\n",
       "       'discharge_disposition_id_6', 'discharge_disposition_id_22',\n",
       "       'discharge_disposition_id_999', 'max_glu_serum_>200',\n",
       "       'max_glu_serum_>300', 'max_glu_serum_Norm', 'max_glu_serum_nan',\n",
       "       'A1Cresult_>7', 'A1Cresult_>8', 'A1Cresult_Norm', 'A1Cresult_nan',\n",
       "       'Meglitinides_Steady', 'Insulin_Adjusted', 'Insulin_No',\n",
       "       'Insulin_Steady', 'change_Ch', 'diabetesMed_Yes',\n",
       "       'Admission_Source_Emerg_Dept', 'Admission_Source_Missing',\n",
       "       'Admission_Source_Referral', 'Admission_Source_Transfer'],\n",
       "      dtype='object')"
      ]
     },
     "execution_count": 25,
     "metadata": {},
     "output_type": "execute_result"
    }
   ],
   "source": [
    "feature_names"
   ]
  },
  {
   "cell_type": "code",
   "execution_count": 26,
   "id": "65e59f19",
   "metadata": {
    "scrolled": false
   },
   "outputs": [],
   "source": [
    "feature_names_df = pd.DataFrame({'Feature Names': feature_names})\n",
    "\n",
    "feature_names_df.to_csv('encoded_feature_names.csv', index = False)"
   ]
  },
  {
   "cell_type": "markdown",
   "id": "87a9c06a",
   "metadata": {
    "scrolled": false
   },
   "source": [
    "## Export Data to Next Step"
   ]
  },
  {
   "cell_type": "code",
   "execution_count": 27,
   "id": "6b9ec8b1",
   "metadata": {
    "scrolled": false
   },
   "outputs": [],
   "source": [
    "# Pass data to next module\n",
    "\n",
    "X.to_csv('Mod_3_X_data_to_pass.csv', index = False)\n",
    "Y.to_csv('Mod_3_Y_data_to_pass.csv', index = False)"
   ]
  },
  {
   "cell_type": "code",
   "execution_count": null,
   "id": "be03a469",
   "metadata": {
    "scrolled": false
   },
   "outputs": [],
   "source": []
  }
 ],
 "metadata": {
  "kernelspec": {
   "display_name": "Python 3 (ipykernel)",
   "language": "python",
   "name": "python3"
  },
  "language_info": {
   "codemirror_mode": {
    "name": "ipython",
    "version": 3
   },
   "file_extension": ".py",
   "mimetype": "text/x-python",
   "name": "python",
   "nbconvert_exporter": "python",
   "pygments_lexer": "ipython3",
   "version": "3.11.4"
  }
 },
 "nbformat": 4,
 "nbformat_minor": 5
}
