{
 "cells": [
  {
   "cell_type": "markdown",
   "id": "65ceaddf",
   "metadata": {
    "id": "65ceaddf"
   },
   "source": [
    "## Feature Selection & Encoding"
   ]
  },
  {
   "cell_type": "code",
   "execution_count": 1,
   "id": "1558998d",
   "metadata": {
    "id": "1558998d",
    "scrolled": false
   },
   "outputs": [],
   "source": [
    "# Import the libraries needed\n",
    "\n",
    "import pandas as pd\n",
    "import numpy as np\n",
    "import seaborn as sns\n",
    "from sklearn.preprocessing import OneHotEncoder, StandardScaler\n",
    "from sklearn.model_selection import train_test_split\n",
    "from sklearn.feature_selection import VarianceThreshold, SelectKBest, f_classif, RFE\n",
    "from sklearn.ensemble import RandomForestClassifier\n",
    "from sklearn.tree import DecisionTreeClassifier\n",
    "import matplotlib.pyplot as plt\n",
    "import time\n",
    "from sklearn.neighbors import KNeighborsClassifier\n",
    "from imblearn.over_sampling import SMOTE\n",
    "from sklearn.metrics import confusion_matrix, precision_score, recall_score, accuracy_score"
   ]
  },
  {
   "cell_type": "code",
   "execution_count": 2,
   "id": "6151c3c1",
   "metadata": {
    "id": "6151c3c1",
    "scrolled": false
   },
   "outputs": [],
   "source": [
    "# ******************************************************\n",
    "# TWO CHANGES NEED TO BE MADE TO THIS NOTEBOOK IF 'RACE'\n",
    "# ATTRIBUTE IS REMOVED\n",
    "# ******************************************************"
   ]
  },
  {
   "cell_type": "code",
   "execution_count": 3,
   "id": "ecb76c4e",
   "metadata": {
    "id": "ecb76c4e",
    "scrolled": false
   },
   "outputs": [],
   "source": [
    "# Read in the dataset passed from the last module\n",
    "\n",
    "data = pd.read_csv('Mod_2_data_to_pass.csv')"
   ]
  },
  {
   "cell_type": "code",
   "execution_count": 4,
   "id": "b4e7d0f1",
   "metadata": {
    "colab": {
     "base_uri": "https://localhost:8080/"
    },
    "id": "b4e7d0f1",
    "outputId": "8ad97dab-225e-447c-9cf9-90ed311bad3c",
    "scrolled": true
   },
   "outputs": [
    {
     "name": "stdout",
     "output_type": "stream",
     "text": [
      "<class 'pandas.core.frame.DataFrame'>\n",
      "RangeIndex: 99343 entries, 0 to 99342\n",
      "Data columns (total 27 columns):\n",
      " #   Column                    Non-Null Count  Dtype \n",
      "---  ------                    --------------  ----- \n",
      " 0   gender                    99343 non-null  object\n",
      " 1   age                       99343 non-null  object\n",
      " 2   admission_type_id         99343 non-null  object\n",
      " 3   discharge_disposition_id  99343 non-null  int64 \n",
      " 4   time_in_hospital          99343 non-null  int64 \n",
      " 5   num_lab_procedures        99343 non-null  int64 \n",
      " 6   num_procedures            99343 non-null  int64 \n",
      " 7   num_medications           99343 non-null  int64 \n",
      " 8   number_outpatient         99343 non-null  int64 \n",
      " 9   number_emergency          99343 non-null  int64 \n",
      " 10  number_inpatient          99343 non-null  int64 \n",
      " 11  diag_1                    99323 non-null  object\n",
      " 12  diag_2                    98987 non-null  object\n",
      " 13  diag_3                    97924 non-null  object\n",
      " 14  number_diagnoses          99343 non-null  int64 \n",
      " 15  max_glu_serum             5152 non-null   object\n",
      " 16  A1Cresult                 16834 non-null  object\n",
      " 17  change                    99343 non-null  object\n",
      " 18  diabetesMed               99343 non-null  object\n",
      " 19  readmitted                99343 non-null  object\n",
      " 20  Meglitinides              99343 non-null  object\n",
      " 21  Thiazolidinediones        99343 non-null  object\n",
      " 22  Sulfonylureas             99343 non-null  object\n",
      " 23  AG_Inhibitors             99343 non-null  object\n",
      " 24  Metformin                 99343 non-null  object\n",
      " 25  Insulin                   99343 non-null  object\n",
      " 26  Admission_Source          99343 non-null  object\n",
      "dtypes: int64(9), object(18)\n",
      "memory usage: 20.5+ MB\n"
     ]
    }
   ],
   "source": [
    "# Checking data types before proceeding\n",
    "data.info()"
   ]
  },
  {
   "cell_type": "code",
   "execution_count": 5,
   "id": "664de38e",
   "metadata": {
    "id": "664de38e",
    "scrolled": false
   },
   "outputs": [],
   "source": [
    "# Change data types to categories\n",
    "\n",
    "cat_list = ['gender', 'age', 'admission_type_id', 'discharge_disposition_id',\n",
    "            'diag_1', 'diag_2', 'diag_3', 'max_glu_serum', 'A1Cresult', 'change',\n",
    "           'diabetesMed', 'readmitted', 'Meglitinides', 'Thiazolidinediones',\n",
    "           'Sulfonylureas', 'AG_Inhibitors', 'Metformin', 'Insulin', 'Admission_Source']\n",
    "\n",
    "#cat_list.append('race')\n",
    "\n",
    "for item in cat_list:\n",
    "    data[item] = data[item].astype('category')\n",
    "\n"
   ]
  },
  {
   "cell_type": "code",
   "execution_count": 6,
   "id": "11d8606d",
   "metadata": {
    "colab": {
     "base_uri": "https://localhost:8080/"
    },
    "id": "11d8606d",
    "outputId": "1bf84f85-f083-4df3-c6d5-fe03d52a3f6f",
    "scrolled": true
   },
   "outputs": [
    {
     "name": "stdout",
     "output_type": "stream",
     "text": [
      "<class 'pandas.core.frame.DataFrame'>\n",
      "RangeIndex: 99343 entries, 0 to 99342\n",
      "Data columns (total 27 columns):\n",
      " #   Column                    Non-Null Count  Dtype   \n",
      "---  ------                    --------------  -----   \n",
      " 0   gender                    99343 non-null  category\n",
      " 1   age                       99343 non-null  category\n",
      " 2   admission_type_id         99343 non-null  category\n",
      " 3   discharge_disposition_id  99343 non-null  category\n",
      " 4   time_in_hospital          99343 non-null  int64   \n",
      " 5   num_lab_procedures        99343 non-null  int64   \n",
      " 6   num_procedures            99343 non-null  int64   \n",
      " 7   num_medications           99343 non-null  int64   \n",
      " 8   number_outpatient         99343 non-null  int64   \n",
      " 9   number_emergency          99343 non-null  int64   \n",
      " 10  number_inpatient          99343 non-null  int64   \n",
      " 11  diag_1                    99323 non-null  category\n",
      " 12  diag_2                    98987 non-null  category\n",
      " 13  diag_3                    97924 non-null  category\n",
      " 14  number_diagnoses          99343 non-null  int64   \n",
      " 15  max_glu_serum             5152 non-null   category\n",
      " 16  A1Cresult                 16834 non-null  category\n",
      " 17  change                    99343 non-null  category\n",
      " 18  diabetesMed               99343 non-null  category\n",
      " 19  readmitted                99343 non-null  category\n",
      " 20  Meglitinides              99343 non-null  category\n",
      " 21  Thiazolidinediones        99343 non-null  category\n",
      " 22  Sulfonylureas             99343 non-null  category\n",
      " 23  AG_Inhibitors             99343 non-null  category\n",
      " 24  Metformin                 99343 non-null  category\n",
      " 25  Insulin                   99343 non-null  category\n",
      " 26  Admission_Source          99343 non-null  category\n",
      "dtypes: category(19), int64(8)\n",
      "memory usage: 8.2 MB\n"
     ]
    }
   ],
   "source": [
    "# Confirming data types have been changed to categorical\n",
    "data.info()"
   ]
  },
  {
   "cell_type": "markdown",
   "id": "3dfacac9",
   "metadata": {
    "id": "3dfacac9"
   },
   "source": [
    "## One Hot Encoding"
   ]
  },
  {
   "cell_type": "code",
   "execution_count": 7,
   "id": "6f91247b",
   "metadata": {
    "colab": {
     "base_uri": "https://localhost:8080/"
    },
    "id": "6f91247b",
    "outputId": "f3fe3e29-74d9-405e-f8b3-68a4ada8cde2",
    "scrolled": false
   },
   "outputs": [
    {
     "name": "stderr",
     "output_type": "stream",
     "text": [
      "C:\\Users\\Ingli\\AppData\\Local\\Temp\\ipykernel_23644\\283034030.py:8: DeprecationWarning: `np.int` is a deprecated alias for the builtin `int`. To silence this warning, use `int` by itself. Doing this will not modify any behavior and is safe. When replacing `np.int`, you may wish to use e.g. `np.int64` or `np.int32` to specify the precision. If you wish to review your current use, check the release note link for additional information.\n",
      "Deprecated in NumPy 1.20; for more details and guidance: https://numpy.org/devdocs/release/1.20.0-notes.html#deprecations\n",
      "  encoder = OneHotEncoder(sparse_output = False, dtype = np.int)\n"
     ]
    }
   ],
   "source": [
    "# ONE HOT ENCODING IN A LOOP\n",
    "# DRUGS NOT INCLUDED\n",
    "# USE ONE-HOT ENCODING TO BINARIZE CATEGORICAL ATTRIBUTES\n",
    "\n",
    "\n",
    "# Create one hot encoder (start the tool)\n",
    "# ?? Don't understand what 'sparse_output = False' does\n",
    "encoder = OneHotEncoder(sparse_output = False, dtype = np.int)\n",
    "\n",
    "# Create a new dataframe to store the one-hot encoded data\n",
    "encoded_dataframes = []\n",
    "\n",
    "# Create a list of all the categorical columns to be one-hot encoded\n",
    "cat_columns = ['gender', 'age', 'admission_type_id',\n",
    "               'discharge_disposition_id', 'max_glu_serum', 'A1Cresult',\n",
    "               'Meglitinides', 'Thiazolidinediones', 'Sulfonylureas',\n",
    "               'AG_Inhibitors', 'Metformin', 'Insulin', 'change',\n",
    "               'diabetesMed', 'Admission_Source']\n",
    "\n",
    "#cat_columns.append('race')\n",
    "\n",
    "for column in cat_columns:\n",
    "    # Get data to be encoded from original dataset\n",
    "    column_data = data[[column]]\n",
    "\n",
    "    # Use the encoder\n",
    "    encoded_data = encoder.fit_transform(column_data)\n",
    "\n",
    "    # Create a temporary dataframe to hold encoded data\n",
    "    temp_encoded_data = pd.DataFrame(encoded_data, columns = encoder.get_feature_names_out([column]))\n",
    "\n",
    "    # Add the encoded dataframe to the list created above\n",
    "    encoded_dataframes.append(temp_encoded_data)\n",
    "\n",
    "# Concat all the encoded dataframes in the temp_encoded_data list\n",
    "completed_dataframe = pd.concat(encoded_dataframes, axis = 1)\n",
    "\n",
    "# Remove the original columns from test3\n",
    "data_copy = data.copy()\n",
    "data_copy = data_copy.drop(cat_columns, axis = 1)\n",
    "\n",
    "\n",
    "# Put the remaining original data columns together with the encoded dataframe\n",
    "data = pd.concat([data_copy, completed_dataframe], axis=1)"
   ]
  },
  {
   "cell_type": "code",
   "execution_count": 8,
   "id": "6f266ff3",
   "metadata": {
    "colab": {
     "base_uri": "https://localhost:8080/"
    },
    "id": "6f266ff3",
    "outputId": "b579a9c6-f55e-4332-99b4-a8e77f772388",
    "scrolled": true
   },
   "outputs": [
    {
     "name": "stdout",
     "output_type": "stream",
     "text": [
      "<class 'pandas.core.frame.DataFrame'>\n",
      "RangeIndex: 99343 entries, 0 to 99342\n",
      "Data columns (total 81 columns):\n",
      " #   Column                           Non-Null Count  Dtype   \n",
      "---  ------                           --------------  -----   \n",
      " 0   time_in_hospital                 99343 non-null  int64   \n",
      " 1   num_lab_procedures               99343 non-null  int64   \n",
      " 2   num_procedures                   99343 non-null  int64   \n",
      " 3   num_medications                  99343 non-null  int64   \n",
      " 4   number_outpatient                99343 non-null  int64   \n",
      " 5   number_emergency                 99343 non-null  int64   \n",
      " 6   number_inpatient                 99343 non-null  int64   \n",
      " 7   diag_1                           99323 non-null  category\n",
      " 8   diag_2                           98987 non-null  category\n",
      " 9   diag_3                           97924 non-null  category\n",
      " 10  number_diagnoses                 99343 non-null  int64   \n",
      " 11  readmitted                       99343 non-null  category\n",
      " 12  gender_Female                    99343 non-null  int32   \n",
      " 13  gender_Male                      99343 non-null  int32   \n",
      " 14  gender_Missing                   99343 non-null  int32   \n",
      " 15  age_[0-10)                       99343 non-null  int32   \n",
      " 16  age_[10-20)                      99343 non-null  int32   \n",
      " 17  age_[20-30)                      99343 non-null  int32   \n",
      " 18  age_[30-40)                      99343 non-null  int32   \n",
      " 19  age_[40-50)                      99343 non-null  int32   \n",
      " 20  age_[50-60)                      99343 non-null  int32   \n",
      " 21  age_[60-70)                      99343 non-null  int32   \n",
      " 22  age_[70-80)                      99343 non-null  int32   \n",
      " 23  age_[80-90)                      99343 non-null  int32   \n",
      " 24  age_[90-100)                     99343 non-null  int32   \n",
      " 25  admission_type_id_Elective       99343 non-null  int32   \n",
      " 26  admission_type_id_Emergency      99343 non-null  int32   \n",
      " 27  admission_type_id_Missing        99343 non-null  int32   \n",
      " 28  admission_type_id_Trauma Centre  99343 non-null  int32   \n",
      " 29  admission_type_id_Urgent         99343 non-null  int32   \n",
      " 30  discharge_disposition_id_1       99343 non-null  int32   \n",
      " 31  discharge_disposition_id_2       99343 non-null  int32   \n",
      " 32  discharge_disposition_id_3       99343 non-null  int32   \n",
      " 33  discharge_disposition_id_4       99343 non-null  int32   \n",
      " 34  discharge_disposition_id_5       99343 non-null  int32   \n",
      " 35  discharge_disposition_id_6       99343 non-null  int32   \n",
      " 36  discharge_disposition_id_7       99343 non-null  int32   \n",
      " 37  discharge_disposition_id_8       99343 non-null  int32   \n",
      " 38  discharge_disposition_id_9       99343 non-null  int32   \n",
      " 39  discharge_disposition_id_12      99343 non-null  int32   \n",
      " 40  discharge_disposition_id_15      99343 non-null  int32   \n",
      " 41  discharge_disposition_id_16      99343 non-null  int32   \n",
      " 42  discharge_disposition_id_17      99343 non-null  int32   \n",
      " 43  discharge_disposition_id_22      99343 non-null  int32   \n",
      " 44  discharge_disposition_id_23      99343 non-null  int32   \n",
      " 45  discharge_disposition_id_24      99343 non-null  int32   \n",
      " 46  discharge_disposition_id_27      99343 non-null  int32   \n",
      " 47  discharge_disposition_id_28      99343 non-null  int32   \n",
      " 48  discharge_disposition_id_999     99343 non-null  int32   \n",
      " 49  max_glu_serum_>200               99343 non-null  int32   \n",
      " 50  max_glu_serum_>300               99343 non-null  int32   \n",
      " 51  max_glu_serum_Norm               99343 non-null  int32   \n",
      " 52  max_glu_serum_nan                99343 non-null  int32   \n",
      " 53  A1Cresult_>7                     99343 non-null  int32   \n",
      " 54  A1Cresult_>8                     99343 non-null  int32   \n",
      " 55  A1Cresult_Norm                   99343 non-null  int32   \n",
      " 56  A1Cresult_nan                    99343 non-null  int32   \n",
      " 57  Meglitinides_Adjusted            99343 non-null  int32   \n",
      " 58  Meglitinides_No                  99343 non-null  int32   \n",
      " 59  Meglitinides_Steady              99343 non-null  int32   \n",
      " 60  Thiazolidinediones_No            99343 non-null  int32   \n",
      " 61  Thiazolidinediones_Steady        99343 non-null  int32   \n",
      " 62  Sulfonylureas_No                 99343 non-null  int32   \n",
      " 63  Sulfonylureas_Steady             99343 non-null  int32   \n",
      " 64  AG_Inhibitors_Adjusted           99343 non-null  int32   \n",
      " 65  AG_Inhibitors_No                 99343 non-null  int32   \n",
      " 66  AG_Inhibitors_Steady             99343 non-null  int32   \n",
      " 67  Metformin_No                     99343 non-null  int32   \n",
      " 68  Metformin_Steady                 99343 non-null  int32   \n",
      " 69  Insulin_Adjusted                 99343 non-null  int32   \n",
      " 70  Insulin_No                       99343 non-null  int32   \n",
      " 71  Insulin_Steady                   99343 non-null  int32   \n",
      " 72  change_Ch                        99343 non-null  int32   \n",
      " 73  change_No                        99343 non-null  int32   \n",
      " 74  diabetesMed_No                   99343 non-null  int32   \n",
      " 75  diabetesMed_Yes                  99343 non-null  int32   \n",
      " 76  Admission_Source_Emerg_Dept      99343 non-null  int32   \n",
      " 77  Admission_Source_Missing         99343 non-null  int32   \n",
      " 78  Admission_Source_Other           99343 non-null  int32   \n",
      " 79  Admission_Source_Referral        99343 non-null  int32   \n",
      " 80  Admission_Source_Transfer        99343 non-null  int32   \n",
      "dtypes: category(4), int32(69), int64(8)\n",
      "memory usage: 32.9 MB\n"
     ]
    }
   ],
   "source": [
    "# Confirming One Hot Encoding was done correctly and verifying new number of attributes\n",
    "data.info()"
   ]
  },
  {
   "cell_type": "markdown",
   "id": "25c1d815",
   "metadata": {
    "id": "25c1d815"
   },
   "source": [
    "## Split Data into Train and Test Sets"
   ]
  },
  {
   "cell_type": "code",
   "execution_count": 9,
   "id": "92ec546f",
   "metadata": {
    "id": "92ec546f"
   },
   "outputs": [],
   "source": [
    "# Select all the features except the target variable\n",
    "X = data.drop('readmitted', axis = 1)\n",
    "#print(X.info())\n",
    "\n",
    "# Split the dataset into training and testing sets\n",
    "X_train, X_test, Y_train, Y_test = train_test_split(X, data['readmitted'], test_size = 0.2, random_state=403)"
   ]
  },
  {
   "cell_type": "code",
   "execution_count": 10,
   "id": "a541d0a0",
   "metadata": {
    "colab": {
     "base_uri": "https://localhost:8080/"
    },
    "id": "a541d0a0",
    "outputId": "0753f688-a5eb-4aa5-ca73-7c58c23b8c89"
   },
   "outputs": [
    {
     "name": "stdout",
     "output_type": "stream",
     "text": [
      "X_train size\n",
      " (79474, 80)\n",
      "\n",
      "X_test size\n",
      " (19869, 80)\n"
     ]
    }
   ],
   "source": [
    "print('X_train size\\n', X_train.shape)\n",
    "\n",
    "print('\\nX_test size\\n', X_test.shape)"
   ]
  },
  {
   "cell_type": "markdown",
   "id": "dcd41398",
   "metadata": {
    "id": "dcd41398"
   },
   "source": [
    "## Feature Scaling of Quantitative Attributes"
   ]
  },
  {
   "cell_type": "code",
   "execution_count": 11,
   "id": "b4f41902",
   "metadata": {
    "id": "b4f41902"
   },
   "outputs": [],
   "source": [
    "# Create a list of the quantitative attributes\n",
    "\n",
    "quantList = ['time_in_hospital', 'num_lab_procedures', 'num_procedures',\n",
    "             'num_medications', 'number_outpatient', 'number_emergency',\n",
    "             'number_inpatient', 'number_diagnoses']\n",
    "\n",
    "# Instantiate the StandardScaler tool\n",
    "scaler = StandardScaler()\n",
    "\n",
    "X_train[quantList] = scaler.fit_transform(X_train[quantList])"
   ]
  },
  {
   "cell_type": "code",
   "execution_count": 12,
   "id": "33076fe3",
   "metadata": {
    "colab": {
     "base_uri": "https://localhost:8080/",
     "height": 444
    },
    "id": "33076fe3",
    "outputId": "25aee709-6942-4058-cd69-64f0b1713a38"
   },
   "outputs": [
    {
     "data": {
      "text/html": [
       "<div>\n",
       "<style scoped>\n",
       "    .dataframe tbody tr th:only-of-type {\n",
       "        vertical-align: middle;\n",
       "    }\n",
       "\n",
       "    .dataframe tbody tr th {\n",
       "        vertical-align: top;\n",
       "    }\n",
       "\n",
       "    .dataframe thead th {\n",
       "        text-align: right;\n",
       "    }\n",
       "</style>\n",
       "<table border=\"1\" class=\"dataframe\">\n",
       "  <thead>\n",
       "    <tr style=\"text-align: right;\">\n",
       "      <th></th>\n",
       "      <th>time_in_hospital</th>\n",
       "      <th>num_lab_procedures</th>\n",
       "      <th>num_procedures</th>\n",
       "      <th>num_medications</th>\n",
       "      <th>number_outpatient</th>\n",
       "      <th>number_emergency</th>\n",
       "      <th>number_inpatient</th>\n",
       "      <th>diag_1</th>\n",
       "      <th>diag_2</th>\n",
       "      <th>diag_3</th>\n",
       "      <th>...</th>\n",
       "      <th>Insulin_Steady</th>\n",
       "      <th>change_Ch</th>\n",
       "      <th>change_No</th>\n",
       "      <th>diabetesMed_No</th>\n",
       "      <th>diabetesMed_Yes</th>\n",
       "      <th>Admission_Source_Emerg_Dept</th>\n",
       "      <th>Admission_Source_Missing</th>\n",
       "      <th>Admission_Source_Other</th>\n",
       "      <th>Admission_Source_Referral</th>\n",
       "      <th>Admission_Source_Transfer</th>\n",
       "    </tr>\n",
       "  </thead>\n",
       "  <tbody>\n",
       "    <tr>\n",
       "      <th>38179</th>\n",
       "      <td>-1.137970</td>\n",
       "      <td>-0.609203</td>\n",
       "      <td>2.743051</td>\n",
       "      <td>-0.892059</td>\n",
       "      <td>-0.362295</td>\n",
       "      <td>-0.312787</td>\n",
       "      <td>-0.538492</td>\n",
       "      <td>414</td>\n",
       "      <td>250.01</td>\n",
       "      <td>414</td>\n",
       "      <td>...</td>\n",
       "      <td>0</td>\n",
       "      <td>1</td>\n",
       "      <td>0</td>\n",
       "      <td>0</td>\n",
       "      <td>1</td>\n",
       "      <td>0</td>\n",
       "      <td>0</td>\n",
       "      <td>0</td>\n",
       "      <td>1</td>\n",
       "      <td>0</td>\n",
       "    </tr>\n",
       "    <tr>\n",
       "      <th>96739</th>\n",
       "      <td>-1.137970</td>\n",
       "      <td>-1.680635</td>\n",
       "      <td>1.567417</td>\n",
       "      <td>-0.503726</td>\n",
       "      <td>0.734082</td>\n",
       "      <td>1.589016</td>\n",
       "      <td>-0.538492</td>\n",
       "      <td>379</td>\n",
       "      <td>362</td>\n",
       "      <td>366</td>\n",
       "      <td>...</td>\n",
       "      <td>0</td>\n",
       "      <td>1</td>\n",
       "      <td>0</td>\n",
       "      <td>0</td>\n",
       "      <td>1</td>\n",
       "      <td>1</td>\n",
       "      <td>0</td>\n",
       "      <td>0</td>\n",
       "      <td>0</td>\n",
       "      <td>0</td>\n",
       "    </tr>\n",
       "    <tr>\n",
       "      <th>70345</th>\n",
       "      <td>-0.801986</td>\n",
       "      <td>-2.088799</td>\n",
       "      <td>-0.196033</td>\n",
       "      <td>0.014051</td>\n",
       "      <td>-0.362295</td>\n",
       "      <td>-0.312787</td>\n",
       "      <td>0.341344</td>\n",
       "      <td>414</td>\n",
       "      <td>413</td>\n",
       "      <td>403</td>\n",
       "      <td>...</td>\n",
       "      <td>0</td>\n",
       "      <td>0</td>\n",
       "      <td>1</td>\n",
       "      <td>1</td>\n",
       "      <td>0</td>\n",
       "      <td>1</td>\n",
       "      <td>0</td>\n",
       "      <td>0</td>\n",
       "      <td>0</td>\n",
       "      <td>0</td>\n",
       "    </tr>\n",
       "    <tr>\n",
       "      <th>217</th>\n",
       "      <td>-1.137970</td>\n",
       "      <td>0.564269</td>\n",
       "      <td>2.155234</td>\n",
       "      <td>-1.539281</td>\n",
       "      <td>-0.362295</td>\n",
       "      <td>-0.312787</td>\n",
       "      <td>-0.538492</td>\n",
       "      <td>414</td>\n",
       "      <td>250.6</td>\n",
       "      <td>250.51</td>\n",
       "      <td>...</td>\n",
       "      <td>1</td>\n",
       "      <td>0</td>\n",
       "      <td>1</td>\n",
       "      <td>0</td>\n",
       "      <td>1</td>\n",
       "      <td>0</td>\n",
       "      <td>0</td>\n",
       "      <td>0</td>\n",
       "      <td>1</td>\n",
       "      <td>0</td>\n",
       "    </tr>\n",
       "    <tr>\n",
       "      <th>11101</th>\n",
       "      <td>-0.801986</td>\n",
       "      <td>0.003043</td>\n",
       "      <td>0.391784</td>\n",
       "      <td>-0.374282</td>\n",
       "      <td>-0.362295</td>\n",
       "      <td>-0.312787</td>\n",
       "      <td>-0.538492</td>\n",
       "      <td>574</td>\n",
       "      <td>250</td>\n",
       "      <td>401</td>\n",
       "      <td>...</td>\n",
       "      <td>1</td>\n",
       "      <td>0</td>\n",
       "      <td>1</td>\n",
       "      <td>0</td>\n",
       "      <td>1</td>\n",
       "      <td>1</td>\n",
       "      <td>0</td>\n",
       "      <td>0</td>\n",
       "      <td>0</td>\n",
       "      <td>0</td>\n",
       "    </tr>\n",
       "    <tr>\n",
       "      <th>...</th>\n",
       "      <td>...</td>\n",
       "      <td>...</td>\n",
       "      <td>...</td>\n",
       "      <td>...</td>\n",
       "      <td>...</td>\n",
       "      <td>...</td>\n",
       "      <td>...</td>\n",
       "      <td>...</td>\n",
       "      <td>...</td>\n",
       "      <td>...</td>\n",
       "      <td>...</td>\n",
       "      <td>...</td>\n",
       "      <td>...</td>\n",
       "      <td>...</td>\n",
       "      <td>...</td>\n",
       "      <td>...</td>\n",
       "      <td>...</td>\n",
       "      <td>...</td>\n",
       "      <td>...</td>\n",
       "      <td>...</td>\n",
       "      <td>...</td>\n",
       "    </tr>\n",
       "    <tr>\n",
       "      <th>5324</th>\n",
       "      <td>2.221878</td>\n",
       "      <td>0.819372</td>\n",
       "      <td>-0.783849</td>\n",
       "      <td>-0.374282</td>\n",
       "      <td>-0.362295</td>\n",
       "      <td>-0.312787</td>\n",
       "      <td>0.341344</td>\n",
       "      <td>486</td>\n",
       "      <td>250</td>\n",
       "      <td>530</td>\n",
       "      <td>...</td>\n",
       "      <td>0</td>\n",
       "      <td>0</td>\n",
       "      <td>1</td>\n",
       "      <td>1</td>\n",
       "      <td>0</td>\n",
       "      <td>1</td>\n",
       "      <td>0</td>\n",
       "      <td>0</td>\n",
       "      <td>0</td>\n",
       "      <td>0</td>\n",
       "    </tr>\n",
       "    <tr>\n",
       "      <th>38736</th>\n",
       "      <td>0.877939</td>\n",
       "      <td>0.054064</td>\n",
       "      <td>2.155234</td>\n",
       "      <td>2.602938</td>\n",
       "      <td>-0.362295</td>\n",
       "      <td>-0.312787</td>\n",
       "      <td>0.341344</td>\n",
       "      <td>721</td>\n",
       "      <td>496</td>\n",
       "      <td>414</td>\n",
       "      <td>...</td>\n",
       "      <td>0</td>\n",
       "      <td>1</td>\n",
       "      <td>0</td>\n",
       "      <td>0</td>\n",
       "      <td>1</td>\n",
       "      <td>1</td>\n",
       "      <td>0</td>\n",
       "      <td>0</td>\n",
       "      <td>0</td>\n",
       "      <td>0</td>\n",
       "    </tr>\n",
       "    <tr>\n",
       "      <th>41916</th>\n",
       "      <td>-0.801986</td>\n",
       "      <td>-2.139820</td>\n",
       "      <td>-0.783849</td>\n",
       "      <td>-0.762615</td>\n",
       "      <td>-0.362295</td>\n",
       "      <td>-0.312787</td>\n",
       "      <td>1.221179</td>\n",
       "      <td>486</td>\n",
       "      <td>496</td>\n",
       "      <td>428</td>\n",
       "      <td>...</td>\n",
       "      <td>0</td>\n",
       "      <td>1</td>\n",
       "      <td>0</td>\n",
       "      <td>0</td>\n",
       "      <td>1</td>\n",
       "      <td>1</td>\n",
       "      <td>0</td>\n",
       "      <td>0</td>\n",
       "      <td>0</td>\n",
       "      <td>0</td>\n",
       "    </tr>\n",
       "    <tr>\n",
       "      <th>31351</th>\n",
       "      <td>-0.466001</td>\n",
       "      <td>0.513248</td>\n",
       "      <td>-0.783849</td>\n",
       "      <td>0.531829</td>\n",
       "      <td>-0.362295</td>\n",
       "      <td>-0.312787</td>\n",
       "      <td>1.221179</td>\n",
       "      <td>536</td>\n",
       "      <td>428</td>\n",
       "      <td>250.6</td>\n",
       "      <td>...</td>\n",
       "      <td>1</td>\n",
       "      <td>1</td>\n",
       "      <td>0</td>\n",
       "      <td>0</td>\n",
       "      <td>1</td>\n",
       "      <td>1</td>\n",
       "      <td>0</td>\n",
       "      <td>0</td>\n",
       "      <td>0</td>\n",
       "      <td>0</td>\n",
       "    </tr>\n",
       "    <tr>\n",
       "      <th>2226</th>\n",
       "      <td>-1.137970</td>\n",
       "      <td>0.666310</td>\n",
       "      <td>-0.196033</td>\n",
       "      <td>-0.503726</td>\n",
       "      <td>-0.362295</td>\n",
       "      <td>-0.312787</td>\n",
       "      <td>-0.538492</td>\n",
       "      <td>218</td>\n",
       "      <td>218</td>\n",
       "      <td>625</td>\n",
       "      <td>...</td>\n",
       "      <td>1</td>\n",
       "      <td>1</td>\n",
       "      <td>0</td>\n",
       "      <td>0</td>\n",
       "      <td>1</td>\n",
       "      <td>0</td>\n",
       "      <td>0</td>\n",
       "      <td>0</td>\n",
       "      <td>1</td>\n",
       "      <td>0</td>\n",
       "    </tr>\n",
       "  </tbody>\n",
       "</table>\n",
       "<p>79474 rows × 80 columns</p>\n",
       "</div>"
      ],
      "text/plain": [
       "       time_in_hospital  num_lab_procedures  num_procedures  num_medications  \\\n",
       "38179         -1.137970           -0.609203        2.743051        -0.892059   \n",
       "96739         -1.137970           -1.680635        1.567417        -0.503726   \n",
       "70345         -0.801986           -2.088799       -0.196033         0.014051   \n",
       "217           -1.137970            0.564269        2.155234        -1.539281   \n",
       "11101         -0.801986            0.003043        0.391784        -0.374282   \n",
       "...                 ...                 ...             ...              ...   \n",
       "5324           2.221878            0.819372       -0.783849        -0.374282   \n",
       "38736          0.877939            0.054064        2.155234         2.602938   \n",
       "41916         -0.801986           -2.139820       -0.783849        -0.762615   \n",
       "31351         -0.466001            0.513248       -0.783849         0.531829   \n",
       "2226          -1.137970            0.666310       -0.196033        -0.503726   \n",
       "\n",
       "       number_outpatient  number_emergency  number_inpatient diag_1  diag_2  \\\n",
       "38179          -0.362295         -0.312787         -0.538492    414  250.01   \n",
       "96739           0.734082          1.589016         -0.538492    379     362   \n",
       "70345          -0.362295         -0.312787          0.341344    414     413   \n",
       "217            -0.362295         -0.312787         -0.538492    414   250.6   \n",
       "11101          -0.362295         -0.312787         -0.538492    574     250   \n",
       "...                  ...               ...               ...    ...     ...   \n",
       "5324           -0.362295         -0.312787          0.341344    486     250   \n",
       "38736          -0.362295         -0.312787          0.341344    721     496   \n",
       "41916          -0.362295         -0.312787          1.221179    486     496   \n",
       "31351          -0.362295         -0.312787          1.221179    536     428   \n",
       "2226           -0.362295         -0.312787         -0.538492    218     218   \n",
       "\n",
       "       diag_3  ...  Insulin_Steady  change_Ch  change_No  diabetesMed_No  \\\n",
       "38179     414  ...               0          1          0               0   \n",
       "96739     366  ...               0          1          0               0   \n",
       "70345     403  ...               0          0          1               1   \n",
       "217    250.51  ...               1          0          1               0   \n",
       "11101     401  ...               1          0          1               0   \n",
       "...       ...  ...             ...        ...        ...             ...   \n",
       "5324      530  ...               0          0          1               1   \n",
       "38736     414  ...               0          1          0               0   \n",
       "41916     428  ...               0          1          0               0   \n",
       "31351   250.6  ...               1          1          0               0   \n",
       "2226      625  ...               1          1          0               0   \n",
       "\n",
       "       diabetesMed_Yes  Admission_Source_Emerg_Dept  Admission_Source_Missing  \\\n",
       "38179                1                            0                         0   \n",
       "96739                1                            1                         0   \n",
       "70345                0                            1                         0   \n",
       "217                  1                            0                         0   \n",
       "11101                1                            1                         0   \n",
       "...                ...                          ...                       ...   \n",
       "5324                 0                            1                         0   \n",
       "38736                1                            1                         0   \n",
       "41916                1                            1                         0   \n",
       "31351                1                            1                         0   \n",
       "2226                 1                            0                         0   \n",
       "\n",
       "       Admission_Source_Other  Admission_Source_Referral  \\\n",
       "38179                       0                          1   \n",
       "96739                       0                          0   \n",
       "70345                       0                          0   \n",
       "217                         0                          1   \n",
       "11101                       0                          0   \n",
       "...                       ...                        ...   \n",
       "5324                        0                          0   \n",
       "38736                       0                          0   \n",
       "41916                       0                          0   \n",
       "31351                       0                          0   \n",
       "2226                        0                          1   \n",
       "\n",
       "       Admission_Source_Transfer  \n",
       "38179                          0  \n",
       "96739                          0  \n",
       "70345                          0  \n",
       "217                            0  \n",
       "11101                          0  \n",
       "...                          ...  \n",
       "5324                           0  \n",
       "38736                          0  \n",
       "41916                          0  \n",
       "31351                          0  \n",
       "2226                           0  \n",
       "\n",
       "[79474 rows x 80 columns]"
      ]
     },
     "execution_count": 12,
     "metadata": {},
     "output_type": "execute_result"
    }
   ],
   "source": [
    "X_train"
   ]
  },
  {
   "cell_type": "code",
   "execution_count": null,
   "id": "39f42c65",
   "metadata": {
    "id": "39f42c65"
   },
   "outputs": [],
   "source": []
  },
  {
   "cell_type": "markdown",
   "id": "93bc1074",
   "metadata": {
    "id": "93bc1074"
   },
   "source": [
    "## SMOTE"
   ]
  },
  {
   "cell_type": "code",
   "execution_count": 13,
   "id": "dd74a85c",
   "metadata": {
    "id": "dd74a85c"
   },
   "outputs": [],
   "source": [
    "# Three attributes contain NaN data so they need to be removed from the dataset\n",
    "# Remove diag_1, diag_2 and diag_3 due to NaN\n",
    "X_train = X_train.drop('diag_1', axis = 1)\n",
    "X_train = X_train.drop('diag_2', axis = 1)\n",
    "X_train = X_train.drop('diag_3', axis = 1)"
   ]
  },
  {
   "cell_type": "code",
   "execution_count": 14,
   "id": "cd2be68c",
   "metadata": {
    "id": "cd2be68c"
   },
   "outputs": [],
   "source": [
    "smote = SMOTE()\n",
    "X_train_resampled, Y_train_resampled = smote.fit_resample(X_train, Y_train)"
   ]
  },
  {
   "cell_type": "code",
   "execution_count": 15,
   "id": "b7302c44",
   "metadata": {
    "colab": {
     "base_uri": "https://localhost:8080/"
    },
    "id": "b7302c44",
    "outputId": "b865f3fa-dd7e-47e1-9d93-d9e2e0d748b3"
   },
   "outputs": [
    {
     "name": "stdout",
     "output_type": "stream",
     "text": [
      "<class 'pandas.core.series.Series'>\n",
      "Index: 79474 entries, 38179 to 2226\n",
      "Series name: readmitted\n",
      "Non-Null Count  Dtype   \n",
      "--------------  -----   \n",
      "79474 non-null  category\n",
      "dtypes: category(1)\n",
      "memory usage: 698.6 KB\n"
     ]
    }
   ],
   "source": [
    "Y_train.info()"
   ]
  },
  {
   "cell_type": "code",
   "execution_count": 16,
   "id": "8302f563",
   "metadata": {
    "id": "8302f563"
   },
   "outputs": [
    {
     "name": "stdout",
     "output_type": "stream",
     "text": [
      "<class 'pandas.core.series.Series'>\n",
      "RangeIndex: 126204 entries, 0 to 126203\n",
      "Series name: readmitted\n",
      "Non-Null Count   Dtype   \n",
      "--------------   -----   \n",
      "126204 non-null  category\n",
      "dtypes: category(1)\n",
      "memory usage: 123.5 KB\n"
     ]
    }
   ],
   "source": [
    "Y_train_resampled.info()"
   ]
  },
  {
   "cell_type": "markdown",
   "id": "98fbcd62",
   "metadata": {
    "id": "98fbcd62"
   },
   "source": [
    "## Feature Importance from Tree-Based Models"
   ]
  },
  {
   "cell_type": "code",
   "execution_count": 17,
   "id": "1e99a685",
   "metadata": {
    "colab": {
     "base_uri": "https://localhost:8080/"
    },
    "id": "1e99a685",
    "outputId": "c42bf490-9691-45e0-9c56-e8c262829c5c",
    "scrolled": false
   },
   "outputs": [
    {
     "name": "stdout",
     "output_type": "stream",
     "text": [
      "Time taken: 25.931939125061035 seconds\n"
     ]
    }
   ],
   "source": [
    "# Time how long this code takes to run\n",
    "start_time = time.time()\n",
    "\n",
    "# Train a random forest classifier\n",
    "classifier = RandomForestClassifier()\n",
    "classifier.fit(X_train_resampled, Y_train_resampled)\n",
    "\n",
    "# Get feature importance scores\n",
    "important_features = classifier.feature_importances_\n",
    "\n",
    "# Get feature names from your dataset\n",
    "feature_names = X_train_resampled.columns\n",
    "\n",
    "# Create a dataframe to associate feature names with their importance scores\n",
    "feature_importance_df = pd.DataFrame({'Feature' : feature_names, 'Importance' : important_features})\n",
    "\n",
    "# Sort the features by importance in descending order\n",
    "feature_importance_df = feature_importance_df.sort_values(by='Importance', ascending = False)\n",
    "\n",
    "end_time = time.time()\n",
    "elapsed_time = end_time - start_time\n",
    "print(f'Time taken: {elapsed_time} seconds')"
   ]
  },
  {
   "cell_type": "code",
   "execution_count": 18,
   "id": "828fa47b",
   "metadata": {
    "colab": {
     "base_uri": "https://localhost:8080/",
     "height": 1000
    },
    "id": "828fa47b",
    "outputId": "a8a6a35e-a376-4cea-a5e6-67cc2d15e295"
   },
   "outputs": [
    {
     "data": {
      "image/png": "[encoded data removed]",
      "text/plain": [
       "<Figure size 1000x2000 with 1 Axes>"
      ]
     },
     "metadata": {},
     "output_type": "display_data"
    }
   ],
   "source": [
    "# ***************** THIS CODE DOESN'T CHANGE THE DATASET ************************\n",
    "\n",
    "# Visualize the feature importance scores\n",
    "\n",
    "plt.figure(figsize=(10,20))\n",
    "plt.barh(feature_importance_df['Feature'], feature_importance_df['Importance'])\n",
    "plt.xlabel('Importance Score')\n",
    "plt.ylabel('Feature')\n",
    "plt.title('Feature Importance')\n",
    "plt.show()"
   ]
  },
  {
   "cell_type": "code",
   "execution_count": 19,
   "id": "cb63e6fb",
   "metadata": {
    "colab": {
     "base_uri": "https://localhost:8080/",
     "height": 833
    },
    "id": "cb63e6fb",
    "outputId": "c95a5cc0-a3d0-4e04-a4b9-6d4cec7b22b9",
    "scrolled": false
   },
   "outputs": [
    {
     "data": {
      "text/html": [
       "<div>\n",
       "<style scoped>\n",
       "    .dataframe tbody tr th:only-of-type {\n",
       "        vertical-align: middle;\n",
       "    }\n",
       "\n",
       "    .dataframe tbody tr th {\n",
       "        vertical-align: top;\n",
       "    }\n",
       "\n",
       "    .dataframe thead th {\n",
       "        text-align: right;\n",
       "    }\n",
       "</style>\n",
       "<table border=\"1\" class=\"dataframe\">\n",
       "  <thead>\n",
       "    <tr style=\"text-align: right;\">\n",
       "      <th></th>\n",
       "      <th>Feature</th>\n",
       "      <th>Importance</th>\n",
       "    </tr>\n",
       "  </thead>\n",
       "  <tbody>\n",
       "    <tr>\n",
       "      <th>1</th>\n",
       "      <td>num_lab_procedures</td>\n",
       "      <td>0.130671</td>\n",
       "    </tr>\n",
       "    <tr>\n",
       "      <th>3</th>\n",
       "      <td>num_medications</td>\n",
       "      <td>0.123827</td>\n",
       "    </tr>\n",
       "    <tr>\n",
       "      <th>0</th>\n",
       "      <td>time_in_hospital</td>\n",
       "      <td>0.107811</td>\n",
       "    </tr>\n",
       "    <tr>\n",
       "      <th>7</th>\n",
       "      <td>number_diagnoses</td>\n",
       "      <td>0.074585</td>\n",
       "    </tr>\n",
       "    <tr>\n",
       "      <th>2</th>\n",
       "      <td>num_procedures</td>\n",
       "      <td>0.073559</td>\n",
       "    </tr>\n",
       "    <tr>\n",
       "      <th>6</th>\n",
       "      <td>number_inpatient</td>\n",
       "      <td>0.070915</td>\n",
       "    </tr>\n",
       "    <tr>\n",
       "      <th>4</th>\n",
       "      <td>number_outpatient</td>\n",
       "      <td>0.029444</td>\n",
       "    </tr>\n",
       "    <tr>\n",
       "      <th>8</th>\n",
       "      <td>gender_Female</td>\n",
       "      <td>0.018742</td>\n",
       "    </tr>\n",
       "    <tr>\n",
       "      <th>5</th>\n",
       "      <td>number_emergency</td>\n",
       "      <td>0.018551</td>\n",
       "    </tr>\n",
       "    <tr>\n",
       "      <th>9</th>\n",
       "      <td>gender_Male</td>\n",
       "      <td>0.018149</td>\n",
       "    </tr>\n",
       "    <tr>\n",
       "      <th>18</th>\n",
       "      <td>age_[70-80)</td>\n",
       "      <td>0.016511</td>\n",
       "    </tr>\n",
       "    <tr>\n",
       "      <th>26</th>\n",
       "      <td>discharge_disposition_id_1</td>\n",
       "      <td>0.014967</td>\n",
       "    </tr>\n",
       "    <tr>\n",
       "      <th>17</th>\n",
       "      <td>age_[60-70)</td>\n",
       "      <td>0.014671</td>\n",
       "    </tr>\n",
       "    <tr>\n",
       "      <th>22</th>\n",
       "      <td>admission_type_id_Emergency</td>\n",
       "      <td>0.013648</td>\n",
       "    </tr>\n",
       "    <tr>\n",
       "      <th>67</th>\n",
       "      <td>Insulin_Steady</td>\n",
       "      <td>0.013575</td>\n",
       "    </tr>\n",
       "    <tr>\n",
       "      <th>19</th>\n",
       "      <td>age_[80-90)</td>\n",
       "      <td>0.013202</td>\n",
       "    </tr>\n",
       "    <tr>\n",
       "      <th>52</th>\n",
       "      <td>A1Cresult_nan</td>\n",
       "      <td>0.012874</td>\n",
       "    </tr>\n",
       "    <tr>\n",
       "      <th>68</th>\n",
       "      <td>change_Ch</td>\n",
       "      <td>0.012547</td>\n",
       "    </tr>\n",
       "    <tr>\n",
       "      <th>25</th>\n",
       "      <td>admission_type_id_Urgent</td>\n",
       "      <td>0.012528</td>\n",
       "    </tr>\n",
       "    <tr>\n",
       "      <th>69</th>\n",
       "      <td>change_No</td>\n",
       "      <td>0.012245</td>\n",
       "    </tr>\n",
       "    <tr>\n",
       "      <th>66</th>\n",
       "      <td>Insulin_No</td>\n",
       "      <td>0.011919</td>\n",
       "    </tr>\n",
       "    <tr>\n",
       "      <th>72</th>\n",
       "      <td>Admission_Source_Emerg_Dept</td>\n",
       "      <td>0.011426</td>\n",
       "    </tr>\n",
       "    <tr>\n",
       "      <th>16</th>\n",
       "      <td>age_[50-60)</td>\n",
       "      <td>0.011408</td>\n",
       "    </tr>\n",
       "    <tr>\n",
       "      <th>31</th>\n",
       "      <td>discharge_disposition_id_6</td>\n",
       "      <td>0.010705</td>\n",
       "    </tr>\n",
       "    <tr>\n",
       "      <th>75</th>\n",
       "      <td>Admission_Source_Referral</td>\n",
       "      <td>0.010632</td>\n",
       "    </tr>\n",
       "  </tbody>\n",
       "</table>\n",
       "</div>"
      ],
      "text/plain": [
       "                        Feature  Importance\n",
       "1            num_lab_procedures    0.130671\n",
       "3               num_medications    0.123827\n",
       "0              time_in_hospital    0.107811\n",
       "7              number_diagnoses    0.074585\n",
       "2                num_procedures    0.073559\n",
       "6              number_inpatient    0.070915\n",
       "4             number_outpatient    0.029444\n",
       "8                 gender_Female    0.018742\n",
       "5              number_emergency    0.018551\n",
       "9                   gender_Male    0.018149\n",
       "18                  age_[70-80)    0.016511\n",
       "26   discharge_disposition_id_1    0.014967\n",
       "17                  age_[60-70)    0.014671\n",
       "22  admission_type_id_Emergency    0.013648\n",
       "67               Insulin_Steady    0.013575\n",
       "19                  age_[80-90)    0.013202\n",
       "52                A1Cresult_nan    0.012874\n",
       "68                    change_Ch    0.012547\n",
       "25     admission_type_id_Urgent    0.012528\n",
       "69                    change_No    0.012245\n",
       "66                   Insulin_No    0.011919\n",
       "72  Admission_Source_Emerg_Dept    0.011426\n",
       "16                  age_[50-60)    0.011408\n",
       "31   discharge_disposition_id_6    0.010705\n",
       "75    Admission_Source_Referral    0.010632"
      ]
     },
     "execution_count": 19,
     "metadata": {},
     "output_type": "execute_result"
    }
   ],
   "source": [
    "feature_importance_df.iloc[:25, :]"
   ]
  },
  {
   "cell_type": "code",
   "execution_count": 20,
   "id": "54a82245",
   "metadata": {
    "id": "54a82245"
   },
   "outputs": [],
   "source": [
    "# Select the top 25 attributes in a list\n",
    "top_25_features = feature_importance_df.iloc[:25, 0].tolist() \n",
    "\n",
    "# Select only the top 25 features from X_train\n",
    "X_train_top_25 = X_train_resampled[top_25_features]"
   ]
  },
  {
   "cell_type": "code",
   "execution_count": 21,
   "id": "4e8e988a",
   "metadata": {},
   "outputs": [
    {
     "name": "stdout",
     "output_type": "stream",
     "text": [
      "25\n",
      "(126204, 25)\n"
     ]
    }
   ],
   "source": [
    "print(len(top_25_features))\n",
    "\n",
    "print(X_train_top_25.shape)"
   ]
  },
  {
   "cell_type": "code",
   "execution_count": 22,
   "id": "45f63b57",
   "metadata": {
    "colab": {
     "base_uri": "https://localhost:8080/",
     "height": 400
    },
    "id": "45f63b57",
    "outputId": "81712f7a-8738-49c1-a0d5-33887e015013"
   },
   "outputs": [
    {
     "data": {
      "text/html": [
       "<div>\n",
       "<style scoped>\n",
       "    .dataframe tbody tr th:only-of-type {\n",
       "        vertical-align: middle;\n",
       "    }\n",
       "\n",
       "    .dataframe tbody tr th {\n",
       "        vertical-align: top;\n",
       "    }\n",
       "\n",
       "    .dataframe thead th {\n",
       "        text-align: right;\n",
       "    }\n",
       "</style>\n",
       "<table border=\"1\" class=\"dataframe\">\n",
       "  <thead>\n",
       "    <tr style=\"text-align: right;\">\n",
       "      <th></th>\n",
       "      <th>num_lab_procedures</th>\n",
       "      <th>num_medications</th>\n",
       "      <th>time_in_hospital</th>\n",
       "      <th>number_diagnoses</th>\n",
       "      <th>num_procedures</th>\n",
       "      <th>number_inpatient</th>\n",
       "      <th>number_outpatient</th>\n",
       "      <th>gender_Female</th>\n",
       "      <th>number_emergency</th>\n",
       "      <th>gender_Male</th>\n",
       "      <th>...</th>\n",
       "      <th>age_[80-90)</th>\n",
       "      <th>A1Cresult_nan</th>\n",
       "      <th>change_Ch</th>\n",
       "      <th>admission_type_id_Urgent</th>\n",
       "      <th>change_No</th>\n",
       "      <th>Insulin_No</th>\n",
       "      <th>Admission_Source_Emerg_Dept</th>\n",
       "      <th>age_[50-60)</th>\n",
       "      <th>discharge_disposition_id_6</th>\n",
       "      <th>Admission_Source_Referral</th>\n",
       "    </tr>\n",
       "  </thead>\n",
       "  <tbody>\n",
       "    <tr>\n",
       "      <th>0</th>\n",
       "      <td>-0.609203</td>\n",
       "      <td>-0.892059</td>\n",
       "      <td>-1.137970</td>\n",
       "      <td>-1.761648</td>\n",
       "      <td>2.743051</td>\n",
       "      <td>-0.538492</td>\n",
       "      <td>-0.362295</td>\n",
       "      <td>0</td>\n",
       "      <td>-0.312787</td>\n",
       "      <td>1</td>\n",
       "      <td>...</td>\n",
       "      <td>0</td>\n",
       "      <td>1</td>\n",
       "      <td>1</td>\n",
       "      <td>0</td>\n",
       "      <td>0</td>\n",
       "      <td>0</td>\n",
       "      <td>0</td>\n",
       "      <td>0</td>\n",
       "      <td>0</td>\n",
       "      <td>1</td>\n",
       "    </tr>\n",
       "    <tr>\n",
       "      <th>1</th>\n",
       "      <td>-1.680635</td>\n",
       "      <td>-0.503726</td>\n",
       "      <td>-1.137970</td>\n",
       "      <td>0.825436</td>\n",
       "      <td>1.567417</td>\n",
       "      <td>-0.538492</td>\n",
       "      <td>0.734082</td>\n",
       "      <td>1</td>\n",
       "      <td>1.589016</td>\n",
       "      <td>0</td>\n",
       "      <td>...</td>\n",
       "      <td>0</td>\n",
       "      <td>1</td>\n",
       "      <td>1</td>\n",
       "      <td>0</td>\n",
       "      <td>0</td>\n",
       "      <td>0</td>\n",
       "      <td>1</td>\n",
       "      <td>0</td>\n",
       "      <td>0</td>\n",
       "      <td>0</td>\n",
       "    </tr>\n",
       "    <tr>\n",
       "      <th>2</th>\n",
       "      <td>-2.088799</td>\n",
       "      <td>0.014051</td>\n",
       "      <td>-0.801986</td>\n",
       "      <td>0.825436</td>\n",
       "      <td>-0.196033</td>\n",
       "      <td>0.341344</td>\n",
       "      <td>-0.362295</td>\n",
       "      <td>0</td>\n",
       "      <td>-0.312787</td>\n",
       "      <td>1</td>\n",
       "      <td>...</td>\n",
       "      <td>0</td>\n",
       "      <td>0</td>\n",
       "      <td>0</td>\n",
       "      <td>0</td>\n",
       "      <td>1</td>\n",
       "      <td>1</td>\n",
       "      <td>1</td>\n",
       "      <td>0</td>\n",
       "      <td>0</td>\n",
       "      <td>0</td>\n",
       "    </tr>\n",
       "    <tr>\n",
       "      <th>3</th>\n",
       "      <td>0.564269</td>\n",
       "      <td>-1.539281</td>\n",
       "      <td>-1.137970</td>\n",
       "      <td>-0.726815</td>\n",
       "      <td>2.155234</td>\n",
       "      <td>-0.538492</td>\n",
       "      <td>-0.362295</td>\n",
       "      <td>0</td>\n",
       "      <td>-0.312787</td>\n",
       "      <td>1</td>\n",
       "      <td>...</td>\n",
       "      <td>0</td>\n",
       "      <td>1</td>\n",
       "      <td>0</td>\n",
       "      <td>0</td>\n",
       "      <td>1</td>\n",
       "      <td>0</td>\n",
       "      <td>0</td>\n",
       "      <td>1</td>\n",
       "      <td>0</td>\n",
       "      <td>1</td>\n",
       "    </tr>\n",
       "    <tr>\n",
       "      <th>4</th>\n",
       "      <td>0.003043</td>\n",
       "      <td>-0.374282</td>\n",
       "      <td>-0.801986</td>\n",
       "      <td>-1.761648</td>\n",
       "      <td>0.391784</td>\n",
       "      <td>-0.538492</td>\n",
       "      <td>-0.362295</td>\n",
       "      <td>1</td>\n",
       "      <td>-0.312787</td>\n",
       "      <td>0</td>\n",
       "      <td>...</td>\n",
       "      <td>0</td>\n",
       "      <td>1</td>\n",
       "      <td>0</td>\n",
       "      <td>0</td>\n",
       "      <td>1</td>\n",
       "      <td>0</td>\n",
       "      <td>1</td>\n",
       "      <td>1</td>\n",
       "      <td>0</td>\n",
       "      <td>0</td>\n",
       "    </tr>\n",
       "    <tr>\n",
       "      <th>5</th>\n",
       "      <td>0.615289</td>\n",
       "      <td>-1.150948</td>\n",
       "      <td>-0.801986</td>\n",
       "      <td>-1.244232</td>\n",
       "      <td>-0.783849</td>\n",
       "      <td>-0.538492</td>\n",
       "      <td>-0.362295</td>\n",
       "      <td>0</td>\n",
       "      <td>-0.312787</td>\n",
       "      <td>1</td>\n",
       "      <td>...</td>\n",
       "      <td>0</td>\n",
       "      <td>0</td>\n",
       "      <td>0</td>\n",
       "      <td>0</td>\n",
       "      <td>1</td>\n",
       "      <td>0</td>\n",
       "      <td>1</td>\n",
       "      <td>0</td>\n",
       "      <td>0</td>\n",
       "      <td>0</td>\n",
       "    </tr>\n",
       "    <tr>\n",
       "      <th>6</th>\n",
       "      <td>0.972433</td>\n",
       "      <td>-0.892059</td>\n",
       "      <td>-1.137970</td>\n",
       "      <td>0.825436</td>\n",
       "      <td>0.979601</td>\n",
       "      <td>-0.538492</td>\n",
       "      <td>-0.362295</td>\n",
       "      <td>1</td>\n",
       "      <td>-0.312787</td>\n",
       "      <td>0</td>\n",
       "      <td>...</td>\n",
       "      <td>0</td>\n",
       "      <td>0</td>\n",
       "      <td>0</td>\n",
       "      <td>0</td>\n",
       "      <td>1</td>\n",
       "      <td>1</td>\n",
       "      <td>0</td>\n",
       "      <td>1</td>\n",
       "      <td>0</td>\n",
       "      <td>0</td>\n",
       "    </tr>\n",
       "    <tr>\n",
       "      <th>7</th>\n",
       "      <td>0.615289</td>\n",
       "      <td>-0.374282</td>\n",
       "      <td>-0.130016</td>\n",
       "      <td>0.825436</td>\n",
       "      <td>-0.783849</td>\n",
       "      <td>-0.538492</td>\n",
       "      <td>-0.362295</td>\n",
       "      <td>0</td>\n",
       "      <td>-0.312787</td>\n",
       "      <td>1</td>\n",
       "      <td>...</td>\n",
       "      <td>0</td>\n",
       "      <td>1</td>\n",
       "      <td>1</td>\n",
       "      <td>0</td>\n",
       "      <td>0</td>\n",
       "      <td>0</td>\n",
       "      <td>1</td>\n",
       "      <td>0</td>\n",
       "      <td>0</td>\n",
       "      <td>0</td>\n",
       "    </tr>\n",
       "    <tr>\n",
       "      <th>8</th>\n",
       "      <td>-0.711245</td>\n",
       "      <td>1.955716</td>\n",
       "      <td>-1.137970</td>\n",
       "      <td>-0.209398</td>\n",
       "      <td>-0.196033</td>\n",
       "      <td>-0.538492</td>\n",
       "      <td>0.734082</td>\n",
       "      <td>1</td>\n",
       "      <td>-0.312787</td>\n",
       "      <td>0</td>\n",
       "      <td>...</td>\n",
       "      <td>0</td>\n",
       "      <td>1</td>\n",
       "      <td>0</td>\n",
       "      <td>0</td>\n",
       "      <td>1</td>\n",
       "      <td>1</td>\n",
       "      <td>0</td>\n",
       "      <td>0</td>\n",
       "      <td>0</td>\n",
       "      <td>1</td>\n",
       "    </tr>\n",
       "    <tr>\n",
       "      <th>9</th>\n",
       "      <td>-1.221450</td>\n",
       "      <td>-1.409836</td>\n",
       "      <td>-0.466001</td>\n",
       "      <td>0.308019</td>\n",
       "      <td>-0.783849</td>\n",
       "      <td>-0.538492</td>\n",
       "      <td>-0.362295</td>\n",
       "      <td>1</td>\n",
       "      <td>-0.312787</td>\n",
       "      <td>0</td>\n",
       "      <td>...</td>\n",
       "      <td>0</td>\n",
       "      <td>1</td>\n",
       "      <td>0</td>\n",
       "      <td>0</td>\n",
       "      <td>1</td>\n",
       "      <td>1</td>\n",
       "      <td>0</td>\n",
       "      <td>0</td>\n",
       "      <td>0</td>\n",
       "      <td>0</td>\n",
       "    </tr>\n",
       "  </tbody>\n",
       "</table>\n",
       "<p>10 rows × 25 columns</p>\n",
       "</div>"
      ],
      "text/plain": [
       "   num_lab_procedures  num_medications  time_in_hospital  number_diagnoses  \\\n",
       "0           -0.609203        -0.892059         -1.137970         -1.761648   \n",
       "1           -1.680635        -0.503726         -1.137970          0.825436   \n",
       "2           -2.088799         0.014051         -0.801986          0.825436   \n",
       "3            0.564269        -1.539281         -1.137970         -0.726815   \n",
       "4            0.003043        -0.374282         -0.801986         -1.761648   \n",
       "5            0.615289        -1.150948         -0.801986         -1.244232   \n",
       "6            0.972433        -0.892059         -1.137970          0.825436   \n",
       "7            0.615289        -0.374282         -0.130016          0.825436   \n",
       "8           -0.711245         1.955716         -1.137970         -0.209398   \n",
       "9           -1.221450        -1.409836         -0.466001          0.308019   \n",
       "\n",
       "   num_procedures  number_inpatient  number_outpatient  gender_Female  \\\n",
       "0        2.743051         -0.538492          -0.362295              0   \n",
       "1        1.567417         -0.538492           0.734082              1   \n",
       "2       -0.196033          0.341344          -0.362295              0   \n",
       "3        2.155234         -0.538492          -0.362295              0   \n",
       "4        0.391784         -0.538492          -0.362295              1   \n",
       "5       -0.783849         -0.538492          -0.362295              0   \n",
       "6        0.979601         -0.538492          -0.362295              1   \n",
       "7       -0.783849         -0.538492          -0.362295              0   \n",
       "8       -0.196033         -0.538492           0.734082              1   \n",
       "9       -0.783849         -0.538492          -0.362295              1   \n",
       "\n",
       "   number_emergency  gender_Male  ...  age_[80-90)  A1Cresult_nan  change_Ch  \\\n",
       "0         -0.312787            1  ...            0              1          1   \n",
       "1          1.589016            0  ...            0              1          1   \n",
       "2         -0.312787            1  ...            0              0          0   \n",
       "3         -0.312787            1  ...            0              1          0   \n",
       "4         -0.312787            0  ...            0              1          0   \n",
       "5         -0.312787            1  ...            0              0          0   \n",
       "6         -0.312787            0  ...            0              0          0   \n",
       "7         -0.312787            1  ...            0              1          1   \n",
       "8         -0.312787            0  ...            0              1          0   \n",
       "9         -0.312787            0  ...            0              1          0   \n",
       "\n",
       "   admission_type_id_Urgent  change_No  Insulin_No  \\\n",
       "0                         0          0           0   \n",
       "1                         0          0           0   \n",
       "2                         0          1           1   \n",
       "3                         0          1           0   \n",
       "4                         0          1           0   \n",
       "5                         0          1           0   \n",
       "6                         0          1           1   \n",
       "7                         0          0           0   \n",
       "8                         0          1           1   \n",
       "9                         0          1           1   \n",
       "\n",
       "   Admission_Source_Emerg_Dept  age_[50-60)  discharge_disposition_id_6  \\\n",
       "0                            0            0                           0   \n",
       "1                            1            0                           0   \n",
       "2                            1            0                           0   \n",
       "3                            0            1                           0   \n",
       "4                            1            1                           0   \n",
       "5                            1            0                           0   \n",
       "6                            0            1                           0   \n",
       "7                            1            0                           0   \n",
       "8                            0            0                           0   \n",
       "9                            0            0                           0   \n",
       "\n",
       "   Admission_Source_Referral  \n",
       "0                          1  \n",
       "1                          0  \n",
       "2                          0  \n",
       "3                          1  \n",
       "4                          0  \n",
       "5                          0  \n",
       "6                          0  \n",
       "7                          0  \n",
       "8                          1  \n",
       "9                          0  \n",
       "\n",
       "[10 rows x 25 columns]"
      ]
     },
     "execution_count": 22,
     "metadata": {},
     "output_type": "execute_result"
    }
   ],
   "source": [
    "X_train_top_25.head(10)"
   ]
  },
  {
   "cell_type": "code",
   "execution_count": 23,
   "id": "c2ee0c49",
   "metadata": {
    "id": "c2ee0c49"
   },
   "outputs": [],
   "source": [
    "# Make changes to X_test dataset\n",
    "X_test_tree = X_test[top_25_features]"
   ]
  },
  {
   "cell_type": "code",
   "execution_count": 24,
   "id": "2f8e6704",
   "metadata": {
    "colab": {
     "base_uri": "https://localhost:8080/"
    },
    "id": "2f8e6704",
    "outputId": "b02f4cf1-29b2-446b-e27b-26f99684a414"
   },
   "outputs": [
    {
     "name": "stdout",
     "output_type": "stream",
     "text": [
      "X_train\n",
      " (126204, 25)\n",
      "\n",
      "X_test\n",
      " (19869, 25)\n"
     ]
    }
   ],
   "source": [
    "print('X_train\\n', X_train_top_25.shape)\n",
    "print('\\nX_test\\n', X_test_tree.shape)"
   ]
  },
  {
   "cell_type": "code",
   "execution_count": null,
   "id": "09c5005d",
   "metadata": {
    "id": "09c5005d",
    "scrolled": false
   },
   "outputs": [],
   "source": []
  },
  {
   "cell_type": "markdown",
   "id": "8b87c5be",
   "metadata": {
    "id": "8b87c5be"
   },
   "source": [
    "## KNN Model"
   ]
  },
  {
   "cell_type": "code",
   "execution_count": 25,
   "id": "7eb11f32",
   "metadata": {
    "colab": {
     "base_uri": "https://localhost:8080/",
     "height": 75
    },
    "id": "7eb11f32",
    "outputId": "11f3de79-0f64-4687-fa1c-d3971674dfed"
   },
   "outputs": [
    {
     "data": {
      "text/html": [
       "<style>#sk-container-id-1 {color: black;}#sk-container-id-1 pre{padding: 0;}#sk-container-id-1 div.sk-toggleable {background-color: white;}#sk-container-id-1 label.sk-toggleable__label {cursor: pointer;display: block;width: 100%;margin-bottom: 0;padding: 0.3em;box-sizing: border-box;text-align: center;}#sk-container-id-1 label.sk-toggleable__label-arrow:before {content: \"▸\";float: left;margin-right: 0.25em;color: #696969;}#sk-container-id-1 label.sk-toggleable__label-arrow:hover:before {color: black;}#sk-container-id-1 div.sk-estimator:hover label.sk-toggleable__label-arrow:before {color: black;}#sk-container-id-1 div.sk-toggleable__content {max-height: 0;max-width: 0;overflow: hidden;text-align: left;background-color: #f0f8ff;}#sk-container-id-1 div.sk-toggleable__content pre {margin: 0.2em;color: black;border-radius: 0.25em;background-color: #f0f8ff;}#sk-container-id-1 input.sk-toggleable__control:checked~div.sk-toggleable__content {max-height: 200px;max-width: 100%;overflow: auto;}#sk-container-id-1 input.sk-toggleable__control:checked~label.sk-toggleable__label-arrow:before {content: \"▾\";}#sk-container-id-1 div.sk-estimator input.sk-toggleable__control:checked~label.sk-toggleable__label {background-color: #d4ebff;}#sk-container-id-1 div.sk-label input.sk-toggleable__control:checked~label.sk-toggleable__label {background-color: #d4ebff;}#sk-container-id-1 input.sk-hidden--visually {border: 0;clip: rect(1px 1px 1px 1px);clip: rect(1px, 1px, 1px, 1px);height: 1px;margin: -1px;overflow: hidden;padding: 0;position: absolute;width: 1px;}#sk-container-id-1 div.sk-estimator {font-family: monospace;background-color: #f0f8ff;border: 1px dotted black;border-radius: 0.25em;box-sizing: border-box;margin-bottom: 0.5em;}#sk-container-id-1 div.sk-estimator:hover {background-color: #d4ebff;}#sk-container-id-1 div.sk-parallel-item::after {content: \"\";width: 100%;border-bottom: 1px solid gray;flex-grow: 1;}#sk-container-id-1 div.sk-label:hover label.sk-toggleable__label {background-color: #d4ebff;}#sk-container-id-1 div.sk-serial::before {content: \"\";position: absolute;border-left: 1px solid gray;box-sizing: border-box;top: 0;bottom: 0;left: 50%;z-index: 0;}#sk-container-id-1 div.sk-serial {display: flex;flex-direction: column;align-items: center;background-color: white;padding-right: 0.2em;padding-left: 0.2em;position: relative;}#sk-container-id-1 div.sk-item {position: relative;z-index: 1;}#sk-container-id-1 div.sk-parallel {display: flex;align-items: stretch;justify-content: center;background-color: white;position: relative;}#sk-container-id-1 div.sk-item::before, #sk-container-id-1 div.sk-parallel-item::before {content: \"\";position: absolute;border-left: 1px solid gray;box-sizing: border-box;top: 0;bottom: 0;left: 50%;z-index: -1;}#sk-container-id-1 div.sk-parallel-item {display: flex;flex-direction: column;z-index: 1;position: relative;background-color: white;}#sk-container-id-1 div.sk-parallel-item:first-child::after {align-self: flex-end;width: 50%;}#sk-container-id-1 div.sk-parallel-item:last-child::after {align-self: flex-start;width: 50%;}#sk-container-id-1 div.sk-parallel-item:only-child::after {width: 0;}#sk-container-id-1 div.sk-dashed-wrapped {border: 1px dashed gray;margin: 0 0.4em 0.5em 0.4em;box-sizing: border-box;padding-bottom: 0.4em;background-color: white;}#sk-container-id-1 div.sk-label label {font-family: monospace;font-weight: bold;display: inline-block;line-height: 1.2em;}#sk-container-id-1 div.sk-label-container {text-align: center;}#sk-container-id-1 div.sk-container {/* jupyter's `normalize.less` sets `[hidden] { display: none; }` but bootstrap.min.css set `[hidden] { display: none !important; }` so we also need the `!important` here to be able to override the default hidden behavior on the sphinx rendered scikit-learn.org. See: https://github.com/scikit-learn/scikit-learn/issues/21755 */display: inline-block !important;position: relative;}#sk-container-id-1 div.sk-text-repr-fallback {display: none;}</style><div id=\"sk-container-id-1\" class=\"sk-top-container\"><div class=\"sk-text-repr-fallback\"><pre>KNeighborsClassifier()</pre><b>In a Jupyter environment, please rerun this cell to show the HTML representation or trust the notebook. <br />On GitHub, the HTML representation is unable to render, please try loading this page with nbviewer.org.</b></div><div class=\"sk-container\" hidden><div class=\"sk-item\"><div class=\"sk-estimator sk-toggleable\"><input class=\"sk-toggleable__control sk-hidden--visually\" id=\"sk-estimator-id-1\" type=\"checkbox\" checked><label for=\"sk-estimator-id-1\" class=\"sk-toggleable__label sk-toggleable__label-arrow\">KNeighborsClassifier</label><div class=\"sk-toggleable__content\"><pre>KNeighborsClassifier()</pre></div></div></div></div></div>"
      ],
      "text/plain": [
       "KNeighborsClassifier()"
      ]
     },
     "execution_count": 25,
     "metadata": {},
     "output_type": "execute_result"
    }
   ],
   "source": [
    "# Fitting KNN with the selected features\n",
    "KNN = KNeighborsClassifier(n_neighbors = 5)\n",
    "KNN.fit(X_train_top_25, Y_train_resampled)"
   ]
  },
  {
   "cell_type": "code",
   "execution_count": 26,
   "id": "8abd9c42",
   "metadata": {
    "colab": {
     "base_uri": "https://localhost:8080/"
    },
    "id": "8abd9c42",
    "outputId": "2e34d301-593d-4b3b-e06b-614e2a9ad8b3"
   },
   "outputs": [
    {
     "name": "stdout",
     "output_type": "stream",
     "text": [
      "Time taken: 30.40068793296814 seconds\n"
     ]
    }
   ],
   "source": [
    "# Start timer\n",
    "start_time = time.time()\n",
    "\n",
    "# Making prediction\n",
    "Y_predict_KNN = KNN.predict(X_test_tree)\n",
    "\n",
    "# Turn off timer\n",
    "end_time = time.time()\n",
    "elapsed_time = end_time - start_time\n",
    "print(f'Time taken: {elapsed_time} seconds')"
   ]
  },
  {
   "cell_type": "code",
   "execution_count": 27,
   "id": "f4bd68d1",
   "metadata": {
    "colab": {
     "base_uri": "https://localhost:8080/"
    },
    "id": "f4bd68d1",
    "outputId": "1df0bc20-b6a0-4bca-ab49-e456911d165a"
   },
   "outputs": [],
   "source": [
    "# Printing actuals and predictions\n",
    "#print('Actuals:\\t\\t', list(Y_test))\n",
    "#print('Predictions with KNN model: \\t\\t', list(Y_predict_KNN))"
   ]
  },
  {
   "cell_type": "markdown",
   "id": "68237342",
   "metadata": {},
   "source": [
    "## Confusion Matrix & Model Evaluation"
   ]
  },
  {
   "cell_type": "code",
   "execution_count": 28,
   "id": "f3fb23a2",
   "metadata": {
    "colab": {
     "base_uri": "https://localhost:8080/"
    },
    "id": "f3fb23a2",
    "outputId": "4bfd85fc-2e1b-4d56-addd-8cdf10612f2f"
   },
   "outputs": [
    {
     "name": "stdout",
     "output_type": "stream",
     "text": [
      "Confusion matrix: \n",
      " [[ 287 1084  795]\n",
      " [ 936 3591 2717]\n",
      " [1312 4634 4513]]\n"
     ]
    }
   ],
   "source": [
    "# Confusion matrix\n",
    "conf_matrix = confusion_matrix(Y_test, Y_predict_KNN)\n",
    "print('Confusion matrix: \\n', conf_matrix)"
   ]
  },
  {
   "cell_type": "code",
   "execution_count": 29,
   "id": "5dcb47c6",
   "metadata": {
    "id": "5dcb47c6"
   },
   "outputs": [
    {
     "data": {
      "image/png": "[encoded data removed]",
      "text/plain": [
       "<Figure size 640x480 with 2 Axes>"
      ]
     },
     "metadata": {},
     "output_type": "display_data"
    }
   ],
   "source": [
    "# Define classes\n",
    "\n",
    "classes = ['<30', '>30', 'NO']\n",
    "\n",
    "# Convert class labels to numberical labels for computer confusion matrix\n",
    "Y_test_numeric = [classes.index(label) for label in Y_train]\n",
    "Y_predict_numeric = [classes.index(label) for label in Y_predict_KNN]\n",
    "\n",
    "# Generate the confusion matrix\n",
    "confMatrix = confusion_matrix(Y_test, Y_predict_KNN)\n",
    "\n",
    "# Create a heatmap for the confusion matrix\n",
    "\n",
    "sns.heatmap(conf_matrix, annot = True, fmt = 'd', cmap = 'Blues', \n",
    "            xticklabels = classes, yticklabels = classes)\n",
    "\n",
    "# Add labels and a title\n",
    "plt.xlabel('Predicted')\n",
    "plt.ylabel('Actual')\n",
    "plt.title('Confusion Matrix for KNN model')\n",
    "plt.show()"
   ]
  },
  {
   "cell_type": "code",
   "execution_count": 30,
   "id": "589eacc9",
   "metadata": {},
   "outputs": [
    {
     "name": "stdout",
     "output_type": "stream",
     "text": [
      "Precision: 0.4490\n",
      "Recall: 0.4223\n",
      "Accuracy: 0.4223\n"
     ]
    }
   ],
   "source": [
    "# Calculate Precision, Recal and Accuracy\n",
    "precision = precision_score(Y_test, Y_predict_KNN, average = 'weighted')\n",
    "recall = recall_score(Y_test, Y_predict_KNN, average = 'weighted')\n",
    "accuracy = accuracy_score(Y_test, Y_predict_KNN)\n",
    "\n",
    "print(f'Precision: {precision:.4f}')\n",
    "print(f'Recall: {recall:.4f}')\n",
    "print(f'Accuracy: {accuracy:.4f}')"
   ]
  },
  {
   "cell_type": "code",
   "execution_count": null,
   "id": "6f60c036",
   "metadata": {},
   "outputs": [],
   "source": []
  },
  {
   "cell_type": "code",
   "execution_count": null,
   "id": "1c152ef7",
   "metadata": {
    "id": "1c152ef7"
   },
   "outputs": [],
   "source": []
  }
 ],
 "metadata": {
  "colab": {
   "provenance": []
  },
  "kernelspec": {
   "display_name": "Python 3 (ipykernel)",
   "language": "python",
   "name": "python3"
  },
  "language_info": {
   "codemirror_mode": {
    "name": "ipython",
    "version": 3
   },
   "file_extension": ".py",
   "mimetype": "text/x-python",
   "name": "python",
   "nbconvert_exporter": "python",
   "pygments_lexer": "ipython3",
   "version": "3.11.4"
  }
 },
 "nbformat": 4,
 "nbformat_minor": 5
}
