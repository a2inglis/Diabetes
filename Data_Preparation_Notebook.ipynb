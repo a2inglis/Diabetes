{
 "cells": [
  {
   "cell_type": "markdown",
   "id": "3063a71a",
   "metadata": {},
   "source": [
    "## Data Preprocessing: Importing, Cleaning, and Feature Transformation"
   ]
  },
  {
   "cell_type": "code",
   "execution_count": 1,
   "id": "ac7949cb",
   "metadata": {},
   "outputs": [
    {
     "name": "stderr",
     "output_type": "stream",
     "text": [
      "C:\\Users\\Ingli\\anaconda3\\Lib\\site-packages\\numba\\core\\decorators.py:262: NumbaDeprecationWarning: \u001b[1mnumba.generated_jit is deprecated. Please see the documentation at: https://numba.readthedocs.io/en/stable/reference/deprecation.html#deprecation-of-generated-jit for more information and advice on a suitable replacement.\u001b[0m\n",
      "  warnings.warn(msg, NumbaDeprecationWarning)\n",
      "C:\\Users\\Ingli\\anaconda3\\Lib\\site-packages\\visions\\backends\\shared\\nan_handling.py:50: NumbaDeprecationWarning: \u001b[1mThe 'nopython' keyword argument was not supplied to the 'numba.jit' decorator. The implicit default value for this argument is currently False, but it will be changed to True in Numba 0.59.0. See https://numba.readthedocs.io/en/stable/reference/deprecation.html#deprecation-of-object-mode-fall-back-behaviour-when-using-jit for details.\u001b[0m\n",
      "  @nb.jit\n"
     ]
    }
   ],
   "source": [
    "# Import the libraries needed\n",
    "\n",
    "import pandas as pd\n",
    "from ydata_profiling import ProfileReport\n",
    "import numpy as np\n",
    "import seaborn as sns\n",
    "from sklearn.preprocessing import OneHotEncoder\n"
   ]
  },
  {
   "cell_type": "code",
   "execution_count": 2,
   "id": "ecb76c4e",
   "metadata": {},
   "outputs": [],
   "source": [
    "# Read in the dataset\n",
    " \n",
    "data=pd.read_csv(\"diabetic_data.csv\")"
   ]
  },
  {
   "cell_type": "code",
   "execution_count": 3,
   "id": "0c0290f1",
   "metadata": {},
   "outputs": [],
   "source": [
    "# Replace \"?\" with NaN\n",
    "\n",
    "# raw = raw.replace('?', np.nan)\n",
    "data.replace('?', np.nan, inplace = True)"
   ]
  },
  {
   "cell_type": "code",
   "execution_count": 4,
   "id": "f685104b",
   "metadata": {},
   "outputs": [
    {
     "name": "stdout",
     "output_type": "stream",
     "text": [
      "<class 'pandas.core.frame.DataFrame'>\n",
      "RangeIndex: 101766 entries, 0 to 101765\n",
      "Data columns (total 50 columns):\n",
      " #   Column                    Non-Null Count   Dtype \n",
      "---  ------                    --------------   ----- \n",
      " 0   encounter_id              101766 non-null  int64 \n",
      " 1   patient_nbr               101766 non-null  int64 \n",
      " 2   race                      99493 non-null   object\n",
      " 3   gender                    101766 non-null  object\n",
      " 4   age                       101766 non-null  object\n",
      " 5   weight                    3197 non-null    object\n",
      " 6   admission_type_id         101766 non-null  int64 \n",
      " 7   discharge_disposition_id  101766 non-null  int64 \n",
      " 8   admission_source_id       101766 non-null  int64 \n",
      " 9   time_in_hospital          101766 non-null  int64 \n",
      " 10  payer_code                61510 non-null   object\n",
      " 11  medical_specialty         51817 non-null   object\n",
      " 12  num_lab_procedures        101766 non-null  int64 \n",
      " 13  num_procedures            101766 non-null  int64 \n",
      " 14  num_medications           101766 non-null  int64 \n",
      " 15  number_outpatient         101766 non-null  int64 \n",
      " 16  number_emergency          101766 non-null  int64 \n",
      " 17  number_inpatient          101766 non-null  int64 \n",
      " 18  diag_1                    101745 non-null  object\n",
      " 19  diag_2                    101408 non-null  object\n",
      " 20  diag_3                    100343 non-null  object\n",
      " 21  number_diagnoses          101766 non-null  int64 \n",
      " 22  max_glu_serum             5346 non-null    object\n",
      " 23  A1Cresult                 17018 non-null   object\n",
      " 24  metformin                 101766 non-null  object\n",
      " 25  repaglinide               101766 non-null  object\n",
      " 26  nateglinide               101766 non-null  object\n",
      " 27  chlorpropamide            101766 non-null  object\n",
      " 28  glimepiride               101766 non-null  object\n",
      " 29  acetohexamide             101766 non-null  object\n",
      " 30  glipizide                 101766 non-null  object\n",
      " 31  glyburide                 101766 non-null  object\n",
      " 32  tolbutamide               101766 non-null  object\n",
      " 33  pioglitazone              101766 non-null  object\n",
      " 34  rosiglitazone             101766 non-null  object\n",
      " 35  acarbose                  101766 non-null  object\n",
      " 36  miglitol                  101766 non-null  object\n",
      " 37  troglitazone              101766 non-null  object\n",
      " 38  tolazamide                101766 non-null  object\n",
      " 39  examide                   101766 non-null  object\n",
      " 40  citoglipton               101766 non-null  object\n",
      " 41  insulin                   101766 non-null  object\n",
      " 42  glyburide-metformin       101766 non-null  object\n",
      " 43  glipizide-metformin       101766 non-null  object\n",
      " 44  glimepiride-pioglitazone  101766 non-null  object\n",
      " 45  metformin-rosiglitazone   101766 non-null  object\n",
      " 46  metformin-pioglitazone    101766 non-null  object\n",
      " 47  change                    101766 non-null  object\n",
      " 48  diabetesMed               101766 non-null  object\n",
      " 49  readmitted                101766 non-null  object\n",
      "dtypes: int64(13), object(37)\n",
      "memory usage: 38.8+ MB\n"
     ]
    }
   ],
   "source": [
    "data.info()"
   ]
  },
  {
   "cell_type": "code",
   "execution_count": 5,
   "id": "a20ce7e9",
   "metadata": {},
   "outputs": [],
   "source": [
    "# Remove unwanted attributes/columns\n",
    "\n",
    "# Remove encounter_id, patient_nbr, weight, payer_code, medical specialty\n",
    "data = data.drop(['encounter_id', 'patient_nbr', 'weight', 'payer_code', 'medical_specialty'], axis=1)\n",
    "\n",
    "# Remove RACE from data - MAKING A SEPARATE COMMAND SO I CAN CHOOSE TO LEAVE \n",
    "# IT IN FOR FEATURE SELECTION ANALYSIS\n",
    "data = data.drop(['race'], axis = 1)\n",
    "\n",
    "# Remove drugs with 0 users\n",
    "data = data.drop(['examide', 'citoglipton'], axis = 1)\n",
    "\n",
    "# View results\n",
    "#data"
   ]
  },
  {
   "cell_type": "code",
   "execution_count": 6,
   "id": "f5ff99cf",
   "metadata": {},
   "outputs": [
    {
     "data": {
      "text/plain": [
       "(99343, 42)"
      ]
     },
     "execution_count": 6,
     "metadata": {},
     "output_type": "execute_result"
    }
   ],
   "source": [
    "# Remove records of patients who died or were transferred to hospice\n",
    "\n",
    "# REMOVE RECORDS OF PATIENTS WHO DIED OR WERE TRANSFERRED TO HOSPICE\n",
    "\n",
    "# Remove records of patients (based on discharge_disposition_id) who died \n",
    "# (4 categories) or transferred to hospice (2 categories)\n",
    "\n",
    "Removal_codes_discharge = [11, 13, 14, 19, 20, 21]\n",
    "\n",
    "data = data[~data['discharge_disposition_id'].isin(Removal_codes_discharge)]\n",
    "\n",
    "data.shape"
   ]
  },
  {
   "cell_type": "code",
   "execution_count": 7,
   "id": "f0c67a05",
   "metadata": {},
   "outputs": [],
   "source": [
    "# Change the non-drug attributes to categorical\n",
    "\n",
    "#data['race'] = data['race'].astype('category')\n",
    "data['gender'] = data['gender'].astype('category')\n",
    "data['age'] = data['age'].astype('category')\n",
    "data['admission_type_id'] = data['admission_type_id'].astype('category')\n",
    "data['discharge_disposition_id'] = data['discharge_disposition_id'].astype('category')\n",
    "data['admission_source_id'] = data['admission_source_id'].astype('category')\n",
    "\n",
    "#data['medical_specialty'] = data['medical_specialty'].astype('category')\n",
    "data['diag_1'] = data['diag_1'].astype('category')\n",
    "data['diag_2'] = data['diag_2'].astype('category')\n",
    "data['diag_3'] = data['diag_3'].astype('category')\n",
    "\n",
    "#data['max_glu_serum'] = data['max_glu_serum'].astype('category')\n",
    "#data['A1Cresult'] = data['A1Cresult'].astype('category')\n",
    "data['change'] = data['change'].astype('category')\n",
    "data['diabetesMed'] = data['diabetesMed'].astype('category')\n",
    "data['readmitted'] = data['readmitted'].astype('category')"
   ]
  },
  {
   "cell_type": "code",
   "execution_count": 8,
   "id": "594fec43",
   "metadata": {},
   "outputs": [],
   "source": [
    "# MUST DO BEFORE CONVERTING DRUGS TO DRUG CLASSES\n",
    "# Change drug attributes to categorical\n",
    "\n",
    "data['metformin'] = data['metformin'].astype('category')\n",
    "data['repaglinide'] = data['repaglinide'].astype('category')\n",
    "data['nateglinide'] = data['nateglinide'].astype('category')\n",
    "data['chlorpropamide'] = data['chlorpropamide'].astype('category')\n",
    "data['glimepiride'] = data['glimepiride'].astype('category')\n",
    "data['acetohexamide'] = data['acetohexamide'].astype('category')\n",
    "data['glipizide'] = data['glipizide'].astype('category')\n",
    "data['glyburide'] = data['glyburide'].astype('category')\n",
    "data['tolbutamide'] = data['tolbutamide'].astype('category')\n",
    "data['pioglitazone'] = data['pioglitazone'].astype('category')\n",
    "data['rosiglitazone'] = data['rosiglitazone'].astype('category')\n",
    "data['acarbose'] = data['acarbose'].astype('category')\n",
    "data['miglitol'] = data['miglitol'].astype('category')\n",
    "data['troglitazone'] = data['troglitazone'].astype('category')\n",
    "data['tolazamide'] = data['tolazamide'].astype('category')\n",
    "data['insulin'] = data['insulin'].astype('category')\n",
    "data['glyburide-metformin'] = data['glyburide-metformin'].astype('category')\n",
    "data['glipizide-metformin'] = data['glipizide-metformin'].astype('category')\n",
    "data['glimepiride-pioglitazone'] = data['glimepiride-pioglitazone'].astype('category')\n",
    "data['metformin-rosiglitazone'] = data['metformin-rosiglitazone'].astype('category')\n",
    "data['metformin-pioglitazone'] = data['metformin-pioglitazone'].astype('category')"
   ]
  },
  {
   "cell_type": "markdown",
   "id": "046a6311",
   "metadata": {},
   "source": [
    "## Converting Drugs into Drug Classes"
   ]
  },
  {
   "cell_type": "code",
   "execution_count": 9,
   "id": "5e80c625",
   "metadata": {},
   "outputs": [],
   "source": [
    "# *** CONVERTING DRUGS INTO DRUG CLASSES ***\n",
    "#  MEGLITINIDES\n",
    "\n",
    "# using a function to check values\n",
    "# Create a function that will transfer values from drugs into one drug class\n",
    "def classify_drug(row):\n",
    "    if (row['repaglinide'] == 'Down' or row['repaglinide'] == 'Up' \n",
    "        or row['nateglinide'] == 'Down' or row['nateglinide'] == 'Up'):\n",
    "        return 'Adjusted'\n",
    "    elif row['repaglinide'] == 'Steady' or row['nateglinide'] == 'Steady':\n",
    "        return 'Steady'\n",
    "    else:\n",
    "        return 'No'\n",
    "\n",
    "# creating a new column for the drug class and creating values with the function    \n",
    "\n",
    "data['Meglitinides'] = data.apply(classify_drug, axis = 1)\n",
    "\n",
    "\n",
    "\n"
   ]
  },
  {
   "cell_type": "code",
   "execution_count": 10,
   "id": "7f36d31f",
   "metadata": {},
   "outputs": [],
   "source": [
    "# *** CONVERTING DRUGS INTO DRUG CLASSES ***\n",
    "#  THIAZOLIDINEDIONES\n",
    "\n",
    "# using a function to check values\n",
    "# Create a function that will transfer values from drugs into one drug class\n",
    "def classify_drug(row):\n",
    "    if (row['pioglitazone'] == 'Down' or row['pioglitazone'] == 'Up' or \n",
    "        row['rosiglitazone'] == 'Down' or row['rosiglitazone'] == 'Up' or \n",
    "        row['troglitazone'] == 'Down' or row['troglitazone'] == 'Up'):\n",
    "        return 'Adjusted'\n",
    "    elif (row['pioglitazone'] == 'Steady' or row['rosiglitazone'] == 'Steady' \n",
    "          or row['troglitazone'] == 'Steady'):\n",
    "        return 'Steady'\n",
    "    else:\n",
    "        return 'No'\n",
    "\n",
    "# creating a new column for the drug class and creating values with the function    \n",
    "\n",
    "data[\"Thiazolidinediones\"] = data.apply(classify_drug, axis = 1)\n",
    "\n",
    "\n",
    "\n"
   ]
  },
  {
   "cell_type": "code",
   "execution_count": 11,
   "id": "ee43621f",
   "metadata": {},
   "outputs": [],
   "source": [
    "# *** CONVERTING DRUGS INTO DRUG CLASSES ***\n",
    "#  SULFONYLUREAS\n",
    "\n",
    "# using a function to check values\n",
    "# Create a function that will transfer values from drugs into one drug class\n",
    "def classify_drug(row):\n",
    "    if (row['chlorpropamide'] == 'Down' or row['chlorpropamide'] == 'Up' or \n",
    "        row['glimepiride'] == 'Down' or row['glimepiride'] == 'Up' or\n",
    "        row['acetohexamide'] == 'Down' or row['acetohexamide'] == 'Up' or\n",
    "        row['glipizide'] == 'Down' or row['glipizide'] == 'Up' or\n",
    "        row['glyburide'] == 'Down' or row['glyburide'] == 'Up'or\n",
    "        row['tolbutamide'] == 'Down' or row['tolbutamide'] == 'Up' or\n",
    "        row['tolazamide'] == 'Down' or row['tolazamide'] == 'Up'):\n",
    "        return 'Adjusted'\n",
    "    elif (row['chlorpropamide'] == 'Steady' or row['glimepiride'] == 'Steady'\n",
    "          or row['acetohexamide'] == 'Steady'or row['glipizide'] == 'Steady'\n",
    "          or row['glyburide'] == 'Steady'or row['tolbutamide'] == 'Steady'\n",
    "          or row['tolazamide'] == 'Steady'):\n",
    "        return 'Steady'\n",
    "    else:\n",
    "        return 'No'\n",
    "\n",
    "# creating a new column for the drug class and creating values with the function    \n",
    "\n",
    "data['Sulfonylureas'] = data.apply(classify_drug, axis = 1)\n",
    "\n",
    "\n",
    "\n"
   ]
  },
  {
   "cell_type": "code",
   "execution_count": 12,
   "id": "c65fca4a",
   "metadata": {},
   "outputs": [],
   "source": [
    "# *** CONVERTING DRUGS INTO DRUG CLASSES ***\n",
    "#  ALPHA-GLUCOSIDASE INHIBITORS\n",
    "\n",
    "# using a function to check values\n",
    "# Create a function that will transfer values from drugs into one drug class\n",
    "\n",
    "def classify_drug(row):\n",
    "    if row['acarbose'] == 'Down' or row['acarbose'] == 'Up' or row['miglitol'] == 'Down' or row['nateglinide'] == 'Up':\n",
    "        return 'Adjusted'\n",
    "    elif row['acarbose'] == 'Steady' or row['nateglinide'] == 'Steady':\n",
    "        return 'Steady'\n",
    "    else:\n",
    "        return 'No'\n",
    "\n",
    "# creating a new column for the drug class and creating values with the function    \n",
    "\n",
    "data['AG_Inhibitors'] = data.apply(classify_drug, axis = 1)\n",
    "\n",
    "\n",
    "\n"
   ]
  },
  {
   "cell_type": "code",
   "execution_count": 13,
   "id": "b01a3e44",
   "metadata": {},
   "outputs": [],
   "source": [
    "# *** CONVERTING DRUGS INTO DRUG CLASSES ***\n",
    "#  METFORMIN\n",
    "\n",
    "# using a function to check values\n",
    "# Create a function that will transfer values from drugs into one drug class\n",
    "def classify_drug(row):\n",
    "    if row['metformin'] == 'Down' or row['metformin'] == 'Up':\n",
    "        return 'Adjusted'\n",
    "    elif row['metformin'] == 'Steady':\n",
    "        return 'Steady'\n",
    "    else:\n",
    "        return 'No'\n",
    "\n",
    "# creating a new column for the drug class and creating values with the function    \n",
    "\n",
    "data['Metformin'] = data.apply(classify_drug, axis = 1)\n",
    "\n",
    "\n",
    "\n"
   ]
  },
  {
   "cell_type": "code",
   "execution_count": 14,
   "id": "0b78dc0c",
   "metadata": {},
   "outputs": [],
   "source": [
    "# *** CONVERTING DRUGS INTO DRUG CLASSES ***\n",
    "#  INSULIN\n",
    "\n",
    "# using a function to check values\n",
    "# Create a function that will transfer values from drugs into one drug class\n",
    "def classify_drug(row):\n",
    "    if row['insulin'] == 'Down' or row['insulin'] == 'Up':\n",
    "        return 'Adjusted'\n",
    "    elif row['insulin'] == 'Steady':\n",
    "        return 'Steady'\n",
    "    else:\n",
    "        return 'No'\n",
    "\n",
    "# creating a new column for the drug class and creating values with the function    \n",
    "\n",
    "data['Insulin'] = data.apply(classify_drug, axis = 1)\n",
    "\n",
    "\n",
    "\n"
   ]
  },
  {
   "cell_type": "code",
   "execution_count": 15,
   "id": "cad41305",
   "metadata": {},
   "outputs": [],
   "source": [
    "# **** CONVERTING COMBO-DRUGS INTO DRUG CLASSES ****\n",
    "# GLYBURIDE-METFORMIN\n",
    "\n",
    "# Create a function that will transfer values from combo drugs into two drug classes\n",
    "\n",
    "def classify_drug(row):\n",
    "    if row['glyburide-metformin'] == 'Down' or row['glyburide-metformin'] == 'Up':\n",
    "        return 'Adjusted'\n",
    "    elif row['glyburide-metformin'] == 'Steady':\n",
    "        return 'Steady'\n",
    "    else:\n",
    "        return 'No'\n",
    "\n",
    "# creating a new column for the drug class and creating values with the function    \n",
    "\n",
    "data['Sulfonylureas'] = data.apply(classify_drug, axis = 1)\n",
    "data['Metformin'] = data.apply(classify_drug, axis = 1)\n",
    "\n"
   ]
  },
  {
   "cell_type": "code",
   "execution_count": 16,
   "id": "981c6f01",
   "metadata": {},
   "outputs": [],
   "source": [
    "# **** CONVERTING COMBO-DRUGS INTO DRUG CLASSES ****\n",
    "# GLIPIZIDE-METFORMIN\n",
    "\n",
    "# Create a function that will transfer values from combo drugs into two drug classes\n",
    "\n",
    "def classify_drug(row):\n",
    "    if row['glipizide-metformin'] == 'Down' or row['glipizide-metformin'] == 'Up':\n",
    "        return 'Adjusted'\n",
    "    elif row['glipizide-metformin'] == 'Steady':\n",
    "        return 'Steady'\n",
    "    else:\n",
    "        return 'No'\n",
    "\n",
    "# creating a new column for the drug class and creating values with the function    \n",
    "\n",
    "data['Sulfonylureas'] = data.apply(classify_drug, axis = 1)\n",
    "data['Metformin'] = data.apply(classify_drug, axis = 1)\n",
    "\n"
   ]
  },
  {
   "cell_type": "code",
   "execution_count": 17,
   "id": "42b1b944",
   "metadata": {},
   "outputs": [],
   "source": [
    "# **** CONVERTING COMBO-DRUGS INTO DRUG CLASSES ****\n",
    "# GLIMEPIRIDE-PIOGLITAZONE\n",
    "\n",
    "# Create a function that will transfer values from combo drugs into two drug classes\n",
    "\n",
    "def classify_drug(row):\n",
    "    if row['glimepiride-pioglitazone'] == 'Down' or row['glimepiride-pioglitazone'] == 'Up':\n",
    "        return 'Adjusted'\n",
    "    elif row['glimepiride-pioglitazone'] == 'Steady':\n",
    "        return 'Steady'\n",
    "    else:\n",
    "        return 'No'\n",
    "\n",
    "# creating a new column for the drug class and creating values with the function    \n",
    "\n",
    "data['Sulfonylureas'] = data.apply(classify_drug, axis = 1)\n",
    "data['Thiazolidinediones'] = data.apply(classify_drug, axis = 1)\n",
    "\n"
   ]
  },
  {
   "cell_type": "code",
   "execution_count": 18,
   "id": "f871a50c",
   "metadata": {},
   "outputs": [],
   "source": [
    "# **** CONVERTING COMBO-DRUGS INTO DRUG CLASSES ****\n",
    "# METFORMIN-PIOGLITAZONE\n",
    "\n",
    "# Create a function that will transfer values from combo drugs into two drug classes\n",
    "\n",
    "def classify_drug(row):\n",
    "    if row['metformin-pioglitazone'] == 'Down' or row['metformin-pioglitazone'] == 'Up':\n",
    "        return 'Adjusted'\n",
    "    elif row['metformin-pioglitazone'] == 'Steady':\n",
    "        return 'Steady'\n",
    "    else:\n",
    "        return 'No'\n",
    "\n",
    "# creating a new column for the drug class and creating values with the function    \n",
    "\n",
    "data['Metformin'] = data.apply(classify_drug, axis = 1)\n",
    "data['Thiazolidinediones'] = data.apply(classify_drug, axis = 1)\n",
    "\n"
   ]
  },
  {
   "cell_type": "code",
   "execution_count": 19,
   "id": "b8d9ccfb",
   "metadata": {},
   "outputs": [],
   "source": [
    "# **** CONVERTING COMBO-DRUGS INTO DRUG CLASSES ****\n",
    "# METFORMIN-ROSIGLITAZONE\n",
    "\n",
    "# Create a function that will transfer values from combo drugs into two drug classes\n",
    "\n",
    "def classify_drug(row):\n",
    "    if row['metformin-rosiglitazone'] == 'Down' or row['metformin-rosiglitazone'] == 'Up':\n",
    "        return 'Adjusted'\n",
    "    elif row['metformin-rosiglitazone'] == 'Steady':\n",
    "        return 'Steady'\n",
    "    else:\n",
    "        return 'No'\n",
    "\n",
    "# creating a new column for the drug class and creating values with the function    \n",
    "\n",
    "data['Metformin'] = data.apply(classify_drug, axis = 1)\n",
    "data['Thiazolidinediones'] = data.apply(classify_drug, axis = 1)\n",
    "\n"
   ]
  },
  {
   "cell_type": "code",
   "execution_count": 20,
   "id": "16b9c56c",
   "metadata": {},
   "outputs": [],
   "source": [
    "# REMOVE DRUGS AND LEAVE DRUG CLASSES BEHIND\n",
    "\n",
    "data = data.drop(['repaglinide', 'nateglinide'], axis=1)\n",
    "data = data.drop(['pioglitazone', 'rosiglitazone', 'troglitazone'], axis=1)\n",
    "data = data.drop(['chlorpropamide', 'glimepiride', 'acetohexamide', 'glipizide',\n",
    "                  'glyburide', 'tolbutamide', 'tolazamide'], axis=1)\n",
    "data = data.drop(['acarbose', 'miglitol'], axis=1)\n",
    "data = data.drop(['glyburide-metformin', 'glipizide-metformin',\n",
    "                 'glimepiride-pioglitazone', 'metformin-rosiglitazone',\n",
    "                 'metformin-pioglitazone'], axis=1)\n",
    "data = data.drop(['metformin'], axis = 1)\n",
    "data = data.drop(['insulin'], axis = 1)"
   ]
  },
  {
   "cell_type": "code",
   "execution_count": 21,
   "id": "48784ee9",
   "metadata": {},
   "outputs": [],
   "source": [
    "# CHANGE DRUG CLASSES TO CATEGORICAL\n",
    "\n",
    "data['Meglitinides'] = data['Meglitinides'].astype('category')\n",
    "data['Thiazolidinediones'] = data['Thiazolidinediones'].astype('category')\n",
    "data['Sulfonylureas'] = data['Sulfonylureas'].astype('category')\n",
    "data['AG_Inhibitors'] = data['AG_Inhibitors'].astype('category')\n",
    "data['Metformin'] = data['Metformin'].astype('category')\n",
    "data['Insulin'] = data['Insulin'].astype('category')\n"
   ]
  },
  {
   "cell_type": "code",
   "execution_count": 22,
   "id": "971e38d3",
   "metadata": {},
   "outputs": [
    {
     "name": "stdout",
     "output_type": "stream",
     "text": [
      "<class 'pandas.core.frame.DataFrame'>\n",
      "Index: 99343 entries, 0 to 101765\n",
      "Data columns (total 27 columns):\n",
      " #   Column                    Non-Null Count  Dtype   \n",
      "---  ------                    --------------  -----   \n",
      " 0   gender                    99343 non-null  category\n",
      " 1   age                       99343 non-null  category\n",
      " 2   admission_type_id         99343 non-null  category\n",
      " 3   discharge_disposition_id  99343 non-null  category\n",
      " 4   admission_source_id       99343 non-null  category\n",
      " 5   time_in_hospital          99343 non-null  int64   \n",
      " 6   num_lab_procedures        99343 non-null  int64   \n",
      " 7   num_procedures            99343 non-null  int64   \n",
      " 8   num_medications           99343 non-null  int64   \n",
      " 9   number_outpatient         99343 non-null  int64   \n",
      " 10  number_emergency          99343 non-null  int64   \n",
      " 11  number_inpatient          99343 non-null  int64   \n",
      " 12  diag_1                    99323 non-null  category\n",
      " 13  diag_2                    98987 non-null  category\n",
      " 14  diag_3                    97924 non-null  category\n",
      " 15  number_diagnoses          99343 non-null  int64   \n",
      " 16  max_glu_serum             5152 non-null   object  \n",
      " 17  A1Cresult                 16834 non-null  object  \n",
      " 18  change                    99343 non-null  category\n",
      " 19  diabetesMed               99343 non-null  category\n",
      " 20  readmitted                99343 non-null  category\n",
      " 21  Meglitinides              99343 non-null  category\n",
      " 22  Thiazolidinediones        99343 non-null  category\n",
      " 23  Sulfonylureas             99343 non-null  category\n",
      " 24  AG_Inhibitors             99343 non-null  category\n",
      " 25  Metformin                 99343 non-null  category\n",
      " 26  Insulin                   99343 non-null  category\n",
      "dtypes: category(17), int64(8), object(2)\n",
      "memory usage: 10.3+ MB\n"
     ]
    }
   ],
   "source": [
    "data.info()"
   ]
  },
  {
   "cell_type": "code",
   "execution_count": null,
   "id": "ceb94c7a",
   "metadata": {},
   "outputs": [],
   "source": []
  },
  {
   "cell_type": "markdown",
   "id": "56bde9ca",
   "metadata": {},
   "source": [
    "## Aggregating Values"
   ]
  },
  {
   "cell_type": "code",
   "execution_count": 23,
   "id": "97d8cbd5",
   "metadata": {},
   "outputs": [
    {
     "name": "stdout",
     "output_type": "stream",
     "text": [
      "admission_type_id\n",
      "1    52371\n",
      "3    18668\n",
      "2    18132\n",
      "6     5207\n",
      "5     4617\n",
      "8      320\n",
      "7       18\n",
      "4       10\n",
      "Name: count, dtype: int64\n",
      "\n",
      "\n",
      "admission_type_id\n",
      "Emergency        52371\n",
      "Elective         18668\n",
      "Urgent           18132\n",
      "Missing          10154\n",
      "Trauma Centre       18\n",
      "Name: count, dtype: int64\n"
     ]
    }
   ],
   "source": [
    "# REPLACING VALUES IN ADMISSION_TYPE TO MISSING\n",
    "# replacing \"Newborn, Not Available, NULL and Not Mapped\" with 'Missing'\n",
    "# replacing codes to more readable labels\n",
    "\n",
    "print(data.admission_type_id.value_counts())\n",
    "\n",
    "admission_type_map = {1:'Emergency', 2: 'Urgent', 3:'Elective', 4: 'Missing',\n",
    "                      5: 'Missing', 6: 'Missing', 7: 'Trauma Centre', 8 : 'Missing'}\n",
    "\n",
    "# map method in Pandas overwrites all categories.  MUST use a complete dictionary\n",
    "\n",
    "print(\"\\n\")\n",
    "\n",
    "data['admission_type_id'] = data['admission_type_id'].map(admission_type_map)\n",
    "\n",
    "\n",
    "print(data.admission_type_id.value_counts())"
   ]
  },
  {
   "cell_type": "code",
   "execution_count": 24,
   "id": "a125ba44",
   "metadata": {},
   "outputs": [
    {
     "name": "stdout",
     "output_type": "stream",
     "text": [
      "admission_source_id\n",
      "7      55850\n",
      "1      29168\n",
      "999     6857\n",
      "4       3118\n",
      "6       2239\n",
      "2       1081\n",
      "5        806\n",
      "3        185\n",
      "8         15\n",
      "22        12\n",
      "10         8\n",
      "11         2\n",
      "25         2\n",
      "Name: count, dtype: int64\n"
     ]
    }
   ],
   "source": [
    "# REPLACE DATA IN ADMISSION_SOURCE TO MISSING\n",
    "# ********* DUE TO VALUE TYPE, MISSING WILL BE CODED 999 ***************\n",
    "# replacing \"Not Available x 2, NULL, Not Mapped, Unknown/Invalid\"\n",
    "# Sick Baby, Extramural Birth due to incorrect coding\n",
    "\n",
    "data['admission_source_id'] = data['admission_source_id'].replace(9, 999)\n",
    "data['admission_source_id'] = data['admission_source_id'].replace(13, 999)\n",
    "data['admission_source_id'] = data['admission_source_id'].replace(14, 999)\n",
    "data['admission_source_id'] = data['admission_source_id'].replace(15, 999)\n",
    "data['admission_source_id'] = data['admission_source_id'].replace(17, 999)\n",
    "data['admission_source_id'] = data['admission_source_id'].replace(20, 999)\n",
    "data['admission_source_id'] = data['admission_source_id'].replace(21, 999)\n",
    "\n",
    "print(data['admission_source_id'].value_counts())"
   ]
  },
  {
   "cell_type": "code",
   "execution_count": null,
   "id": "d24f43ad",
   "metadata": {},
   "outputs": [],
   "source": []
  },
  {
   "cell_type": "markdown",
   "id": "951e3cbb",
   "metadata": {},
   "source": [
    "## Replacing Values / Correcting Errors"
   ]
  },
  {
   "cell_type": "code",
   "execution_count": 25,
   "id": "3d24a9dd",
   "metadata": {},
   "outputs": [
    {
     "data": {
      "text/plain": [
       "discharge_disposition_id\n",
       "1      60234\n",
       "3      13954\n",
       "6      12902\n",
       "999     4686\n",
       "2       2128\n",
       "22      1993\n",
       "5       1184\n",
       "4        815\n",
       "7        623\n",
       "23       412\n",
       "28       139\n",
       "8        108\n",
       "15        63\n",
       "24        48\n",
       "9         21\n",
       "17        14\n",
       "16        11\n",
       "27         5\n",
       "12         3\n",
       "Name: count, dtype: int64"
      ]
     },
     "execution_count": 25,
     "metadata": {},
     "output_type": "execute_result"
    }
   ],
   "source": [
    "# REPLACING VALUES IN DISCHARGE DISPOSITION TO MISSING\n",
    "# ********* DUE TO VALUE TYPE, MISSING WILL BE CODED 999 ***************\n",
    "# replacing \"Neonate discharged\" to \"Missing\" due to entry error\n",
    "# replacing \"NULL, Not Mapped, \"Unknown/Invalid\" to \"Missing\"\n",
    "\n",
    "data['discharge_disposition_id'] = data['discharge_disposition_id'].replace(10, 999)\n",
    "data['discharge_disposition_id'] = data['discharge_disposition_id'].replace(18, 999)\n",
    "data['discharge_disposition_id'] = data['discharge_disposition_id'].replace(25, 999)\n",
    "data['discharge_disposition_id'] = data['discharge_disposition_id'].replace(26, 999)\n",
    "\n",
    "# can't use map method because it will overwrite all the values\n",
    "\n",
    "data['discharge_disposition_id'].value_counts()"
   ]
  },
  {
   "cell_type": "code",
   "execution_count": 26,
   "id": "ffa38a3d",
   "metadata": {},
   "outputs": [
    {
     "data": {
      "text/html": [
       "<div>\n",
       "<style scoped>\n",
       "    .dataframe tbody tr th:only-of-type {\n",
       "        vertical-align: middle;\n",
       "    }\n",
       "\n",
       "    .dataframe tbody tr th {\n",
       "        vertical-align: top;\n",
       "    }\n",
       "\n",
       "    .dataframe thead th {\n",
       "        text-align: right;\n",
       "    }\n",
       "</style>\n",
       "<table border=\"1\" class=\"dataframe\">\n",
       "  <thead>\n",
       "    <tr style=\"text-align: right;\">\n",
       "      <th></th>\n",
       "      <th>gender</th>\n",
       "      <th>age</th>\n",
       "      <th>admission_type_id</th>\n",
       "      <th>discharge_disposition_id</th>\n",
       "      <th>admission_source_id</th>\n",
       "      <th>time_in_hospital</th>\n",
       "      <th>num_lab_procedures</th>\n",
       "      <th>num_procedures</th>\n",
       "      <th>num_medications</th>\n",
       "      <th>number_outpatient</th>\n",
       "      <th>...</th>\n",
       "      <th>A1Cresult</th>\n",
       "      <th>change</th>\n",
       "      <th>diabetesMed</th>\n",
       "      <th>readmitted</th>\n",
       "      <th>Meglitinides</th>\n",
       "      <th>Thiazolidinediones</th>\n",
       "      <th>Sulfonylureas</th>\n",
       "      <th>AG_Inhibitors</th>\n",
       "      <th>Metformin</th>\n",
       "      <th>Insulin</th>\n",
       "    </tr>\n",
       "  </thead>\n",
       "  <tbody>\n",
       "    <tr>\n",
       "      <th>83510</th>\n",
       "      <td>Female</td>\n",
       "      <td>[20-30)</td>\n",
       "      <td>Emergency</td>\n",
       "      <td>1</td>\n",
       "      <td>11</td>\n",
       "      <td>3</td>\n",
       "      <td>1</td>\n",
       "      <td>2</td>\n",
       "      <td>4</td>\n",
       "      <td>0</td>\n",
       "      <td>...</td>\n",
       "      <td>NaN</td>\n",
       "      <td>No</td>\n",
       "      <td>Yes</td>\n",
       "      <td>NO</td>\n",
       "      <td>No</td>\n",
       "      <td>No</td>\n",
       "      <td>No</td>\n",
       "      <td>No</td>\n",
       "      <td>No</td>\n",
       "      <td>Steady</td>\n",
       "    </tr>\n",
       "    <tr>\n",
       "      <th>85588</th>\n",
       "      <td>Female</td>\n",
       "      <td>[70-80)</td>\n",
       "      <td>Elective</td>\n",
       "      <td>1</td>\n",
       "      <td>11</td>\n",
       "      <td>2</td>\n",
       "      <td>10</td>\n",
       "      <td>6</td>\n",
       "      <td>19</td>\n",
       "      <td>1</td>\n",
       "      <td>...</td>\n",
       "      <td>NaN</td>\n",
       "      <td>Ch</td>\n",
       "      <td>Yes</td>\n",
       "      <td>NO</td>\n",
       "      <td>No</td>\n",
       "      <td>No</td>\n",
       "      <td>No</td>\n",
       "      <td>No</td>\n",
       "      <td>No</td>\n",
       "      <td>Steady</td>\n",
       "    </tr>\n",
       "  </tbody>\n",
       "</table>\n",
       "<p>2 rows × 27 columns</p>\n",
       "</div>"
      ],
      "text/plain": [
       "       gender      age admission_type_id discharge_disposition_id  \\\n",
       "83510  Female  [20-30)         Emergency                        1   \n",
       "85588  Female  [70-80)          Elective                        1   \n",
       "\n",
       "      admission_source_id  time_in_hospital  num_lab_procedures  \\\n",
       "83510                  11                 3                   1   \n",
       "85588                  11                 2                  10   \n",
       "\n",
       "       num_procedures  num_medications  number_outpatient  ...  A1Cresult  \\\n",
       "83510               2                4                  0  ...        NaN   \n",
       "85588               6               19                  1  ...        NaN   \n",
       "\n",
       "       change diabetesMed readmitted Meglitinides  Thiazolidinediones  \\\n",
       "83510      No         Yes         NO           No                  No   \n",
       "85588      Ch         Yes         NO           No                  No   \n",
       "\n",
       "      Sulfonylureas AG_Inhibitors Metformin Insulin  \n",
       "83510            No            No        No  Steady  \n",
       "85588            No            No        No  Steady  \n",
       "\n",
       "[2 rows x 27 columns]"
      ]
     },
     "execution_count": 26,
     "metadata": {},
     "output_type": "execute_result"
    }
   ],
   "source": [
    "# Check which records are coded as \"Normal Delivery\"\n",
    "\n",
    "data[data['admission_source_id'] == 11]\n",
    "\n",
    "# The record for the patient '70-80' is clearly an error"
   ]
  },
  {
   "cell_type": "code",
   "execution_count": 27,
   "id": "6ff9e7ab",
   "metadata": {},
   "outputs": [
    {
     "data": {
      "text/plain": [
       "gender                         Female\n",
       "age                           [60-70)\n",
       "admission_type_id           Emergency\n",
       "discharge_disposition_id            3\n",
       "admission_source_id                 7\n",
       "time_in_hospital                    4\n",
       "num_lab_procedures                 46\n",
       "num_procedures                      1\n",
       "num_medications                     8\n",
       "number_outpatient                   0\n",
       "number_emergency                    0\n",
       "number_inpatient                    2\n",
       "diag_1                            518\n",
       "diag_2                            295\n",
       "diag_3                            276\n",
       "number_diagnoses                    9\n",
       "max_glu_serum                     NaN\n",
       "A1Cresult                         NaN\n",
       "change                             No\n",
       "diabetesMed                        No\n",
       "readmitted                         NO\n",
       "Meglitinides                       No\n",
       "Thiazolidinediones                 No\n",
       "Sulfonylureas                      No\n",
       "AG_Inhibitors                      No\n",
       "Metformin                          No\n",
       "Insulin                            No\n",
       "Name: 87638, dtype: object"
      ]
     },
     "execution_count": 27,
     "metadata": {},
     "output_type": "execute_result"
    }
   ],
   "source": [
    "# VIEWING THE INCORRECT RECORD\n",
    "# Need to re-code the incorrect file admission_source \n",
    "# from \"Normal Delivery\" to \"Missing\"\n",
    "# Correction done in next cell\n",
    "\n",
    "data.iloc[85588]"
   ]
  },
  {
   "cell_type": "code",
   "execution_count": 28,
   "id": "bbef9be6",
   "metadata": {},
   "outputs": [
    {
     "data": {
      "text/plain": [
       "gender                         Female\n",
       "age                           [60-70)\n",
       "admission_type_id           Emergency\n",
       "discharge_disposition_id            3\n",
       "admission_source_id                 7\n",
       "time_in_hospital                    4\n",
       "num_lab_procedures                 46\n",
       "num_procedures                      1\n",
       "num_medications                     8\n",
       "number_outpatient                   0\n",
       "number_emergency                    0\n",
       "number_inpatient                    2\n",
       "diag_1                            518\n",
       "diag_2                            295\n",
       "diag_3                            276\n",
       "number_diagnoses                    9\n",
       "max_glu_serum                     NaN\n",
       "A1Cresult                         NaN\n",
       "change                             No\n",
       "diabetesMed                        No\n",
       "readmitted                         NO\n",
       "Meglitinides                       No\n",
       "Thiazolidinediones                 No\n",
       "Sulfonylureas                      No\n",
       "AG_Inhibitors                      No\n",
       "Metformin                          No\n",
       "Insulin                            No\n",
       "Name: 87638, dtype: object"
      ]
     },
     "execution_count": 28,
     "metadata": {},
     "output_type": "execute_result"
    }
   ],
   "source": [
    "# replacing file 85588 due to incorrect coding\n",
    "\n",
    "data.at[85588, 'admission_source_id'] = 999\n",
    "\n",
    "data.iloc[85588]"
   ]
  },
  {
   "cell_type": "code",
   "execution_count": 29,
   "id": "340bebf6",
   "metadata": {},
   "outputs": [
    {
     "name": "stdout",
     "output_type": "stream",
     "text": [
      "gender\n",
      "Female             53454\n",
      "Male               45886\n",
      "Unknown/Invalid        3\n",
      "Name: count, dtype: int64\n",
      "\n",
      "Replacement done.\n",
      "\n",
      "gender\n",
      "Female     53454\n",
      "Male       45886\n",
      "Missing        3\n",
      "Name: count, dtype: int64\n"
     ]
    }
   ],
   "source": [
    "# REPLACING VALUES\n",
    "\n",
    "# gender - replace \"Unknown/Invalid\" with \"missing\"\n",
    "\n",
    "print(data.gender.value_counts())\n",
    "\n",
    "data['gender'] = data['gender'].replace(\"Unknown/Invalid\", \"Missing\")\n",
    "\n",
    "print('\\nReplacement done.\\n')\n",
    "\n",
    "print(data.gender.value_counts())"
   ]
  },
  {
   "cell_type": "code",
   "execution_count": 30,
   "id": "53b98b5d",
   "metadata": {},
   "outputs": [
    {
     "name": "stdout",
     "output_type": "stream",
     "text": [
      "        gender      age admission_type_id discharge_disposition_id  \\\n",
      "0       Female   [0-10)           Missing                      999   \n",
      "1       Female  [10-20)         Emergency                        1   \n",
      "2       Female  [20-30)         Emergency                        1   \n",
      "3         Male  [30-40)         Emergency                        1   \n",
      "4         Male  [40-50)         Emergency                        1   \n",
      "...        ...      ...               ...                      ...   \n",
      "101761    Male  [70-80)         Emergency                        3   \n",
      "101762  Female  [80-90)         Emergency                        4   \n",
      "101763    Male  [70-80)         Emergency                        1   \n",
      "101764  Female  [80-90)            Urgent                        3   \n",
      "101765    Male  [70-80)         Emergency                        1   \n",
      "\n",
      "       admission_source_id  time_in_hospital  num_lab_procedures  \\\n",
      "0                        1                 1                  41   \n",
      "1                        7                 3                  59   \n",
      "2                        7                 2                  11   \n",
      "3                        7                 2                  44   \n",
      "4                        7                 1                  51   \n",
      "...                    ...               ...                 ...   \n",
      "101761                   7                 3                  51   \n",
      "101762                   5                 5                  33   \n",
      "101763                   7                 1                  53   \n",
      "101764                   7                10                  45   \n",
      "101765                   7                 6                  13   \n",
      "\n",
      "        num_procedures  num_medications  number_outpatient  ...  change  \\\n",
      "0                    0                1                  0  ...      No   \n",
      "1                    0               18                  0  ...      Ch   \n",
      "2                    5               13                  2  ...      No   \n",
      "3                    1               16                  0  ...      Ch   \n",
      "4                    0                8                  0  ...      Ch   \n",
      "...                ...              ...                ...  ...     ...   \n",
      "101761               0               16                  0  ...      Ch   \n",
      "101762               3               18                  0  ...      No   \n",
      "101763               0                9                  1  ...      Ch   \n",
      "101764               2               21                  0  ...      Ch   \n",
      "101765               3                3                  0  ...      No   \n",
      "\n",
      "        diabetesMed readmitted Meglitinides Thiazolidinediones  Sulfonylureas  \\\n",
      "0                No         NO           No                 No             No   \n",
      "1               Yes        >30           No                 No             No   \n",
      "2               Yes         NO           No                 No             No   \n",
      "3               Yes         NO           No                 No             No   \n",
      "4               Yes         NO           No                 No             No   \n",
      "...             ...        ...          ...                ...            ...   \n",
      "101761          Yes        >30           No                 No             No   \n",
      "101762          Yes         NO           No                 No             No   \n",
      "101763          Yes         NO           No                 No             No   \n",
      "101764          Yes         NO           No                 No             No   \n",
      "101765           No         NO           No                 No             No   \n",
      "\n",
      "       AG_Inhibitors Metformin   Insulin Admission_Source  \n",
      "0                 No        No        No         Referral  \n",
      "1                 No        No  Adjusted       Emerg_Dept  \n",
      "2                 No        No        No       Emerg_Dept  \n",
      "3                 No        No  Adjusted       Emerg_Dept  \n",
      "4                 No        No    Steady       Emerg_Dept  \n",
      "...              ...       ...       ...              ...  \n",
      "101761            No        No  Adjusted       Emerg_Dept  \n",
      "101762            No        No    Steady         Transfer  \n",
      "101763            No        No  Adjusted       Emerg_Dept  \n",
      "101764            No        No  Adjusted       Emerg_Dept  \n",
      "101765            No        No        No       Emerg_Dept  \n",
      "\n",
      "[99343 rows x 28 columns]\n"
     ]
    }
   ],
   "source": [
    "# RECODING VALUES IN ADMISSION_SOURCE COLUMN TO NEW ATTRIBUTE\n",
    "# 'Other' category includes 15 records 'Court/Law Enforcement'\n",
    "# and 1 record 'Normal Delivery'\n",
    "\n",
    "# Map for original values to new category values\n",
    "\n",
    "conditions = [(data['admission_source_id'].isin([1, 2, 3])),\n",
    "              (data['admission_source_id'].isin([4, 5, 6, 10, 18, 19, 22, 25])),\n",
    "              (data['admission_source_id'].isin([7])),\n",
    "              (data['admission_source_id'].isin([999])),\n",
    "              (data['admission_source_id'].isin([8, 11]))]\n",
    "\n",
    "# Names of new categories in order that matches the above conditions\n",
    "\n",
    "new_labels = ['Referral', 'Transfer', 'Emerg_Dept', 'Missing', 'Other']\n",
    "\n",
    "# Use Numpy Select to create a new column with the mapped categories\n",
    "\n",
    "data['Admission_Source'] = np.select(conditions, new_labels, default = 'Unknown')\n",
    "\n",
    "print(data)\n"
   ]
  },
  {
   "cell_type": "code",
   "execution_count": 31,
   "id": "c9332796",
   "metadata": {},
   "outputs": [
    {
     "name": "stdout",
     "output_type": "stream",
     "text": [
      "['Referral' 'Emerg_Dept' 'Transfer' 'Missing' 'Other']\n",
      "Admission_Source\n",
      "Emerg_Dept    55850\n",
      "Referral      30434\n",
      "Missing        6858\n",
      "Transfer       6185\n",
      "Other            16\n",
      "Name: count, dtype: int64\n"
     ]
    }
   ],
   "source": [
    "# VERIFYING ADMISSION_SOURCE WAS CORRECTLY RELABELED\n",
    "\n",
    "print(data['Admission_Source'].unique())\n",
    "print(data['Admission_Source'].value_counts())"
   ]
  },
  {
   "cell_type": "code",
   "execution_count": 32,
   "id": "70208db4",
   "metadata": {},
   "outputs": [
    {
     "name": "stdout",
     "output_type": "stream",
     "text": [
      "<class 'pandas.core.frame.DataFrame'>\n",
      "Index: 99343 entries, 0 to 101765\n",
      "Data columns (total 27 columns):\n",
      " #   Column                    Non-Null Count  Dtype   \n",
      "---  ------                    --------------  -----   \n",
      " 0   gender                    99343 non-null  category\n",
      " 1   age                       99343 non-null  category\n",
      " 2   admission_type_id         99343 non-null  object  \n",
      " 3   discharge_disposition_id  99343 non-null  category\n",
      " 4   time_in_hospital          99343 non-null  int64   \n",
      " 5   num_lab_procedures        99343 non-null  int64   \n",
      " 6   num_procedures            99343 non-null  int64   \n",
      " 7   num_medications           99343 non-null  int64   \n",
      " 8   number_outpatient         99343 non-null  int64   \n",
      " 9   number_emergency          99343 non-null  int64   \n",
      " 10  number_inpatient          99343 non-null  int64   \n",
      " 11  diag_1                    99323 non-null  category\n",
      " 12  diag_2                    98987 non-null  category\n",
      " 13  diag_3                    97924 non-null  category\n",
      " 14  number_diagnoses          99343 non-null  int64   \n",
      " 15  max_glu_serum             5152 non-null   object  \n",
      " 16  A1Cresult                 16834 non-null  object  \n",
      " 17  change                    99343 non-null  category\n",
      " 18  diabetesMed               99343 non-null  category\n",
      " 19  readmitted                99343 non-null  category\n",
      " 20  Meglitinides              99343 non-null  category\n",
      " 21  Thiazolidinediones        99343 non-null  category\n",
      " 22  Sulfonylureas             99343 non-null  category\n",
      " 23  AG_Inhibitors             99343 non-null  category\n",
      " 24  Metformin                 99343 non-null  category\n",
      " 25  Insulin                   99343 non-null  category\n",
      " 26  Admission_Source          99343 non-null  object  \n",
      "dtypes: category(15), int64(8), object(4)\n",
      "memory usage: 13.6+ MB\n"
     ]
    }
   ],
   "source": [
    "# REMOVE ORIGINAL DISCHARGE ATTRIBUTE \n",
    "\n",
    "data = data.drop(['admission_source_id'], axis=1)\n",
    "#data('Admission_Source').astype('category')\n",
    "data.info()"
   ]
  },
  {
   "cell_type": "code",
   "execution_count": 33,
   "id": "1e3537b5",
   "metadata": {},
   "outputs": [],
   "source": [
    "## CLEANING UP data - THIS SHOULD BE IN THE EARLIER CODE !!!\n",
    "\n",
    "#data = data.drop(['metformin', 'insulin'], axis = 1)\n",
    "data['admission_type_id'] = data['admission_type_id'].astype('category')\n",
    "data['Admission_Source'] = data['Admission_Source'].astype('category')"
   ]
  },
  {
   "cell_type": "markdown",
   "id": "ced0f6b9",
   "metadata": {},
   "source": [
    "## Generate Exploratory Data Analysis & Export Data"
   ]
  },
  {
   "cell_type": "code",
   "execution_count": 34,
   "id": "367c7d37",
   "metadata": {},
   "outputs": [
    {
     "data": {
      "application/vnd.jupyter.widget-view+json": {
       "model_id": "4de77c480ba042589fdf1d559fb779c0",
       "version_major": 2,
       "version_minor": 0
      },
      "text/plain": [
       "Summarize dataset:   0%|          | 0/5 [00:00<?, ?it/s]"
      ]
     },
     "metadata": {},
     "output_type": "display_data"
    },
    {
     "data": {
      "application/vnd.jupyter.widget-view+json": {
       "model_id": "378f7029110f44c3b85e5498ee59e8fa",
       "version_major": 2,
       "version_minor": 0
      },
      "text/plain": [
       "Generate report structure:   0%|          | 0/1 [00:00<?, ?it/s]"
      ]
     },
     "metadata": {},
     "output_type": "display_data"
    },
    {
     "data": {
      "application/vnd.jupyter.widget-view+json": {
       "model_id": "19614df4413044d3be3032b24d7dc437",
       "version_major": 2,
       "version_minor": 0
      },
      "text/plain": [
       "Render HTML:   0%|          | 0/1 [00:00<?, ?it/s]"
      ]
     },
     "metadata": {},
     "output_type": "display_data"
    },
    {
     "data": {
      "application/vnd.jupyter.widget-view+json": {
       "model_id": "3fbe3c2debd74159b533718c7441bdd5",
       "version_major": 2,
       "version_minor": 0
      },
      "text/plain": [
       "Export report to file:   0%|          | 0/1 [00:00<?, ?it/s]"
      ]
     },
     "metadata": {},
     "output_type": "display_data"
    }
   ],
   "source": [
    "# FINAL STEP - Run the EDA report\n",
    "\n",
    "profile = ProfileReport(data, title=\"Diabetic Data EDA Profile Report Nov 1st_2\")\n",
    "profile.to_file(\"EDA_report_Nov01.html\")"
   ]
  },
  {
   "cell_type": "code",
   "execution_count": 35,
   "id": "27125f1b",
   "metadata": {},
   "outputs": [],
   "source": [
    "# Pass data to next module\n",
    "\n",
    "data.to_csv('Mod_1_data_to_pass.csv', index = False)"
   ]
  }
 ],
 "metadata": {
  "kernelspec": {
   "display_name": "Python 3 (ipykernel)",
   "language": "python",
   "name": "python3"
  },
  "language_info": {
   "codemirror_mode": {
    "name": "ipython",
    "version": 3
   },
   "file_extension": ".py",
   "mimetype": "text/x-python",
   "name": "python",
   "nbconvert_exporter": "python",
   "pygments_lexer": "ipython3",
   "version": "3.11.4"
  }
 },
 "nbformat": 4,
 "nbformat_minor": 5
}
