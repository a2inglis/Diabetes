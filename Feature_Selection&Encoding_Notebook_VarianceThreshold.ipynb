{
 "cells": [
  {
   "cell_type": "markdown",
   "id": "c984908c",
   "metadata": {
    "id": "65ceaddf"
   },
   "source": [
    "## Feature Selection & Encoding - Tree Approach to Dimensionality Reduction"
   ]
  },
  {
   "cell_type": "code",
   "execution_count": 1,
   "id": "1558998d",
   "metadata": {
    "id": "1558998d",
    "scrolled": false
   },
   "outputs": [],
   "source": [
    "# Import the libraries needed\n",
    "\n",
    "import pandas as pd\n",
    "import numpy as np\n",
    "import seaborn as sns\n",
    "from sklearn.preprocessing import OneHotEncoder, StandardScaler\n",
    "from sklearn.model_selection import train_test_split\n",
    "from sklearn.feature_selection import VarianceThreshold, SelectKBest, f_classif, RFE\n",
    "from sklearn.ensemble import RandomForestClassifier\n",
    "from sklearn.tree import DecisionTreeClassifier\n",
    "import matplotlib.pyplot as plt\n",
    "import time\n",
    "from sklearn.neighbors import KNeighborsClassifier\n",
    "from imblearn.over_sampling import SMOTE\n",
    "from sklearn.metrics import confusion_matrix, precision_score, recall_score, accuracy_score"
   ]
  },
  {
   "cell_type": "code",
   "execution_count": 2,
   "id": "6151c3c1",
   "metadata": {
    "id": "6151c3c1",
    "scrolled": false
   },
   "outputs": [],
   "source": [
    "# ******************************************************\n",
    "# TWO CHANGES NEED TO BE MADE TO THIS NOTEBOOK IF 'RACE'\n",
    "# ATTRIBUTE IS REMOVED\n",
    "# ******************************************************"
   ]
  },
  {
   "cell_type": "code",
   "execution_count": 3,
   "id": "ecb76c4e",
   "metadata": {
    "id": "ecb76c4e",
    "scrolled": false
   },
   "outputs": [],
   "source": [
    "# Read in the dataset passed from the last module\n",
    "\n",
    "data = pd.read_csv('Mod_2_data_to_pass.csv')"
   ]
  },
  {
   "cell_type": "code",
   "execution_count": 4,
   "id": "b4e7d0f1",
   "metadata": {
    "colab": {
     "base_uri": "https://localhost:8080/"
    },
    "id": "b4e7d0f1",
    "outputId": "8ad97dab-225e-447c-9cf9-90ed311bad3c",
    "scrolled": true
   },
   "outputs": [
    {
     "name": "stdout",
     "output_type": "stream",
     "text": [
      "<class 'pandas.core.frame.DataFrame'>\n",
      "RangeIndex: 99343 entries, 0 to 99342\n",
      "Data columns (total 27 columns):\n",
      " #   Column                    Non-Null Count  Dtype \n",
      "---  ------                    --------------  ----- \n",
      " 0   gender                    99343 non-null  object\n",
      " 1   age                       99343 non-null  object\n",
      " 2   admission_type_id         99343 non-null  object\n",
      " 3   discharge_disposition_id  99343 non-null  int64 \n",
      " 4   time_in_hospital          99343 non-null  int64 \n",
      " 5   num_lab_procedures        99343 non-null  int64 \n",
      " 6   num_procedures            99343 non-null  int64 \n",
      " 7   num_medications           99343 non-null  int64 \n",
      " 8   number_outpatient         99343 non-null  int64 \n",
      " 9   number_emergency          99343 non-null  int64 \n",
      " 10  number_inpatient          99343 non-null  int64 \n",
      " 11  diag_1                    99323 non-null  object\n",
      " 12  diag_2                    98987 non-null  object\n",
      " 13  diag_3                    97924 non-null  object\n",
      " 14  number_diagnoses          99343 non-null  int64 \n",
      " 15  max_glu_serum             5152 non-null   object\n",
      " 16  A1Cresult                 16834 non-null  object\n",
      " 17  change                    99343 non-null  object\n",
      " 18  diabetesMed               99343 non-null  object\n",
      " 19  readmitted                99343 non-null  object\n",
      " 20  Meglitinides              99343 non-null  object\n",
      " 21  Thiazolidinediones        99343 non-null  object\n",
      " 22  Sulfonylureas             99343 non-null  object\n",
      " 23  AG_Inhibitors             99343 non-null  object\n",
      " 24  Metformin                 99343 non-null  object\n",
      " 25  Insulin                   99343 non-null  object\n",
      " 26  Admission_Source          99343 non-null  object\n",
      "dtypes: int64(9), object(18)\n",
      "memory usage: 20.5+ MB\n"
     ]
    }
   ],
   "source": [
    "# Checking data types before proceeding\n",
    "data.info()"
   ]
  },
  {
   "cell_type": "code",
   "execution_count": 5,
   "id": "664de38e",
   "metadata": {
    "id": "664de38e",
    "scrolled": false
   },
   "outputs": [],
   "source": [
    "# Change data types to categories\n",
    "\n",
    "cat_list = ['gender', 'age', 'admission_type_id', 'discharge_disposition_id',\n",
    "            'diag_1', 'diag_2', 'diag_3', 'max_glu_serum', 'A1Cresult', 'change',\n",
    "           'diabetesMed', 'readmitted', 'Meglitinides', 'Thiazolidinediones',\n",
    "           'Sulfonylureas', 'AG_Inhibitors', 'Metformin', 'Insulin', 'Admission_Source']\n",
    "\n",
    "#cat_list.append('race')\n",
    "\n",
    "for item in cat_list:\n",
    "    data[item] = data[item].astype('category')\n",
    "\n"
   ]
  },
  {
   "cell_type": "code",
   "execution_count": 6,
   "id": "11d8606d",
   "metadata": {
    "colab": {
     "base_uri": "https://localhost:8080/"
    },
    "id": "11d8606d",
    "outputId": "1bf84f85-f083-4df3-c6d5-fe03d52a3f6f",
    "scrolled": true
   },
   "outputs": [
    {
     "name": "stdout",
     "output_type": "stream",
     "text": [
      "<class 'pandas.core.frame.DataFrame'>\n",
      "RangeIndex: 99343 entries, 0 to 99342\n",
      "Data columns (total 27 columns):\n",
      " #   Column                    Non-Null Count  Dtype   \n",
      "---  ------                    --------------  -----   \n",
      " 0   gender                    99343 non-null  category\n",
      " 1   age                       99343 non-null  category\n",
      " 2   admission_type_id         99343 non-null  category\n",
      " 3   discharge_disposition_id  99343 non-null  category\n",
      " 4   time_in_hospital          99343 non-null  int64   \n",
      " 5   num_lab_procedures        99343 non-null  int64   \n",
      " 6   num_procedures            99343 non-null  int64   \n",
      " 7   num_medications           99343 non-null  int64   \n",
      " 8   number_outpatient         99343 non-null  int64   \n",
      " 9   number_emergency          99343 non-null  int64   \n",
      " 10  number_inpatient          99343 non-null  int64   \n",
      " 11  diag_1                    99323 non-null  category\n",
      " 12  diag_2                    98987 non-null  category\n",
      " 13  diag_3                    97924 non-null  category\n",
      " 14  number_diagnoses          99343 non-null  int64   \n",
      " 15  max_glu_serum             5152 non-null   category\n",
      " 16  A1Cresult                 16834 non-null  category\n",
      " 17  change                    99343 non-null  category\n",
      " 18  diabetesMed               99343 non-null  category\n",
      " 19  readmitted                99343 non-null  category\n",
      " 20  Meglitinides              99343 non-null  category\n",
      " 21  Thiazolidinediones        99343 non-null  category\n",
      " 22  Sulfonylureas             99343 non-null  category\n",
      " 23  AG_Inhibitors             99343 non-null  category\n",
      " 24  Metformin                 99343 non-null  category\n",
      " 25  Insulin                   99343 non-null  category\n",
      " 26  Admission_Source          99343 non-null  category\n",
      "dtypes: category(19), int64(8)\n",
      "memory usage: 8.2 MB\n"
     ]
    }
   ],
   "source": [
    "# Confirming data types have been changed to categorical\n",
    "data.info()"
   ]
  },
  {
   "cell_type": "markdown",
   "id": "3dfacac9",
   "metadata": {
    "id": "3dfacac9"
   },
   "source": [
    "## One Hot Encoding"
   ]
  },
  {
   "cell_type": "code",
   "execution_count": 7,
   "id": "6f91247b",
   "metadata": {
    "colab": {
     "base_uri": "https://localhost:8080/"
    },
    "id": "6f91247b",
    "outputId": "f3fe3e29-74d9-405e-f8b3-68a4ada8cde2",
    "scrolled": false
   },
   "outputs": [
    {
     "name": "stderr",
     "output_type": "stream",
     "text": [
      "C:\\Users\\Ingli\\AppData\\Local\\Temp\\ipykernel_15816\\283034030.py:8: DeprecationWarning: `np.int` is a deprecated alias for the builtin `int`. To silence this warning, use `int` by itself. Doing this will not modify any behavior and is safe. When replacing `np.int`, you may wish to use e.g. `np.int64` or `np.int32` to specify the precision. If you wish to review your current use, check the release note link for additional information.\n",
      "Deprecated in NumPy 1.20; for more details and guidance: https://numpy.org/devdocs/release/1.20.0-notes.html#deprecations\n",
      "  encoder = OneHotEncoder(sparse_output = False, dtype = np.int)\n"
     ]
    }
   ],
   "source": [
    "# ONE HOT ENCODING IN A LOOP\n",
    "# DRUGS NOT INCLUDED\n",
    "# USE ONE-HOT ENCODING TO BINARIZE CATEGORICAL ATTRIBUTES\n",
    "\n",
    "\n",
    "# Create one hot encoder (start the tool)\n",
    "# ?? Don't understand what 'sparse_output = False' does\n",
    "encoder = OneHotEncoder(sparse_output = False, dtype = np.int)\n",
    "\n",
    "# Create a new dataframe to store the one-hot encoded data\n",
    "encoded_dataframes = []\n",
    "\n",
    "# Create a list of all the categorical columns to be one-hot encoded\n",
    "cat_columns = ['gender', 'age', 'admission_type_id',\n",
    "               'discharge_disposition_id', 'max_glu_serum', 'A1Cresult',\n",
    "               'Meglitinides', 'Thiazolidinediones', 'Sulfonylureas',\n",
    "               'AG_Inhibitors', 'Metformin', 'Insulin', 'change',\n",
    "               'diabetesMed', 'Admission_Source']\n",
    "\n",
    "#cat_columns.append('race')\n",
    "\n",
    "for column in cat_columns:\n",
    "    # Get data to be encoded from original dataset\n",
    "    column_data = data[[column]]\n",
    "\n",
    "    # Use the encoder\n",
    "    encoded_data = encoder.fit_transform(column_data)\n",
    "\n",
    "    # Create a temporary dataframe to hold encoded data\n",
    "    temp_encoded_data = pd.DataFrame(encoded_data, columns = encoder.get_feature_names_out([column]))\n",
    "\n",
    "    # Add the encoded dataframe to the list created above\n",
    "    encoded_dataframes.append(temp_encoded_data)\n",
    "\n",
    "# Concat all the encoded dataframes in the temp_encoded_data list\n",
    "completed_dataframe = pd.concat(encoded_dataframes, axis = 1)\n",
    "\n",
    "# Remove the original columns from test3\n",
    "data_copy = data.copy()\n",
    "data_copy = data_copy.drop(cat_columns, axis = 1)\n",
    "\n",
    "\n",
    "# Put the remaining original data columns together with the encoded dataframe\n",
    "data = pd.concat([data_copy, completed_dataframe], axis=1)"
   ]
  },
  {
   "cell_type": "code",
   "execution_count": 8,
   "id": "6f266ff3",
   "metadata": {
    "colab": {
     "base_uri": "https://localhost:8080/"
    },
    "id": "6f266ff3",
    "outputId": "b579a9c6-f55e-4332-99b4-a8e77f772388",
    "scrolled": true
   },
   "outputs": [
    {
     "name": "stdout",
     "output_type": "stream",
     "text": [
      "<class 'pandas.core.frame.DataFrame'>\n",
      "RangeIndex: 99343 entries, 0 to 99342\n",
      "Data columns (total 81 columns):\n",
      " #   Column                           Non-Null Count  Dtype   \n",
      "---  ------                           --------------  -----   \n",
      " 0   time_in_hospital                 99343 non-null  int64   \n",
      " 1   num_lab_procedures               99343 non-null  int64   \n",
      " 2   num_procedures                   99343 non-null  int64   \n",
      " 3   num_medications                  99343 non-null  int64   \n",
      " 4   number_outpatient                99343 non-null  int64   \n",
      " 5   number_emergency                 99343 non-null  int64   \n",
      " 6   number_inpatient                 99343 non-null  int64   \n",
      " 7   diag_1                           99323 non-null  category\n",
      " 8   diag_2                           98987 non-null  category\n",
      " 9   diag_3                           97924 non-null  category\n",
      " 10  number_diagnoses                 99343 non-null  int64   \n",
      " 11  readmitted                       99343 non-null  category\n",
      " 12  gender_Female                    99343 non-null  int32   \n",
      " 13  gender_Male                      99343 non-null  int32   \n",
      " 14  gender_Missing                   99343 non-null  int32   \n",
      " 15  age_[0-10)                       99343 non-null  int32   \n",
      " 16  age_[10-20)                      99343 non-null  int32   \n",
      " 17  age_[20-30)                      99343 non-null  int32   \n",
      " 18  age_[30-40)                      99343 non-null  int32   \n",
      " 19  age_[40-50)                      99343 non-null  int32   \n",
      " 20  age_[50-60)                      99343 non-null  int32   \n",
      " 21  age_[60-70)                      99343 non-null  int32   \n",
      " 22  age_[70-80)                      99343 non-null  int32   \n",
      " 23  age_[80-90)                      99343 non-null  int32   \n",
      " 24  age_[90-100)                     99343 non-null  int32   \n",
      " 25  admission_type_id_Elective       99343 non-null  int32   \n",
      " 26  admission_type_id_Emergency      99343 non-null  int32   \n",
      " 27  admission_type_id_Missing        99343 non-null  int32   \n",
      " 28  admission_type_id_Trauma Centre  99343 non-null  int32   \n",
      " 29  admission_type_id_Urgent         99343 non-null  int32   \n",
      " 30  discharge_disposition_id_1       99343 non-null  int32   \n",
      " 31  discharge_disposition_id_2       99343 non-null  int32   \n",
      " 32  discharge_disposition_id_3       99343 non-null  int32   \n",
      " 33  discharge_disposition_id_4       99343 non-null  int32   \n",
      " 34  discharge_disposition_id_5       99343 non-null  int32   \n",
      " 35  discharge_disposition_id_6       99343 non-null  int32   \n",
      " 36  discharge_disposition_id_7       99343 non-null  int32   \n",
      " 37  discharge_disposition_id_8       99343 non-null  int32   \n",
      " 38  discharge_disposition_id_9       99343 non-null  int32   \n",
      " 39  discharge_disposition_id_12      99343 non-null  int32   \n",
      " 40  discharge_disposition_id_15      99343 non-null  int32   \n",
      " 41  discharge_disposition_id_16      99343 non-null  int32   \n",
      " 42  discharge_disposition_id_17      99343 non-null  int32   \n",
      " 43  discharge_disposition_id_22      99343 non-null  int32   \n",
      " 44  discharge_disposition_id_23      99343 non-null  int32   \n",
      " 45  discharge_disposition_id_24      99343 non-null  int32   \n",
      " 46  discharge_disposition_id_27      99343 non-null  int32   \n",
      " 47  discharge_disposition_id_28      99343 non-null  int32   \n",
      " 48  discharge_disposition_id_999     99343 non-null  int32   \n",
      " 49  max_glu_serum_>200               99343 non-null  int32   \n",
      " 50  max_glu_serum_>300               99343 non-null  int32   \n",
      " 51  max_glu_serum_Norm               99343 non-null  int32   \n",
      " 52  max_glu_serum_nan                99343 non-null  int32   \n",
      " 53  A1Cresult_>7                     99343 non-null  int32   \n",
      " 54  A1Cresult_>8                     99343 non-null  int32   \n",
      " 55  A1Cresult_Norm                   99343 non-null  int32   \n",
      " 56  A1Cresult_nan                    99343 non-null  int32   \n",
      " 57  Meglitinides_Adjusted            99343 non-null  int32   \n",
      " 58  Meglitinides_No                  99343 non-null  int32   \n",
      " 59  Meglitinides_Steady              99343 non-null  int32   \n",
      " 60  Thiazolidinediones_No            99343 non-null  int32   \n",
      " 61  Thiazolidinediones_Steady        99343 non-null  int32   \n",
      " 62  Sulfonylureas_No                 99343 non-null  int32   \n",
      " 63  Sulfonylureas_Steady             99343 non-null  int32   \n",
      " 64  AG_Inhibitors_Adjusted           99343 non-null  int32   \n",
      " 65  AG_Inhibitors_No                 99343 non-null  int32   \n",
      " 66  AG_Inhibitors_Steady             99343 non-null  int32   \n",
      " 67  Metformin_No                     99343 non-null  int32   \n",
      " 68  Metformin_Steady                 99343 non-null  int32   \n",
      " 69  Insulin_Adjusted                 99343 non-null  int32   \n",
      " 70  Insulin_No                       99343 non-null  int32   \n",
      " 71  Insulin_Steady                   99343 non-null  int32   \n",
      " 72  change_Ch                        99343 non-null  int32   \n",
      " 73  change_No                        99343 non-null  int32   \n",
      " 74  diabetesMed_No                   99343 non-null  int32   \n",
      " 75  diabetesMed_Yes                  99343 non-null  int32   \n",
      " 76  Admission_Source_Emerg_Dept      99343 non-null  int32   \n",
      " 77  Admission_Source_Missing         99343 non-null  int32   \n",
      " 78  Admission_Source_Other           99343 non-null  int32   \n",
      " 79  Admission_Source_Referral        99343 non-null  int32   \n",
      " 80  Admission_Source_Transfer        99343 non-null  int32   \n",
      "dtypes: category(4), int32(69), int64(8)\n",
      "memory usage: 32.9 MB\n"
     ]
    }
   ],
   "source": [
    "# Confirming One Hot Encoding was done correctly and verifying new number of attributes\n",
    "data.info()"
   ]
  },
  {
   "cell_type": "markdown",
   "id": "25c1d815",
   "metadata": {
    "id": "25c1d815"
   },
   "source": [
    "## Split Data into Train and Test Sets"
   ]
  },
  {
   "cell_type": "code",
   "execution_count": 9,
   "id": "92ec546f",
   "metadata": {
    "id": "92ec546f"
   },
   "outputs": [],
   "source": [
    "# Select all the features except the target variable\n",
    "X = data.drop('readmitted', axis = 1)\n",
    "#print(X.info())\n",
    "\n",
    "# Split the dataset into training and testing sets\n",
    "X_train, X_test, Y_train, Y_test = train_test_split(X, data['readmitted'], test_size = 0.2, random_state=403)"
   ]
  },
  {
   "cell_type": "code",
   "execution_count": 10,
   "id": "a541d0a0",
   "metadata": {
    "colab": {
     "base_uri": "https://localhost:8080/"
    },
    "id": "a541d0a0",
    "outputId": "0753f688-a5eb-4aa5-ca73-7c58c23b8c89"
   },
   "outputs": [
    {
     "name": "stdout",
     "output_type": "stream",
     "text": [
      "X_train size\n",
      " (79474, 80)\n",
      "\n",
      "X_test size\n",
      " (19869, 80)\n"
     ]
    }
   ],
   "source": [
    "# Confirming the size of the training and test sets\n",
    "\n",
    "print('X_train size\\n', X_train.shape)\n",
    "\n",
    "print('\\nX_test size\\n', X_test.shape)"
   ]
  },
  {
   "cell_type": "markdown",
   "id": "dcd41398",
   "metadata": {
    "id": "dcd41398"
   },
   "source": [
    "## Feature Scaling of Quantitative Attributes"
   ]
  },
  {
   "cell_type": "code",
   "execution_count": 11,
   "id": "b4f41902",
   "metadata": {
    "id": "b4f41902"
   },
   "outputs": [],
   "source": [
    "# Create a list of the quantitative attributes\n",
    "\n",
    "quantList = ['time_in_hospital', 'num_lab_procedures', 'num_procedures',\n",
    "             'num_medications', 'number_outpatient', 'number_emergency',\n",
    "             'number_inpatient', 'number_diagnoses']\n",
    "\n",
    "# Instantiate the StandardScaler tool\n",
    "scaler = StandardScaler()\n",
    "\n",
    "# Scaling the numerical attributes listed in quantList in the training\n",
    "# set using the StandardScaler\n",
    "\n",
    "X_train[quantList] = scaler.fit_transform(X_train[quantList])"
   ]
  },
  {
   "cell_type": "code",
   "execution_count": 12,
   "id": "33076fe3",
   "metadata": {
    "colab": {
     "base_uri": "https://localhost:8080/",
     "height": 444
    },
    "id": "33076fe3",
    "outputId": "25aee709-6942-4058-cd69-64f0b1713a38"
   },
   "outputs": [
    {
     "data": {
      "text/html": [
       "<div>\n",
       "<style scoped>\n",
       "    .dataframe tbody tr th:only-of-type {\n",
       "        vertical-align: middle;\n",
       "    }\n",
       "\n",
       "    .dataframe tbody tr th {\n",
       "        vertical-align: top;\n",
       "    }\n",
       "\n",
       "    .dataframe thead th {\n",
       "        text-align: right;\n",
       "    }\n",
       "</style>\n",
       "<table border=\"1\" class=\"dataframe\">\n",
       "  <thead>\n",
       "    <tr style=\"text-align: right;\">\n",
       "      <th></th>\n",
       "      <th>time_in_hospital</th>\n",
       "      <th>num_lab_procedures</th>\n",
       "      <th>num_procedures</th>\n",
       "      <th>num_medications</th>\n",
       "      <th>number_outpatient</th>\n",
       "      <th>number_emergency</th>\n",
       "      <th>number_inpatient</th>\n",
       "      <th>diag_1</th>\n",
       "      <th>diag_2</th>\n",
       "      <th>diag_3</th>\n",
       "      <th>...</th>\n",
       "      <th>Insulin_Steady</th>\n",
       "      <th>change_Ch</th>\n",
       "      <th>change_No</th>\n",
       "      <th>diabetesMed_No</th>\n",
       "      <th>diabetesMed_Yes</th>\n",
       "      <th>Admission_Source_Emerg_Dept</th>\n",
       "      <th>Admission_Source_Missing</th>\n",
       "      <th>Admission_Source_Other</th>\n",
       "      <th>Admission_Source_Referral</th>\n",
       "      <th>Admission_Source_Transfer</th>\n",
       "    </tr>\n",
       "  </thead>\n",
       "  <tbody>\n",
       "    <tr>\n",
       "      <th>38179</th>\n",
       "      <td>-1.137970</td>\n",
       "      <td>-0.609203</td>\n",
       "      <td>2.743051</td>\n",
       "      <td>-0.892059</td>\n",
       "      <td>-0.362295</td>\n",
       "      <td>-0.312787</td>\n",
       "      <td>-0.538492</td>\n",
       "      <td>414</td>\n",
       "      <td>250.01</td>\n",
       "      <td>414</td>\n",
       "      <td>...</td>\n",
       "      <td>0</td>\n",
       "      <td>1</td>\n",
       "      <td>0</td>\n",
       "      <td>0</td>\n",
       "      <td>1</td>\n",
       "      <td>0</td>\n",
       "      <td>0</td>\n",
       "      <td>0</td>\n",
       "      <td>1</td>\n",
       "      <td>0</td>\n",
       "    </tr>\n",
       "    <tr>\n",
       "      <th>96739</th>\n",
       "      <td>-1.137970</td>\n",
       "      <td>-1.680635</td>\n",
       "      <td>1.567417</td>\n",
       "      <td>-0.503726</td>\n",
       "      <td>0.734082</td>\n",
       "      <td>1.589016</td>\n",
       "      <td>-0.538492</td>\n",
       "      <td>379</td>\n",
       "      <td>362</td>\n",
       "      <td>366</td>\n",
       "      <td>...</td>\n",
       "      <td>0</td>\n",
       "      <td>1</td>\n",
       "      <td>0</td>\n",
       "      <td>0</td>\n",
       "      <td>1</td>\n",
       "      <td>1</td>\n",
       "      <td>0</td>\n",
       "      <td>0</td>\n",
       "      <td>0</td>\n",
       "      <td>0</td>\n",
       "    </tr>\n",
       "    <tr>\n",
       "      <th>70345</th>\n",
       "      <td>-0.801986</td>\n",
       "      <td>-2.088799</td>\n",
       "      <td>-0.196033</td>\n",
       "      <td>0.014051</td>\n",
       "      <td>-0.362295</td>\n",
       "      <td>-0.312787</td>\n",
       "      <td>0.341344</td>\n",
       "      <td>414</td>\n",
       "      <td>413</td>\n",
       "      <td>403</td>\n",
       "      <td>...</td>\n",
       "      <td>0</td>\n",
       "      <td>0</td>\n",
       "      <td>1</td>\n",
       "      <td>1</td>\n",
       "      <td>0</td>\n",
       "      <td>1</td>\n",
       "      <td>0</td>\n",
       "      <td>0</td>\n",
       "      <td>0</td>\n",
       "      <td>0</td>\n",
       "    </tr>\n",
       "    <tr>\n",
       "      <th>217</th>\n",
       "      <td>-1.137970</td>\n",
       "      <td>0.564269</td>\n",
       "      <td>2.155234</td>\n",
       "      <td>-1.539281</td>\n",
       "      <td>-0.362295</td>\n",
       "      <td>-0.312787</td>\n",
       "      <td>-0.538492</td>\n",
       "      <td>414</td>\n",
       "      <td>250.6</td>\n",
       "      <td>250.51</td>\n",
       "      <td>...</td>\n",
       "      <td>1</td>\n",
       "      <td>0</td>\n",
       "      <td>1</td>\n",
       "      <td>0</td>\n",
       "      <td>1</td>\n",
       "      <td>0</td>\n",
       "      <td>0</td>\n",
       "      <td>0</td>\n",
       "      <td>1</td>\n",
       "      <td>0</td>\n",
       "    </tr>\n",
       "    <tr>\n",
       "      <th>11101</th>\n",
       "      <td>-0.801986</td>\n",
       "      <td>0.003043</td>\n",
       "      <td>0.391784</td>\n",
       "      <td>-0.374282</td>\n",
       "      <td>-0.362295</td>\n",
       "      <td>-0.312787</td>\n",
       "      <td>-0.538492</td>\n",
       "      <td>574</td>\n",
       "      <td>250</td>\n",
       "      <td>401</td>\n",
       "      <td>...</td>\n",
       "      <td>1</td>\n",
       "      <td>0</td>\n",
       "      <td>1</td>\n",
       "      <td>0</td>\n",
       "      <td>1</td>\n",
       "      <td>1</td>\n",
       "      <td>0</td>\n",
       "      <td>0</td>\n",
       "      <td>0</td>\n",
       "      <td>0</td>\n",
       "    </tr>\n",
       "    <tr>\n",
       "      <th>...</th>\n",
       "      <td>...</td>\n",
       "      <td>...</td>\n",
       "      <td>...</td>\n",
       "      <td>...</td>\n",
       "      <td>...</td>\n",
       "      <td>...</td>\n",
       "      <td>...</td>\n",
       "      <td>...</td>\n",
       "      <td>...</td>\n",
       "      <td>...</td>\n",
       "      <td>...</td>\n",
       "      <td>...</td>\n",
       "      <td>...</td>\n",
       "      <td>...</td>\n",
       "      <td>...</td>\n",
       "      <td>...</td>\n",
       "      <td>...</td>\n",
       "      <td>...</td>\n",
       "      <td>...</td>\n",
       "      <td>...</td>\n",
       "      <td>...</td>\n",
       "    </tr>\n",
       "    <tr>\n",
       "      <th>5324</th>\n",
       "      <td>2.221878</td>\n",
       "      <td>0.819372</td>\n",
       "      <td>-0.783849</td>\n",
       "      <td>-0.374282</td>\n",
       "      <td>-0.362295</td>\n",
       "      <td>-0.312787</td>\n",
       "      <td>0.341344</td>\n",
       "      <td>486</td>\n",
       "      <td>250</td>\n",
       "      <td>530</td>\n",
       "      <td>...</td>\n",
       "      <td>0</td>\n",
       "      <td>0</td>\n",
       "      <td>1</td>\n",
       "      <td>1</td>\n",
       "      <td>0</td>\n",
       "      <td>1</td>\n",
       "      <td>0</td>\n",
       "      <td>0</td>\n",
       "      <td>0</td>\n",
       "      <td>0</td>\n",
       "    </tr>\n",
       "    <tr>\n",
       "      <th>38736</th>\n",
       "      <td>0.877939</td>\n",
       "      <td>0.054064</td>\n",
       "      <td>2.155234</td>\n",
       "      <td>2.602938</td>\n",
       "      <td>-0.362295</td>\n",
       "      <td>-0.312787</td>\n",
       "      <td>0.341344</td>\n",
       "      <td>721</td>\n",
       "      <td>496</td>\n",
       "      <td>414</td>\n",
       "      <td>...</td>\n",
       "      <td>0</td>\n",
       "      <td>1</td>\n",
       "      <td>0</td>\n",
       "      <td>0</td>\n",
       "      <td>1</td>\n",
       "      <td>1</td>\n",
       "      <td>0</td>\n",
       "      <td>0</td>\n",
       "      <td>0</td>\n",
       "      <td>0</td>\n",
       "    </tr>\n",
       "    <tr>\n",
       "      <th>41916</th>\n",
       "      <td>-0.801986</td>\n",
       "      <td>-2.139820</td>\n",
       "      <td>-0.783849</td>\n",
       "      <td>-0.762615</td>\n",
       "      <td>-0.362295</td>\n",
       "      <td>-0.312787</td>\n",
       "      <td>1.221179</td>\n",
       "      <td>486</td>\n",
       "      <td>496</td>\n",
       "      <td>428</td>\n",
       "      <td>...</td>\n",
       "      <td>0</td>\n",
       "      <td>1</td>\n",
       "      <td>0</td>\n",
       "      <td>0</td>\n",
       "      <td>1</td>\n",
       "      <td>1</td>\n",
       "      <td>0</td>\n",
       "      <td>0</td>\n",
       "      <td>0</td>\n",
       "      <td>0</td>\n",
       "    </tr>\n",
       "    <tr>\n",
       "      <th>31351</th>\n",
       "      <td>-0.466001</td>\n",
       "      <td>0.513248</td>\n",
       "      <td>-0.783849</td>\n",
       "      <td>0.531829</td>\n",
       "      <td>-0.362295</td>\n",
       "      <td>-0.312787</td>\n",
       "      <td>1.221179</td>\n",
       "      <td>536</td>\n",
       "      <td>428</td>\n",
       "      <td>250.6</td>\n",
       "      <td>...</td>\n",
       "      <td>1</td>\n",
       "      <td>1</td>\n",
       "      <td>0</td>\n",
       "      <td>0</td>\n",
       "      <td>1</td>\n",
       "      <td>1</td>\n",
       "      <td>0</td>\n",
       "      <td>0</td>\n",
       "      <td>0</td>\n",
       "      <td>0</td>\n",
       "    </tr>\n",
       "    <tr>\n",
       "      <th>2226</th>\n",
       "      <td>-1.137970</td>\n",
       "      <td>0.666310</td>\n",
       "      <td>-0.196033</td>\n",
       "      <td>-0.503726</td>\n",
       "      <td>-0.362295</td>\n",
       "      <td>-0.312787</td>\n",
       "      <td>-0.538492</td>\n",
       "      <td>218</td>\n",
       "      <td>218</td>\n",
       "      <td>625</td>\n",
       "      <td>...</td>\n",
       "      <td>1</td>\n",
       "      <td>1</td>\n",
       "      <td>0</td>\n",
       "      <td>0</td>\n",
       "      <td>1</td>\n",
       "      <td>0</td>\n",
       "      <td>0</td>\n",
       "      <td>0</td>\n",
       "      <td>1</td>\n",
       "      <td>0</td>\n",
       "    </tr>\n",
       "  </tbody>\n",
       "</table>\n",
       "<p>79474 rows × 80 columns</p>\n",
       "</div>"
      ],
      "text/plain": [
       "       time_in_hospital  num_lab_procedures  num_procedures  num_medications  \\\n",
       "38179         -1.137970           -0.609203        2.743051        -0.892059   \n",
       "96739         -1.137970           -1.680635        1.567417        -0.503726   \n",
       "70345         -0.801986           -2.088799       -0.196033         0.014051   \n",
       "217           -1.137970            0.564269        2.155234        -1.539281   \n",
       "11101         -0.801986            0.003043        0.391784        -0.374282   \n",
       "...                 ...                 ...             ...              ...   \n",
       "5324           2.221878            0.819372       -0.783849        -0.374282   \n",
       "38736          0.877939            0.054064        2.155234         2.602938   \n",
       "41916         -0.801986           -2.139820       -0.783849        -0.762615   \n",
       "31351         -0.466001            0.513248       -0.783849         0.531829   \n",
       "2226          -1.137970            0.666310       -0.196033        -0.503726   \n",
       "\n",
       "       number_outpatient  number_emergency  number_inpatient diag_1  diag_2  \\\n",
       "38179          -0.362295         -0.312787         -0.538492    414  250.01   \n",
       "96739           0.734082          1.589016         -0.538492    379     362   \n",
       "70345          -0.362295         -0.312787          0.341344    414     413   \n",
       "217            -0.362295         -0.312787         -0.538492    414   250.6   \n",
       "11101          -0.362295         -0.312787         -0.538492    574     250   \n",
       "...                  ...               ...               ...    ...     ...   \n",
       "5324           -0.362295         -0.312787          0.341344    486     250   \n",
       "38736          -0.362295         -0.312787          0.341344    721     496   \n",
       "41916          -0.362295         -0.312787          1.221179    486     496   \n",
       "31351          -0.362295         -0.312787          1.221179    536     428   \n",
       "2226           -0.362295         -0.312787         -0.538492    218     218   \n",
       "\n",
       "       diag_3  ...  Insulin_Steady  change_Ch  change_No  diabetesMed_No  \\\n",
       "38179     414  ...               0          1          0               0   \n",
       "96739     366  ...               0          1          0               0   \n",
       "70345     403  ...               0          0          1               1   \n",
       "217    250.51  ...               1          0          1               0   \n",
       "11101     401  ...               1          0          1               0   \n",
       "...       ...  ...             ...        ...        ...             ...   \n",
       "5324      530  ...               0          0          1               1   \n",
       "38736     414  ...               0          1          0               0   \n",
       "41916     428  ...               0          1          0               0   \n",
       "31351   250.6  ...               1          1          0               0   \n",
       "2226      625  ...               1          1          0               0   \n",
       "\n",
       "       diabetesMed_Yes  Admission_Source_Emerg_Dept  Admission_Source_Missing  \\\n",
       "38179                1                            0                         0   \n",
       "96739                1                            1                         0   \n",
       "70345                0                            1                         0   \n",
       "217                  1                            0                         0   \n",
       "11101                1                            1                         0   \n",
       "...                ...                          ...                       ...   \n",
       "5324                 0                            1                         0   \n",
       "38736                1                            1                         0   \n",
       "41916                1                            1                         0   \n",
       "31351                1                            1                         0   \n",
       "2226                 1                            0                         0   \n",
       "\n",
       "       Admission_Source_Other  Admission_Source_Referral  \\\n",
       "38179                       0                          1   \n",
       "96739                       0                          0   \n",
       "70345                       0                          0   \n",
       "217                         0                          1   \n",
       "11101                       0                          0   \n",
       "...                       ...                        ...   \n",
       "5324                        0                          0   \n",
       "38736                       0                          0   \n",
       "41916                       0                          0   \n",
       "31351                       0                          0   \n",
       "2226                        0                          1   \n",
       "\n",
       "       Admission_Source_Transfer  \n",
       "38179                          0  \n",
       "96739                          0  \n",
       "70345                          0  \n",
       "217                            0  \n",
       "11101                          0  \n",
       "...                          ...  \n",
       "5324                           0  \n",
       "38736                          0  \n",
       "41916                          0  \n",
       "31351                          0  \n",
       "2226                           0  \n",
       "\n",
       "[79474 rows x 80 columns]"
      ]
     },
     "execution_count": 12,
     "metadata": {},
     "output_type": "execute_result"
    }
   ],
   "source": [
    "# Confirming the data has been scaled in the training set\n",
    "X_train"
   ]
  },
  {
   "cell_type": "code",
   "execution_count": null,
   "id": "39f42c65",
   "metadata": {
    "id": "39f42c65"
   },
   "outputs": [],
   "source": []
  },
  {
   "cell_type": "markdown",
   "id": "93bc1074",
   "metadata": {
    "id": "93bc1074"
   },
   "source": [
    "## SMOTE"
   ]
  },
  {
   "cell_type": "code",
   "execution_count": 13,
   "id": "dd74a85c",
   "metadata": {
    "id": "dd74a85c"
   },
   "outputs": [],
   "source": [
    "# Three attributes contain NaN data so they need to be removed from the dataset\n",
    "# Remove diag_1, diag_2 and diag_3 due to NaN\n",
    "X_train = X_train.drop('diag_1', axis = 1)\n",
    "X_train = X_train.drop('diag_2', axis = 1)\n",
    "X_train = X_train.drop('diag_3', axis = 1)"
   ]
  },
  {
   "cell_type": "code",
   "execution_count": 14,
   "id": "cd2be68c",
   "metadata": {
    "id": "cd2be68c"
   },
   "outputs": [],
   "source": [
    "# Using SMOTE (Synthetic Minority Over-sampling TEchnique) to address the\n",
    "# class imbalance problem.\n",
    "# SMOTE generates synthetic rows for the minority class in the training set\n",
    "smote = SMOTE()\n",
    "X_train_resampled, Y_train_resampled = smote.fit_resample(X_train, Y_train)"
   ]
  },
  {
   "cell_type": "code",
   "execution_count": 15,
   "id": "b7302c44",
   "metadata": {
    "colab": {
     "base_uri": "https://localhost:8080/"
    },
    "id": "b7302c44",
    "outputId": "b865f3fa-dd7e-47e1-9d93-d9e2e0d748b3"
   },
   "outputs": [
    {
     "name": "stdout",
     "output_type": "stream",
     "text": [
      "<class 'pandas.core.series.Series'>\n",
      "Index: 79474 entries, 38179 to 2226\n",
      "Series name: readmitted\n",
      "Non-Null Count  Dtype   \n",
      "--------------  -----   \n",
      "79474 non-null  category\n",
      "dtypes: category(1)\n",
      "memory usage: 698.6 KB\n"
     ]
    }
   ],
   "source": [
    "# Checking the size of the y training dataset before SMOTE was applied\n",
    "Y_train.info()"
   ]
  },
  {
   "cell_type": "code",
   "execution_count": 16,
   "id": "8302f563",
   "metadata": {
    "id": "8302f563"
   },
   "outputs": [
    {
     "name": "stdout",
     "output_type": "stream",
     "text": [
      "<class 'pandas.core.series.Series'>\n",
      "RangeIndex: 126204 entries, 0 to 126203\n",
      "Series name: readmitted\n",
      "Non-Null Count   Dtype   \n",
      "--------------   -----   \n",
      "126204 non-null  category\n",
      "dtypes: category(1)\n",
      "memory usage: 123.5 KB\n"
     ]
    }
   ],
   "source": [
    "# Checking the size of the y training dataset after SMOTE was applied\n",
    "Y_train_resampled.info()"
   ]
  },
  {
   "cell_type": "markdown",
   "id": "3fbfd854",
   "metadata": {},
   "source": [
    "## Variance Threshold"
   ]
  },
  {
   "cell_type": "code",
   "execution_count": 17,
   "id": "c82bc484",
   "metadata": {},
   "outputs": [
    {
     "data": {
      "text/plain": [
       "'Low variance features to be dropped:'"
      ]
     },
     "metadata": {},
     "output_type": "display_data"
    },
    {
     "data": {
      "text/plain": [
       "['gender_Missing',\n",
       " 'age_[0-10)',\n",
       " 'age_[10-20)',\n",
       " 'age_[20-30)',\n",
       " 'age_[30-40)',\n",
       " 'age_[40-50)',\n",
       " 'age_[90-100)',\n",
       " 'admission_type_id_Missing',\n",
       " 'admission_type_id_Trauma Centre',\n",
       " 'discharge_disposition_id_2',\n",
       " 'discharge_disposition_id_4',\n",
       " 'discharge_disposition_id_5',\n",
       " 'discharge_disposition_id_7',\n",
       " 'discharge_disposition_id_8',\n",
       " 'discharge_disposition_id_9',\n",
       " 'discharge_disposition_id_12',\n",
       " 'discharge_disposition_id_15',\n",
       " 'discharge_disposition_id_16',\n",
       " 'discharge_disposition_id_17',\n",
       " 'discharge_disposition_id_22',\n",
       " 'discharge_disposition_id_23',\n",
       " 'discharge_disposition_id_24',\n",
       " 'discharge_disposition_id_27',\n",
       " 'discharge_disposition_id_28',\n",
       " 'discharge_disposition_id_999',\n",
       " 'max_glu_serum_>200',\n",
       " 'max_glu_serum_>300',\n",
       " 'max_glu_serum_Norm',\n",
       " 'max_glu_serum_nan',\n",
       " 'A1Cresult_>7',\n",
       " 'A1Cresult_>8',\n",
       " 'A1Cresult_Norm',\n",
       " 'Meglitinides_Adjusted',\n",
       " 'Meglitinides_No',\n",
       " 'Meglitinides_Steady',\n",
       " 'Thiazolidinediones_No',\n",
       " 'Thiazolidinediones_Steady',\n",
       " 'Sulfonylureas_No',\n",
       " 'Sulfonylureas_Steady',\n",
       " 'AG_Inhibitors_Adjusted',\n",
       " 'AG_Inhibitors_No',\n",
       " 'AG_Inhibitors_Steady',\n",
       " 'Metformin_No',\n",
       " 'Metformin_Steady',\n",
       " 'Admission_Source_Missing',\n",
       " 'Admission_Source_Other',\n",
       " 'Admission_Source_Transfer']"
      ]
     },
     "metadata": {},
     "output_type": "display_data"
    },
    {
     "name": "stdout",
     "output_type": "stream",
     "text": [
      "Number of features to be dropped:  47\n"
     ]
    }
   ],
   "source": [
    "# Turn the VarianceThreshold tool on & specify the minimum\n",
    "# variance threshold\n",
    "# The lower the threshold, the more features will be\n",
    "# considered for removal\n",
    "selector = VarianceThreshold(threshold=0.1)\n",
    "\n",
    "# Create high variance feature matrix\n",
    "# Fit and transform the data\n",
    "Xnew = selector.fit_transform(X_train_resampled)\n",
    "\n",
    "# Get the indices of the features that were selected\n",
    "selected_features_indices = selector.get_support(indices=True)\n",
    "\n",
    "# Create a list of the attribute names\n",
    "feature_names = X_train_resampled.columns\n",
    "\n",
    "# Get the feature names with low variance\n",
    "low_variance_features = [feature_names[i] for i in range(len(feature_names)) if i not in selected_features_indices]\n",
    "\n",
    "# Print the low variance features\n",
    "display(\"Low variance features to be dropped:\", low_variance_features)\n",
    "print(\"Number of features to be dropped: \", len(low_variance_features))"
   ]
  },
  {
   "cell_type": "code",
   "execution_count": 18,
   "id": "160ef89e",
   "metadata": {},
   "outputs": [],
   "source": [
    "# Make changes to X_train_resampled dataset\n",
    "# Drop low variance features from dataset\n",
    "X_train_LowVariance = X_train_resampled.drop(low_variance_features, axis=1)"
   ]
  },
  {
   "cell_type": "code",
   "execution_count": 19,
   "id": "3dc221f7",
   "metadata": {},
   "outputs": [
    {
     "name": "stdout",
     "output_type": "stream",
     "text": [
      "X_train before changes:  (126204, 77)\n",
      "X_train after changes:  (126204, 30)\n"
     ]
    }
   ],
   "source": [
    "# Verifying changes were made correctly\n",
    "print('X_train before changes: ', X_train_resampled.shape)\n",
    "print('X_train after changes: ', X_train_LowVariance.shape)"
   ]
  },
  {
   "cell_type": "code",
   "execution_count": 20,
   "id": "44206966",
   "metadata": {},
   "outputs": [
    {
     "name": "stdout",
     "output_type": "stream",
     "text": [
      "(19869, 33)\n"
     ]
    }
   ],
   "source": [
    "# *********** PROBLEM WITH DATASET SIZE - ALSO, SHOULD I EVEN BE DOING THIS??? ***************\n",
    "# Make changes to X_test dataset\n",
    "X_test_LowVariance = X_test.drop(low_variance_features, axis = 1)\n",
    "print(X_test_LowVariance.shape)"
   ]
  },
  {
   "cell_type": "code",
   "execution_count": 21,
   "id": "c2881e13",
   "metadata": {},
   "outputs": [
    {
     "name": "stdout",
     "output_type": "stream",
     "text": [
      "<class 'pandas.core.frame.DataFrame'>\n",
      "Index: 19869 entries, 28564 to 6782\n",
      "Data columns (total 33 columns):\n",
      " #   Column                       Non-Null Count  Dtype   \n",
      "---  ------                       --------------  -----   \n",
      " 0   time_in_hospital             19869 non-null  int64   \n",
      " 1   num_lab_procedures           19869 non-null  int64   \n",
      " 2   num_procedures               19869 non-null  int64   \n",
      " 3   num_medications              19869 non-null  int64   \n",
      " 4   number_outpatient            19869 non-null  int64   \n",
      " 5   number_emergency             19869 non-null  int64   \n",
      " 6   number_inpatient             19869 non-null  int64   \n",
      " 7   diag_1                       19866 non-null  category\n",
      " 8   diag_2                       19796 non-null  category\n",
      " 9   diag_3                       19597 non-null  category\n",
      " 10  number_diagnoses             19869 non-null  int64   \n",
      " 11  gender_Female                19869 non-null  int32   \n",
      " 12  gender_Male                  19869 non-null  int32   \n",
      " 13  age_[50-60)                  19869 non-null  int32   \n",
      " 14  age_[60-70)                  19869 non-null  int32   \n",
      " 15  age_[70-80)                  19869 non-null  int32   \n",
      " 16  age_[80-90)                  19869 non-null  int32   \n",
      " 17  admission_type_id_Elective   19869 non-null  int32   \n",
      " 18  admission_type_id_Emergency  19869 non-null  int32   \n",
      " 19  admission_type_id_Urgent     19869 non-null  int32   \n",
      " 20  discharge_disposition_id_1   19869 non-null  int32   \n",
      " 21  discharge_disposition_id_3   19869 non-null  int32   \n",
      " 22  discharge_disposition_id_6   19869 non-null  int32   \n",
      " 23  A1Cresult_nan                19869 non-null  int32   \n",
      " 24  Insulin_Adjusted             19869 non-null  int32   \n",
      " 25  Insulin_No                   19869 non-null  int32   \n",
      " 26  Insulin_Steady               19869 non-null  int32   \n",
      " 27  change_Ch                    19869 non-null  int32   \n",
      " 28  change_No                    19869 non-null  int32   \n",
      " 29  diabetesMed_No               19869 non-null  int32   \n",
      " 30  diabetesMed_Yes              19869 non-null  int32   \n",
      " 31  Admission_Source_Emerg_Dept  19869 non-null  int32   \n",
      " 32  Admission_Source_Referral    19869 non-null  int32   \n",
      "dtypes: category(3), int32(22), int64(8)\n",
      "memory usage: 3.2 MB\n"
     ]
    }
   ],
   "source": [
    "# There is a problem with the test dataset having 3 more columns than the training set\n",
    "# This cell is exploring why there is a discrepancy\n",
    "# It turns out that the diag_1, diag_2 and diag_3 attributes were not eliminated in the\n",
    "# feature selection process.\n",
    "\n",
    "X_test_LowVariance.info()"
   ]
  },
  {
   "cell_type": "code",
   "execution_count": 22,
   "id": "9e2dd4dc",
   "metadata": {},
   "outputs": [
    {
     "data": {
      "text/plain": [
       "(19869, 30)"
      ]
     },
     "execution_count": 22,
     "metadata": {},
     "output_type": "execute_result"
    }
   ],
   "source": [
    "# Removing diag_1, diag_2, diag_3 from the test dataset\n",
    "\n",
    "X_test_LowVariance = X_test_LowVariance.drop('diag_1', axis = 1)\n",
    "X_test_LowVariance = X_test_LowVariance.drop('diag_2', axis = 1)\n",
    "X_test_LowVariance = X_test_LowVariance.drop('diag_3', axis = 1)\n",
    "\n",
    "# Verifying change was made correctly\n",
    "X_test_LowVariance.shape"
   ]
  },
  {
   "cell_type": "code",
   "execution_count": 23,
   "id": "58cc6481",
   "metadata": {},
   "outputs": [
    {
     "data": {
      "text/plain": [
       "<function matplotlib.pyplot.show(close=None, block=None)>"
      ]
     },
     "execution_count": 23,
     "metadata": {},
     "output_type": "execute_result"
    },
    {
     "data": {
      "image/png": "[encoded data removed]",
      "text/plain": [
       "<Figure size 1000x600 with 1 Axes>"
      ]
     },
     "metadata": {},
     "output_type": "display_data"
    }
   ],
   "source": [
    "# Plot the variances of all of the attributes in blue\n",
    "plt.figure(figsize = (10,6))\n",
    "plt.bar(range(len(feature_names)), selector.variances_, color = 'blue', alpha = 0.7, label = 'Variances')\n",
    "\n",
    "# Show the low variance features in red\n",
    "low_variance_indices = [i for i in range(len(feature_names)) if i not in selected_features_indices]\n",
    "plt.bar(low_variance_indices, selector.variances_[low_variance_indices], color = 'red', alpha = 0.7, label = 'Low Variance')\n",
    "\n",
    "plt.axhline(y=0.1, color = 'black', linestyle = '--', label = 'Threshold')\n",
    "plt.xticks(range(len(feature_names)), feature_names, rotation = 'vertical')\n",
    "plt.xlabel('Attribute Names')\n",
    "plt.ylabel('Variance')\n",
    "plt.title('Attributes and Their Variances')\n",
    "plt.legend()\n",
    "plt.show"
   ]
  },
  {
   "cell_type": "code",
   "execution_count": null,
   "id": "12e966ea",
   "metadata": {},
   "outputs": [],
   "source": []
  },
  {
   "cell_type": "code",
   "execution_count": null,
   "id": "09c5005d",
   "metadata": {
    "id": "09c5005d",
    "scrolled": false
   },
   "outputs": [],
   "source": []
  },
  {
   "cell_type": "markdown",
   "id": "efb18e71",
   "metadata": {},
   "source": [
    "## Exporting Data to Next Step"
   ]
  },
  {
   "cell_type": "code",
   "execution_count": 24,
   "id": "14b2454d",
   "metadata": {},
   "outputs": [
    {
     "name": "stdout",
     "output_type": "stream",
     "text": [
      "X_train:  (126204, 30)\n",
      "Y_train:  (126204,)\n",
      "X_test:  (19869, 30)\n",
      "Y_test:  (19869,)\n"
     ]
    }
   ],
   "source": [
    "# Verifying that the datasets have the same number of rows and attributes before exporting\n",
    "print('X_train: ', X_train_LowVariance.shape)\n",
    "print('Y_train: ', Y_train_resampled.shape)\n",
    "print('X_test: ', X_test_LowVariance.shape)\n",
    "print('Y_test: ', Y_test.shape)"
   ]
  },
  {
   "cell_type": "code",
   "execution_count": 25,
   "id": "e48f297d",
   "metadata": {},
   "outputs": [],
   "source": [
    "# Export data to Model Building & Evaluation Notebook\n",
    "\n",
    "# If using Feature Importance from a Tree-Based Model, use this cell\n",
    "X_train_LowVariance.to_csv('Mod_3_X_train_LVar.csv', index = False)\n",
    "X_test_LowVariance.to_csv('Mod_3_X_test_LVar.csv', index = False)\n",
    "Y_train_resampled.to_csv('Mod_3_Y_LVar.csv', index = False)\n",
    "Y_test.to_csv('Mod_3_Y_test_LVar.csv', index = False)"
   ]
  },
  {
   "cell_type": "code",
   "execution_count": null,
   "id": "26d33420",
   "metadata": {},
   "outputs": [],
   "source": []
  },
  {
   "cell_type": "code",
   "execution_count": null,
   "id": "05592b28",
   "metadata": {},
   "outputs": [],
   "source": []
  },
  {
   "cell_type": "code",
   "execution_count": null,
   "id": "bd212b2b",
   "metadata": {},
   "outputs": [],
   "source": []
  },
  {
   "cell_type": "code",
   "execution_count": null,
   "id": "7d2f2268",
   "metadata": {},
   "outputs": [],
   "source": []
  },
  {
   "cell_type": "code",
   "execution_count": null,
   "id": "a362dd2f",
   "metadata": {},
   "outputs": [],
   "source": []
  },
  {
   "cell_type": "code",
   "execution_count": null,
   "id": "6f60c036",
   "metadata": {},
   "outputs": [],
   "source": []
  },
  {
   "cell_type": "code",
   "execution_count": null,
   "id": "1c152ef7",
   "metadata": {
    "id": "1c152ef7"
   },
   "outputs": [],
   "source": []
  }
 ],
 "metadata": {
  "colab": {
   "provenance": []
  },
  "kernelspec": {
   "display_name": "Python 3 (ipykernel)",
   "language": "python",
   "name": "python3"
  },
  "language_info": {
   "codemirror_mode": {
    "name": "ipython",
    "version": 3
   },
   "file_extension": ".py",
   "mimetype": "text/x-python",
   "name": "python",
   "nbconvert_exporter": "python",
   "pygments_lexer": "ipython3",
   "version": "3.11.4"
  }
 },
 "nbformat": 4,
 "nbformat_minor": 5
}
