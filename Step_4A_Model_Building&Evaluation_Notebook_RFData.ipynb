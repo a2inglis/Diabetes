{
 "cells": [
  {
   "cell_type": "markdown",
   "id": "ed3c3564",
   "metadata": {},
   "source": [
    "## Model Building & Evaluation Notebook for Random Forest Classifier Approach to Dimensionality Reduction"
   ]
  },
  {
   "cell_type": "code",
   "execution_count": 1,
   "id": "278813e0",
   "metadata": {},
   "outputs": [],
   "source": [
    "# Import the libraries needed\n",
    "\n",
    "import pandas as pd\n",
    "import numpy as np\n",
    "import seaborn as sns\n",
    "from sklearn.preprocessing import OneHotEncoder, StandardScaler\n",
    "from sklearn.model_selection import train_test_split\n",
    "from sklearn.feature_selection import VarianceThreshold, SelectKBest, f_classif, RFE\n",
    "from sklearn.ensemble import RandomForestClassifier\n",
    "from sklearn.tree import DecisionTreeClassifier, plot_tree\n",
    "import matplotlib.pyplot as plt\n",
    "import time\n",
    "from sklearn.neighbors import KNeighborsClassifier\n",
    "from imblearn.over_sampling import SMOTE\n",
    "from sklearn.metrics import confusion_matrix, precision_score, recall_score, accuracy_score, classification_report\n",
    "from sklearn.naive_bayes import GaussianNB"
   ]
  },
  {
   "cell_type": "code",
   "execution_count": 2,
   "id": "ddf69af3",
   "metadata": {},
   "outputs": [],
   "source": [
    "# Import data from previous notebook\n",
    "\n",
    "X_train = pd.read_csv('Mod_3_X_train_Tree.csv')\n",
    "X_test = pd.read_csv('Mod_3_X_test_Tree.csv')\n",
    "Y_train = pd.read_csv('Mod_3_Y_train.csv')\n",
    "Y_test = pd.read_csv('Mod_3_Y_test.csv')"
   ]
  },
  {
   "cell_type": "code",
   "execution_count": 3,
   "id": "9512ce46",
   "metadata": {},
   "outputs": [
    {
     "name": "stdout",
     "output_type": "stream",
     "text": [
      "Y_train Information\n",
      "\n",
      "<class 'pandas.core.frame.DataFrame'>\n",
      "RangeIndex: 125919 entries, 0 to 125918\n",
      "Data columns (total 1 columns):\n",
      " #   Column      Non-Null Count   Dtype \n",
      "---  ------      --------------   ----- \n",
      " 0   readmitted  125919 non-null  object\n",
      "dtypes: object(1)\n",
      "memory usage: 983.9+ KB\n",
      "\n",
      "\n",
      "Y_test Information\n",
      "\n",
      "<class 'pandas.core.frame.DataFrame'>\n",
      "RangeIndex: 19869 entries, 0 to 19868\n",
      "Data columns (total 1 columns):\n",
      " #   Column      Non-Null Count  Dtype \n",
      "---  ------      --------------  ----- \n",
      " 0   readmitted  19869 non-null  object\n",
      "dtypes: object(1)\n",
      "memory usage: 155.4+ KB\n"
     ]
    }
   ],
   "source": [
    "# Verify data\n",
    "print('Y_train Information\\n')\n",
    "Y_train.info()\n",
    "print('\\n\\nY_test Information\\n')\n",
    "Y_test.info()"
   ]
  },
  {
   "cell_type": "code",
   "execution_count": 4,
   "id": "d06a683b",
   "metadata": {},
   "outputs": [],
   "source": [
    "# Change Y data to categorical\n",
    "Y_train = Y_train.astype('category')\n",
    "Y_test = Y_test.astype('category')"
   ]
  },
  {
   "cell_type": "code",
   "execution_count": 5,
   "id": "44185c20",
   "metadata": {},
   "outputs": [
    {
     "name": "stdout",
     "output_type": "stream",
     "text": [
      "Y_train Information\n",
      "\n",
      "<class 'pandas.core.frame.DataFrame'>\n",
      "RangeIndex: 125919 entries, 0 to 125918\n",
      "Data columns (total 1 columns):\n",
      " #   Column      Non-Null Count   Dtype   \n",
      "---  ------      --------------   -----   \n",
      " 0   readmitted  125919 non-null  category\n",
      "dtypes: category(1)\n",
      "memory usage: 123.2 KB\n",
      "\n",
      "\n",
      "Y_test Information\n",
      "\n",
      "<class 'pandas.core.frame.DataFrame'>\n",
      "RangeIndex: 19869 entries, 0 to 19868\n",
      "Data columns (total 1 columns):\n",
      " #   Column      Non-Null Count  Dtype   \n",
      "---  ------      --------------  -----   \n",
      " 0   readmitted  19869 non-null  category\n",
      "dtypes: category(1)\n",
      "memory usage: 19.7 KB\n"
     ]
    }
   ],
   "source": [
    "# Verify changes were made correctly\n",
    "print('Y_train Information\\n')\n",
    "Y_train.info()\n",
    "print('\\n\\nY_test Information\\n')\n",
    "Y_test.info()"
   ]
  },
  {
   "cell_type": "code",
   "execution_count": null,
   "id": "720f611f",
   "metadata": {},
   "outputs": [],
   "source": []
  },
  {
   "cell_type": "markdown",
   "id": "86bf4e2b",
   "metadata": {},
   "source": [
    "## Model 1 - KNN"
   ]
  },
  {
   "cell_type": "code",
   "execution_count": 6,
   "id": "79fa5708",
   "metadata": {},
   "outputs": [
    {
     "name": "stderr",
     "output_type": "stream",
     "text": [
      "C:\\Users\\Ingli\\anaconda3\\Lib\\site-packages\\sklearn\\neighbors\\_classification.py:233: DataConversionWarning: A column-vector y was passed when a 1d array was expected. Please change the shape of y to (n_samples,), for example using ravel().\n",
      "  return self._fit(X, y)\n"
     ]
    },
    {
     "data": {
      "text/html": [
       "<style>#sk-container-id-1 {color: black;}#sk-container-id-1 pre{padding: 0;}#sk-container-id-1 div.sk-toggleable {background-color: white;}#sk-container-id-1 label.sk-toggleable__label {cursor: pointer;display: block;width: 100%;margin-bottom: 0;padding: 0.3em;box-sizing: border-box;text-align: center;}#sk-container-id-1 label.sk-toggleable__label-arrow:before {content: \"▸\";float: left;margin-right: 0.25em;color: #696969;}#sk-container-id-1 label.sk-toggleable__label-arrow:hover:before {color: black;}#sk-container-id-1 div.sk-estimator:hover label.sk-toggleable__label-arrow:before {color: black;}#sk-container-id-1 div.sk-toggleable__content {max-height: 0;max-width: 0;overflow: hidden;text-align: left;background-color: #f0f8ff;}#sk-container-id-1 div.sk-toggleable__content pre {margin: 0.2em;color: black;border-radius: 0.25em;background-color: #f0f8ff;}#sk-container-id-1 input.sk-toggleable__control:checked~div.sk-toggleable__content {max-height: 200px;max-width: 100%;overflow: auto;}#sk-container-id-1 input.sk-toggleable__control:checked~label.sk-toggleable__label-arrow:before {content: \"▾\";}#sk-container-id-1 div.sk-estimator input.sk-toggleable__control:checked~label.sk-toggleable__label {background-color: #d4ebff;}#sk-container-id-1 div.sk-label input.sk-toggleable__control:checked~label.sk-toggleable__label {background-color: #d4ebff;}#sk-container-id-1 input.sk-hidden--visually {border: 0;clip: rect(1px 1px 1px 1px);clip: rect(1px, 1px, 1px, 1px);height: 1px;margin: -1px;overflow: hidden;padding: 0;position: absolute;width: 1px;}#sk-container-id-1 div.sk-estimator {font-family: monospace;background-color: #f0f8ff;border: 1px dotted black;border-radius: 0.25em;box-sizing: border-box;margin-bottom: 0.5em;}#sk-container-id-1 div.sk-estimator:hover {background-color: #d4ebff;}#sk-container-id-1 div.sk-parallel-item::after {content: \"\";width: 100%;border-bottom: 1px solid gray;flex-grow: 1;}#sk-container-id-1 div.sk-label:hover label.sk-toggleable__label {background-color: #d4ebff;}#sk-container-id-1 div.sk-serial::before {content: \"\";position: absolute;border-left: 1px solid gray;box-sizing: border-box;top: 0;bottom: 0;left: 50%;z-index: 0;}#sk-container-id-1 div.sk-serial {display: flex;flex-direction: column;align-items: center;background-color: white;padding-right: 0.2em;padding-left: 0.2em;position: relative;}#sk-container-id-1 div.sk-item {position: relative;z-index: 1;}#sk-container-id-1 div.sk-parallel {display: flex;align-items: stretch;justify-content: center;background-color: white;position: relative;}#sk-container-id-1 div.sk-item::before, #sk-container-id-1 div.sk-parallel-item::before {content: \"\";position: absolute;border-left: 1px solid gray;box-sizing: border-box;top: 0;bottom: 0;left: 50%;z-index: -1;}#sk-container-id-1 div.sk-parallel-item {display: flex;flex-direction: column;z-index: 1;position: relative;background-color: white;}#sk-container-id-1 div.sk-parallel-item:first-child::after {align-self: flex-end;width: 50%;}#sk-container-id-1 div.sk-parallel-item:last-child::after {align-self: flex-start;width: 50%;}#sk-container-id-1 div.sk-parallel-item:only-child::after {width: 0;}#sk-container-id-1 div.sk-dashed-wrapped {border: 1px dashed gray;margin: 0 0.4em 0.5em 0.4em;box-sizing: border-box;padding-bottom: 0.4em;background-color: white;}#sk-container-id-1 div.sk-label label {font-family: monospace;font-weight: bold;display: inline-block;line-height: 1.2em;}#sk-container-id-1 div.sk-label-container {text-align: center;}#sk-container-id-1 div.sk-container {/* jupyter's `normalize.less` sets `[hidden] { display: none; }` but bootstrap.min.css set `[hidden] { display: none !important; }` so we also need the `!important` here to be able to override the default hidden behavior on the sphinx rendered scikit-learn.org. See: https://github.com/scikit-learn/scikit-learn/issues/21755 */display: inline-block !important;position: relative;}#sk-container-id-1 div.sk-text-repr-fallback {display: none;}</style><div id=\"sk-container-id-1\" class=\"sk-top-container\"><div class=\"sk-text-repr-fallback\"><pre>KNeighborsClassifier()</pre><b>In a Jupyter environment, please rerun this cell to show the HTML representation or trust the notebook. <br />On GitHub, the HTML representation is unable to render, please try loading this page with nbviewer.org.</b></div><div class=\"sk-container\" hidden><div class=\"sk-item\"><div class=\"sk-estimator sk-toggleable\"><input class=\"sk-toggleable__control sk-hidden--visually\" id=\"sk-estimator-id-1\" type=\"checkbox\" checked><label for=\"sk-estimator-id-1\" class=\"sk-toggleable__label sk-toggleable__label-arrow\">KNeighborsClassifier</label><div class=\"sk-toggleable__content\"><pre>KNeighborsClassifier()</pre></div></div></div></div></div>"
      ],
      "text/plain": [
       "KNeighborsClassifier()"
      ]
     },
     "execution_count": 6,
     "metadata": {},
     "output_type": "execute_result"
    }
   ],
   "source": [
    "# Instantiate the K-Nearest Neighbors classifier with 5 neighbors\n",
    "KNN = KNeighborsClassifier(n_neighbors = 5)\n",
    "\n",
    "# Using the KNN classifier on the training data\n",
    "KNN.fit(X_train, Y_train)"
   ]
  },
  {
   "cell_type": "code",
   "execution_count": 7,
   "id": "04d2d9ef",
   "metadata": {},
   "outputs": [
    {
     "name": "stdout",
     "output_type": "stream",
     "text": [
      "Time taken: 1.2752444744110107 seconds\n"
     ]
    }
   ],
   "source": [
    "# Use the KNN classifier to make predictions\n",
    "# Start timer\n",
    "start_time = time.time()\n",
    "\n",
    "# Making predictions using KNN classifier\n",
    "Y_predict_KNN = KNN.predict(X_test)\n",
    "\n",
    "# Turn off timer\n",
    "end_time = time.time()\n",
    "elapsed_time = end_time - start_time\n",
    "print(f'Time taken: {elapsed_time} seconds')"
   ]
  },
  {
   "cell_type": "markdown",
   "id": "010f9fec",
   "metadata": {},
   "source": [
    "## KNN Confusion Matrix and Model Evaluation"
   ]
  },
  {
   "cell_type": "code",
   "execution_count": 8,
   "id": "80c8a851",
   "metadata": {},
   "outputs": [
    {
     "name": "stdout",
     "output_type": "stream",
     "text": [
      "Confusion matrix: \n",
      " [[ 844  783  612]\n",
      " [2201 2631 2244]\n",
      " [2793 3278 4483]]\n"
     ]
    }
   ],
   "source": [
    "# Confusion matrix\n",
    "conf_matrix = confusion_matrix(Y_test, Y_predict_KNN)\n",
    "print('Confusion matrix: \\n', conf_matrix)"
   ]
  },
  {
   "cell_type": "code",
   "execution_count": 9,
   "id": "fcae5c94",
   "metadata": {},
   "outputs": [
    {
     "name": "stdout",
     "output_type": "stream",
     "text": [
      "readmitted\n",
      "<30           41973\n",
      ">30           41973\n",
      "NO            41973\n",
      "Name: count, dtype: int64\n",
      "readmitted\n",
      "NO            10554\n",
      ">30            7076\n",
      "<30            2239\n",
      "Name: count, dtype: int64\n"
     ]
    }
   ],
   "source": [
    "# Verifying data\n",
    "print(Y_train.value_counts())\n",
    "print(Y_test.value_counts())"
   ]
  },
  {
   "cell_type": "code",
   "execution_count": 10,
   "id": "4b017a6f",
   "metadata": {},
   "outputs": [
    {
     "data": {
      "image/png": "[encoded data removed]",
      "text/plain": [
       "<Figure size 640x480 with 2 Axes>"
      ]
     },
     "metadata": {},
     "output_type": "display_data"
    }
   ],
   "source": [
    "# Define classes\n",
    "\n",
    "classes = ['<30', '>30', 'NO', 'readmitted']\n",
    "\n",
    "# Convert class labels to numberical labels for computer confusion matrix\n",
    "Y_test_numeric = [classes.index(label) for label in Y_train]\n",
    "Y_predict_numeric = [classes.index(label) for label in Y_predict_KNN]\n",
    "\n",
    "\n",
    "\n",
    "# Generate the confusion matrix\n",
    "confMatrix = confusion_matrix(Y_test, Y_predict_KNN)\n",
    "\n",
    "# Create a heatmap for the confusion matrix\n",
    "\n",
    "sns.heatmap(conf_matrix, annot = True, fmt = 'd', cmap = 'Blues', \n",
    "            xticklabels = classes, yticklabels = classes)\n",
    "\n",
    "# Add labels and a title\n",
    "plt.xlabel('Predicted')\n",
    "plt.ylabel('Actual')\n",
    "plt.title('Confusion Matrix for KNN Model')\n",
    "plt.show()"
   ]
  },
  {
   "cell_type": "code",
   "execution_count": 11,
   "id": "899fa086",
   "metadata": {},
   "outputs": [
    {
     "name": "stdout",
     "output_type": "stream",
     "text": [
      "Precision: 0.4808\n",
      "Recall: 0.4005\n",
      "Accuracy: 0.4005\n"
     ]
    }
   ],
   "source": [
    "# Calculate Precision, Recal and Accuracy\n",
    "precision = precision_score(Y_test, Y_predict_KNN, average = 'weighted')\n",
    "recall = recall_score(Y_test, Y_predict_KNN, average = 'weighted')\n",
    "accuracy = accuracy_score(Y_test, Y_predict_KNN)\n",
    "\n",
    "print(f'Precision: {precision:.4f}')\n",
    "print(f'Recall: {recall:.4f}')\n",
    "print(f'Accuracy: {accuracy:.4f}')"
   ]
  },
  {
   "cell_type": "code",
   "execution_count": 12,
   "id": "9cce5396",
   "metadata": {},
   "outputs": [
    {
     "name": "stdout",
     "output_type": "stream",
     "text": [
      "              precision    recall  f1-score   support\n",
      "\n",
      "         <30       0.14      0.38      0.21      2239\n",
      "         >30       0.39      0.37      0.38      7076\n",
      "          NO       0.61      0.42      0.50     10554\n",
      "\n",
      "    accuracy                           0.40     19869\n",
      "   macro avg       0.38      0.39      0.36     19869\n",
      "weighted avg       0.48      0.40      0.43     19869\n",
      "\n"
     ]
    }
   ],
   "source": [
    "print(classification_report(Y_test, Y_predict_KNN, target_names=['<30', '>30', 'NO']))"
   ]
  },
  {
   "cell_type": "code",
   "execution_count": null,
   "id": "be28d3d4",
   "metadata": {},
   "outputs": [],
   "source": []
  },
  {
   "cell_type": "code",
   "execution_count": null,
   "id": "aebf6b08",
   "metadata": {},
   "outputs": [],
   "source": []
  },
  {
   "cell_type": "markdown",
   "id": "75af11bb",
   "metadata": {},
   "source": [
    "## Model 2 - Decision Tree"
   ]
  },
  {
   "cell_type": "code",
   "execution_count": 13,
   "id": "2ea60e89",
   "metadata": {},
   "outputs": [
    {
     "data": {
      "text/html": [
       "<style>#sk-container-id-2 {color: black;}#sk-container-id-2 pre{padding: 0;}#sk-container-id-2 div.sk-toggleable {background-color: white;}#sk-container-id-2 label.sk-toggleable__label {cursor: pointer;display: block;width: 100%;margin-bottom: 0;padding: 0.3em;box-sizing: border-box;text-align: center;}#sk-container-id-2 label.sk-toggleable__label-arrow:before {content: \"▸\";float: left;margin-right: 0.25em;color: #696969;}#sk-container-id-2 label.sk-toggleable__label-arrow:hover:before {color: black;}#sk-container-id-2 div.sk-estimator:hover label.sk-toggleable__label-arrow:before {color: black;}#sk-container-id-2 div.sk-toggleable__content {max-height: 0;max-width: 0;overflow: hidden;text-align: left;background-color: #f0f8ff;}#sk-container-id-2 div.sk-toggleable__content pre {margin: 0.2em;color: black;border-radius: 0.25em;background-color: #f0f8ff;}#sk-container-id-2 input.sk-toggleable__control:checked~div.sk-toggleable__content {max-height: 200px;max-width: 100%;overflow: auto;}#sk-container-id-2 input.sk-toggleable__control:checked~label.sk-toggleable__label-arrow:before {content: \"▾\";}#sk-container-id-2 div.sk-estimator input.sk-toggleable__control:checked~label.sk-toggleable__label {background-color: #d4ebff;}#sk-container-id-2 div.sk-label input.sk-toggleable__control:checked~label.sk-toggleable__label {background-color: #d4ebff;}#sk-container-id-2 input.sk-hidden--visually {border: 0;clip: rect(1px 1px 1px 1px);clip: rect(1px, 1px, 1px, 1px);height: 1px;margin: -1px;overflow: hidden;padding: 0;position: absolute;width: 1px;}#sk-container-id-2 div.sk-estimator {font-family: monospace;background-color: #f0f8ff;border: 1px dotted black;border-radius: 0.25em;box-sizing: border-box;margin-bottom: 0.5em;}#sk-container-id-2 div.sk-estimator:hover {background-color: #d4ebff;}#sk-container-id-2 div.sk-parallel-item::after {content: \"\";width: 100%;border-bottom: 1px solid gray;flex-grow: 1;}#sk-container-id-2 div.sk-label:hover label.sk-toggleable__label {background-color: #d4ebff;}#sk-container-id-2 div.sk-serial::before {content: \"\";position: absolute;border-left: 1px solid gray;box-sizing: border-box;top: 0;bottom: 0;left: 50%;z-index: 0;}#sk-container-id-2 div.sk-serial {display: flex;flex-direction: column;align-items: center;background-color: white;padding-right: 0.2em;padding-left: 0.2em;position: relative;}#sk-container-id-2 div.sk-item {position: relative;z-index: 1;}#sk-container-id-2 div.sk-parallel {display: flex;align-items: stretch;justify-content: center;background-color: white;position: relative;}#sk-container-id-2 div.sk-item::before, #sk-container-id-2 div.sk-parallel-item::before {content: \"\";position: absolute;border-left: 1px solid gray;box-sizing: border-box;top: 0;bottom: 0;left: 50%;z-index: -1;}#sk-container-id-2 div.sk-parallel-item {display: flex;flex-direction: column;z-index: 1;position: relative;background-color: white;}#sk-container-id-2 div.sk-parallel-item:first-child::after {align-self: flex-end;width: 50%;}#sk-container-id-2 div.sk-parallel-item:last-child::after {align-self: flex-start;width: 50%;}#sk-container-id-2 div.sk-parallel-item:only-child::after {width: 0;}#sk-container-id-2 div.sk-dashed-wrapped {border: 1px dashed gray;margin: 0 0.4em 0.5em 0.4em;box-sizing: border-box;padding-bottom: 0.4em;background-color: white;}#sk-container-id-2 div.sk-label label {font-family: monospace;font-weight: bold;display: inline-block;line-height: 1.2em;}#sk-container-id-2 div.sk-label-container {text-align: center;}#sk-container-id-2 div.sk-container {/* jupyter's `normalize.less` sets `[hidden] { display: none; }` but bootstrap.min.css set `[hidden] { display: none !important; }` so we also need the `!important` here to be able to override the default hidden behavior on the sphinx rendered scikit-learn.org. See: https://github.com/scikit-learn/scikit-learn/issues/21755 */display: inline-block !important;position: relative;}#sk-container-id-2 div.sk-text-repr-fallback {display: none;}</style><div id=\"sk-container-id-2\" class=\"sk-top-container\"><div class=\"sk-text-repr-fallback\"><pre>DecisionTreeClassifier(random_state=53)</pre><b>In a Jupyter environment, please rerun this cell to show the HTML representation or trust the notebook. <br />On GitHub, the HTML representation is unable to render, please try loading this page with nbviewer.org.</b></div><div class=\"sk-container\" hidden><div class=\"sk-item\"><div class=\"sk-estimator sk-toggleable\"><input class=\"sk-toggleable__control sk-hidden--visually\" id=\"sk-estimator-id-2\" type=\"checkbox\" checked><label for=\"sk-estimator-id-2\" class=\"sk-toggleable__label sk-toggleable__label-arrow\">DecisionTreeClassifier</label><div class=\"sk-toggleable__content\"><pre>DecisionTreeClassifier(random_state=53)</pre></div></div></div></div></div>"
      ],
      "text/plain": [
       "DecisionTreeClassifier(random_state=53)"
      ]
     },
     "execution_count": 13,
     "metadata": {},
     "output_type": "execute_result"
    }
   ],
   "source": [
    "# Instantiate the decision tree classifier\n",
    "DecisionTree = DecisionTreeClassifier(random_state = 53)\n",
    "\n",
    "# Train the model\n",
    "DecisionTree.fit(X_train, Y_train)"
   ]
  },
  {
   "cell_type": "code",
   "execution_count": 14,
   "id": "f3c2ad4e",
   "metadata": {},
   "outputs": [
    {
     "name": "stdout",
     "output_type": "stream",
     "text": [
      "Time taken: 0.007105350494384766 seconds\n"
     ]
    }
   ],
   "source": [
    "# Use the decision tree classifier to make predictions\n",
    "\n",
    "# Start timer\n",
    "start_time = time.time()\n",
    "\n",
    "# Making predictions using decision tree classifier\n",
    "Y_predict_tree = DecisionTree.predict(X_test)\n",
    "\n",
    "# Turn off timer\n",
    "end_time = time.time()\n",
    "elapsed_time = end_time - start_time\n",
    "print(f'Time taken: {elapsed_time} seconds')"
   ]
  },
  {
   "cell_type": "markdown",
   "id": "d67a283f",
   "metadata": {},
   "source": [
    "## Decision Tree Confusion Matrix and Model Evaluation"
   ]
  },
  {
   "cell_type": "code",
   "execution_count": 15,
   "id": "03ad7698",
   "metadata": {},
   "outputs": [
    {
     "name": "stdout",
     "output_type": "stream",
     "text": [
      "Confusion matrix: \n",
      " [[ 441  882  916]\n",
      " [1079 2825 3172]\n",
      " [1302 3538 5714]]\n"
     ]
    }
   ],
   "source": [
    "# Confusion matrix\n",
    "conf_matrix = confusion_matrix(Y_test, Y_predict_tree)\n",
    "print('Confusion matrix: \\n', conf_matrix)"
   ]
  },
  {
   "cell_type": "code",
   "execution_count": 16,
   "id": "754c0759",
   "metadata": {},
   "outputs": [
    {
     "data": {
      "image/png": "[encoded data removed]",
      "text/plain": [
       "<Figure size 640x480 with 2 Axes>"
      ]
     },
     "metadata": {},
     "output_type": "display_data"
    }
   ],
   "source": [
    "# Define classes\n",
    "\n",
    "classes = ['<30', '>30', 'NO', 'readmitted']\n",
    "\n",
    "# Convert class labels to numberical labels for computer confusion matrix\n",
    "Y_test_numeric = [classes.index(label) for label in Y_train]\n",
    "Y_predict_numeric = [classes.index(label) for label in Y_predict_tree]\n",
    "\n",
    "# Generate the confusion matrix\n",
    "confMatrix = confusion_matrix(Y_test, Y_predict_tree)\n",
    "\n",
    "# Create a heatmap for the confusion matrix\n",
    "\n",
    "sns.heatmap(conf_matrix, annot = True, fmt = 'd', cmap = 'Blues', \n",
    "            xticklabels = classes, yticklabels = classes)\n",
    "\n",
    "# Add labels and a title\n",
    "plt.xlabel('Predicted')\n",
    "plt.ylabel('Actual')\n",
    "plt.title('Confusion Matrix for Decision Tree Model')\n",
    "plt.show()"
   ]
  },
  {
   "cell_type": "code",
   "execution_count": 17,
   "id": "ebf9edb6",
   "metadata": {},
   "outputs": [
    {
     "name": "stdout",
     "output_type": "stream",
     "text": [
      "Precision: 0.4661\n",
      "Recall: 0.4520\n",
      "Accuracy: 0.4520\n"
     ]
    }
   ],
   "source": [
    "# Calculate Precision, Recal and Accuracy\n",
    "precision = precision_score(Y_test, Y_predict_tree, average = 'weighted')\n",
    "recall = recall_score(Y_test, Y_predict_tree, average = 'weighted')\n",
    "accuracy = accuracy_score(Y_test, Y_predict_tree)\n",
    "\n",
    "print(f'Precision: {precision:.4f}')\n",
    "print(f'Recall: {recall:.4f}')\n",
    "print(f'Accuracy: {accuracy:.4f}')"
   ]
  },
  {
   "cell_type": "code",
   "execution_count": 18,
   "id": "9065e5e0",
   "metadata": {},
   "outputs": [
    {
     "name": "stdout",
     "output_type": "stream",
     "text": [
      "              precision    recall  f1-score   support\n",
      "\n",
      "         <30       0.16      0.20      0.17      2239\n",
      "         >30       0.39      0.40      0.39      7076\n",
      "          NO       0.58      0.54      0.56     10554\n",
      "\n",
      "    accuracy                           0.45     19869\n",
      "   macro avg       0.38      0.38      0.38     19869\n",
      "weighted avg       0.47      0.45      0.46     19869\n",
      "\n"
     ]
    }
   ],
   "source": [
    "print(classification_report(Y_test, Y_predict_tree, target_names=['<30', '>30', 'NO']))"
   ]
  },
  {
   "cell_type": "code",
   "execution_count": null,
   "id": "74fffb75",
   "metadata": {},
   "outputs": [],
   "source": []
  },
  {
   "cell_type": "code",
   "execution_count": null,
   "id": "8ae23d1e",
   "metadata": {},
   "outputs": [],
   "source": []
  },
  {
   "cell_type": "markdown",
   "id": "49ea0d89",
   "metadata": {},
   "source": [
    "## Model 3 - Random Forest Classifier"
   ]
  },
  {
   "cell_type": "code",
   "execution_count": 19,
   "id": "34ea86e9",
   "metadata": {},
   "outputs": [
    {
     "name": "stderr",
     "output_type": "stream",
     "text": [
      "C:\\Users\\Ingli\\anaconda3\\Lib\\site-packages\\sklearn\\base.py:1152: DataConversionWarning: A column-vector y was passed when a 1d array was expected. Please change the shape of y to (n_samples,), for example using ravel().\n",
      "  return fit_method(estimator, *args, **kwargs)\n"
     ]
    },
    {
     "name": "stdout",
     "output_type": "stream",
     "text": [
      "Time taken: 25.373305082321167 seconds\n"
     ]
    }
   ],
   "source": [
    "# Instantiate the random forest classifier\n",
    "RandomForest = RandomForestClassifier(n_estimators = 100, random_state = 53)\n",
    "\n",
    "# Start timer\n",
    "start_time = time.time()\n",
    "\n",
    "# Train the model\n",
    "RandomForest.fit(X_train, Y_train)\n",
    "\n",
    "# Turn off timer\n",
    "end_time = time.time()\n",
    "elapsed_time = end_time - start_time\n",
    "print(f'Time taken: {elapsed_time} seconds')"
   ]
  },
  {
   "cell_type": "code",
   "execution_count": 20,
   "id": "9acc4fbf",
   "metadata": {},
   "outputs": [
    {
     "name": "stdout",
     "output_type": "stream",
     "text": [
      "Time taken: 0.4534428119659424 seconds\n"
     ]
    }
   ],
   "source": [
    "# Use the random forest classifier to make predictions\n",
    "\n",
    "# Start timer\n",
    "start_time = time.time()\n",
    "\n",
    "# Making predictions using random forest classifier\n",
    "Y_predict_RF = RandomForest.predict(X_test)\n",
    "\n",
    "# Turn off timer\n",
    "end_time = time.time()\n",
    "elapsed_time = end_time - start_time\n",
    "print(f'Time taken: {elapsed_time} seconds')"
   ]
  },
  {
   "cell_type": "code",
   "execution_count": null,
   "id": "8da7ca3f",
   "metadata": {},
   "outputs": [],
   "source": []
  },
  {
   "cell_type": "markdown",
   "id": "d5a71e92",
   "metadata": {},
   "source": [
    "## Random Forest Confusion Matrix and Model Evaluation"
   ]
  },
  {
   "cell_type": "code",
   "execution_count": 21,
   "id": "f887d93c",
   "metadata": {},
   "outputs": [
    {
     "name": "stdout",
     "output_type": "stream",
     "text": [
      "Confusion matrix: \n",
      " [[ 211  942 1086]\n",
      " [ 422 2981 3673]\n",
      " [ 386 2720 7448]]\n"
     ]
    }
   ],
   "source": [
    "# Confusion matrix\n",
    "conf_matrix = confusion_matrix(Y_test, Y_predict_RF)\n",
    "print('Confusion matrix: \\n', conf_matrix)"
   ]
  },
  {
   "cell_type": "code",
   "execution_count": 22,
   "id": "e9633880",
   "metadata": {},
   "outputs": [
    {
     "data": {
      "image/png": "[encoded data removed]",
      "text/plain": [
       "<Figure size 640x480 with 2 Axes>"
      ]
     },
     "metadata": {},
     "output_type": "display_data"
    }
   ],
   "source": [
    "# Define classes\n",
    "\n",
    "classes = ['<30', '>30', 'NO', 'readmitted']\n",
    "\n",
    "# Convert class labels to numberical labels for computer confusion matrix\n",
    "Y_test_numeric = [classes.index(label) for label in Y_train]\n",
    "Y_predict_numeric = [classes.index(label) for label in Y_predict_RF]\n",
    "\n",
    "# Generate the confusion matrix\n",
    "confMatrix = confusion_matrix(Y_test, Y_predict_RF)\n",
    "\n",
    "# Create a heatmap for the confusion matrix\n",
    "\n",
    "sns.heatmap(confMatrix, annot = True, fmt = 'd', cmap = 'Blues', \n",
    "            xticklabels = classes, yticklabels = classes)\n",
    "\n",
    "# Add labels and a title\n",
    "plt.xlabel('Predicted')\n",
    "plt.ylabel('Actual')\n",
    "plt.title('Confusion Matrix for Random Forest Model')\n",
    "plt.show()"
   ]
  },
  {
   "cell_type": "code",
   "execution_count": 23,
   "id": "3e42b899",
   "metadata": {},
   "outputs": [
    {
     "name": "stdout",
     "output_type": "stream",
     "text": [
      "Precision: 0.5072\n",
      "Recall: 0.5355\n",
      "Accuracy: 0.5355\n"
     ]
    }
   ],
   "source": [
    "# Calculate Precision, Recal and Accuracy\n",
    "precision = precision_score(Y_test, Y_predict_RF, average = 'weighted')\n",
    "recall = recall_score(Y_test, Y_predict_RF, average = 'weighted')\n",
    "accuracy = accuracy_score(Y_test, Y_predict_RF)\n",
    "\n",
    "print(f'Precision: {precision:.4f}')\n",
    "print(f'Recall: {recall:.4f}')\n",
    "print(f'Accuracy: {accuracy:.4f}')"
   ]
  },
  {
   "cell_type": "code",
   "execution_count": 24,
   "id": "5f024dfb",
   "metadata": {},
   "outputs": [
    {
     "name": "stdout",
     "output_type": "stream",
     "text": [
      "              precision    recall  f1-score   support\n",
      "\n",
      "         <30       0.21      0.09      0.13      2239\n",
      "         >30       0.45      0.42      0.43      7076\n",
      "          NO       0.61      0.71      0.65     10554\n",
      "\n",
      "    accuracy                           0.54     19869\n",
      "   macro avg       0.42      0.41      0.41     19869\n",
      "weighted avg       0.51      0.54      0.52     19869\n",
      "\n"
     ]
    }
   ],
   "source": [
    "print(classification_report(Y_test, Y_predict_RF, target_names=['<30', '>30', 'NO']))"
   ]
  },
  {
   "cell_type": "code",
   "execution_count": null,
   "id": "459fe2b7",
   "metadata": {},
   "outputs": [],
   "source": []
  },
  {
   "cell_type": "code",
   "execution_count": null,
   "id": "24b9a69a",
   "metadata": {},
   "outputs": [],
   "source": []
  },
  {
   "cell_type": "markdown",
   "id": "c7205c52",
   "metadata": {},
   "source": [
    "## Model 4 - Naive Bayes"
   ]
  },
  {
   "cell_type": "code",
   "execution_count": 25,
   "id": "2da87905",
   "metadata": {},
   "outputs": [
    {
     "name": "stdout",
     "output_type": "stream",
     "text": [
      "Time taken: 0.11616826057434082 seconds\n"
     ]
    },
    {
     "name": "stderr",
     "output_type": "stream",
     "text": [
      "C:\\Users\\Ingli\\anaconda3\\Lib\\site-packages\\sklearn\\utils\\validation.py:1183: DataConversionWarning: A column-vector y was passed when a 1d array was expected. Please change the shape of y to (n_samples, ), for example using ravel().\n",
      "  y = column_or_1d(y, warn=True)\n"
     ]
    }
   ],
   "source": [
    "# Instantiate the Naive Bayes classifier\n",
    "NB = GaussianNB()\n",
    "\n",
    "# Start timer\n",
    "start_time = time.time()\n",
    "\n",
    "# Train the model\n",
    "NB.fit(X_train, Y_train)\n",
    "\n",
    "# Turn off timer\n",
    "end_time = time.time()\n",
    "elapsed_time = end_time - start_time\n",
    "print(f'Time taken: {elapsed_time} seconds')"
   ]
  },
  {
   "cell_type": "code",
   "execution_count": 26,
   "id": "c7986ef0",
   "metadata": {},
   "outputs": [
    {
     "name": "stdout",
     "output_type": "stream",
     "text": [
      "Time taken: 0.011642932891845703 seconds\n"
     ]
    }
   ],
   "source": [
    "# Use the random forest classifier to make predictions\n",
    "\n",
    "# Start timer\n",
    "start_time = time.time()\n",
    "\n",
    "# Making predictions using random forest classifier\n",
    "Y_predict_NB = NB.predict(X_test)\n",
    "\n",
    "# Turn off timer\n",
    "end_time = time.time()\n",
    "elapsed_time = end_time - start_time\n",
    "print(f'Time taken: {elapsed_time} seconds')"
   ]
  },
  {
   "cell_type": "markdown",
   "id": "f0bb5db3",
   "metadata": {},
   "source": [
    "## Naive Bayes Confusion Matrix and Model Evaluation"
   ]
  },
  {
   "cell_type": "code",
   "execution_count": 27,
   "id": "ba6e6e43",
   "metadata": {},
   "outputs": [
    {
     "name": "stdout",
     "output_type": "stream",
     "text": [
      "Confusion matrix: \n",
      " [[ 673  411 1155]\n",
      " [1611 1402 4063]\n",
      " [1373 1167 8014]]\n"
     ]
    }
   ],
   "source": [
    "# Confusion matrix\n",
    "conf_matrix = confusion_matrix(Y_test, Y_predict_NB)\n",
    "print('Confusion matrix: \\n', conf_matrix)"
   ]
  },
  {
   "cell_type": "code",
   "execution_count": 28,
   "id": "15ee348f",
   "metadata": {},
   "outputs": [
    {
     "data": {
      "image/png": "[encoded data removed]",
      "text/plain": [
       "<Figure size 640x480 with 2 Axes>"
      ]
     },
     "metadata": {},
     "output_type": "display_data"
    }
   ],
   "source": [
    "# Define classes\n",
    "\n",
    "classes = ['<30', '>30', 'NO', 'readmitted']\n",
    "\n",
    "# Convert class labels to numberical labels for computer confusion matrix\n",
    "Y_test_numeric = [classes.index(label) for label in Y_train]\n",
    "Y_predict_numeric = [classes.index(label) for label in Y_predict_NB]\n",
    "\n",
    "# Generate the confusion matrix\n",
    "confMatrix = confusion_matrix(Y_test, Y_predict_NB)\n",
    "\n",
    "# Create a heatmap for the confusion matrix\n",
    "\n",
    "sns.heatmap(conf_matrix, annot = True, fmt = 'd', cmap = 'Blues', \n",
    "            xticklabels = classes, yticklabels = classes)\n",
    "\n",
    "# Add labels and a title\n",
    "plt.xlabel('Predicted')\n",
    "plt.ylabel('Actual')\n",
    "plt.title('Confusion Matrix for Naive Bayes')\n",
    "plt.show()"
   ]
  },
  {
   "cell_type": "code",
   "execution_count": 29,
   "id": "127f1d8d",
   "metadata": {},
   "outputs": [
    {
     "name": "stdout",
     "output_type": "stream",
     "text": [
      "Precision: 0.5100\n",
      "Recall: 0.5078\n",
      "Accuracy: 0.5078\n"
     ]
    }
   ],
   "source": [
    "# Calculate Precision, Recal and Accuracy\n",
    "precision = precision_score(Y_test, Y_predict_NB, average = 'weighted')\n",
    "recall = recall_score(Y_test, Y_predict_NB, average = 'weighted')\n",
    "accuracy = accuracy_score(Y_test, Y_predict_NB)\n",
    "\n",
    "print(f'Precision: {precision:.4f}')\n",
    "print(f'Recall: {recall:.4f}')\n",
    "print(f'Accuracy: {accuracy:.4f}')"
   ]
  },
  {
   "cell_type": "code",
   "execution_count": 30,
   "id": "411f3308",
   "metadata": {},
   "outputs": [
    {
     "name": "stdout",
     "output_type": "stream",
     "text": [
      "              precision    recall  f1-score   support\n",
      "\n",
      "         <30       0.18      0.30      0.23      2239\n",
      "         >30       0.47      0.20      0.28      7076\n",
      "          NO       0.61      0.76      0.67     10554\n",
      "\n",
      "    accuracy                           0.51     19869\n",
      "   macro avg       0.42      0.42      0.39     19869\n",
      "weighted avg       0.51      0.51      0.48     19869\n",
      "\n"
     ]
    }
   ],
   "source": [
    "print(classification_report(Y_test, Y_predict_NB, target_names=['<30', '>30', 'NO']))"
   ]
  },
  {
   "cell_type": "code",
   "execution_count": null,
   "id": "0d90e816",
   "metadata": {},
   "outputs": [],
   "source": []
  },
  {
   "cell_type": "code",
   "execution_count": null,
   "id": "1223addb",
   "metadata": {},
   "outputs": [],
   "source": []
  },
  {
   "cell_type": "code",
   "execution_count": null,
   "id": "2a1f0c94",
   "metadata": {},
   "outputs": [],
   "source": []
  }
 ],
 "metadata": {
  "kernelspec": {
   "display_name": "Python 3 (ipykernel)",
   "language": "python",
   "name": "python3"
  },
  "language_info": {
   "codemirror_mode": {
    "name": "ipython",
    "version": 3
   },
   "file_extension": ".py",
   "mimetype": "text/x-python",
   "name": "python",
   "nbconvert_exporter": "python",
   "pygments_lexer": "ipython3",
   "version": "3.11.4"
  }
 },
 "nbformat": 4,
 "nbformat_minor": 5
}
