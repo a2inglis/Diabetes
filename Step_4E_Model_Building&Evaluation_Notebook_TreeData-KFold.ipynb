{
 "cells": [
  {
   "cell_type": "markdown",
   "id": "70afbd13",
   "metadata": {},
   "source": [
    "## Model Building & Evaluation Notebook for Random Forest Classifier Approach to Dimensionality Reduction, with Stratified KFold"
   ]
  },
  {
   "cell_type": "code",
   "execution_count": 1,
   "id": "e4b90db3",
   "metadata": {},
   "outputs": [],
   "source": [
    "# This notebook focuses on the random forest model with 5-fold cross-validation, \n",
    "# omitting the other three models. \n",
    "# The objective of this analysis was to evaluate whether incorporating stratified\n",
    "# k-fold cross-validation enhances the model's performance"
   ]
  },
  {
   "cell_type": "code",
   "execution_count": 2,
   "id": "278813e0",
   "metadata": {},
   "outputs": [],
   "source": [
    "# Import the libraries needed\n",
    "\n",
    "import pandas as pd\n",
    "import numpy as np\n",
    "import seaborn as sns\n",
    "from sklearn.preprocessing import OneHotEncoder, StandardScaler\n",
    "from sklearn.model_selection import train_test_split, RepeatedStratifiedKFold\n",
    "from sklearn.feature_selection import VarianceThreshold, SelectKBest, f_classif, RFE\n",
    "from sklearn.ensemble import RandomForestClassifier\n",
    "from sklearn.tree import DecisionTreeClassifier, plot_tree\n",
    "import matplotlib.pyplot as plt\n",
    "import time\n",
    "from sklearn.neighbors import KNeighborsClassifier\n",
    "from imblearn.over_sampling import SMOTE\n",
    "from sklearn.metrics import confusion_matrix, precision_score, recall_score, accuracy_score, classification_report\n",
    "from sklearn.naive_bayes import GaussianNB"
   ]
  },
  {
   "cell_type": "code",
   "execution_count": 3,
   "id": "ddf69af3",
   "metadata": {},
   "outputs": [],
   "source": [
    "# Import data from previous notebook\n",
    "\n",
    "X_train = pd.read_csv('Mod_3_X_train_Tree.csv')\n",
    "X_test = pd.read_csv('Mod_3_X_test_Tree.csv')\n",
    "Y_train = pd.read_csv('Mod_3_Y_train.csv')\n",
    "Y_test = pd.read_csv('Mod_3_Y_test.csv')"
   ]
  },
  {
   "cell_type": "code",
   "execution_count": 4,
   "id": "9512ce46",
   "metadata": {},
   "outputs": [
    {
     "name": "stdout",
     "output_type": "stream",
     "text": [
      "Y_train Information\n",
      "\n",
      "<class 'pandas.core.frame.DataFrame'>\n",
      "RangeIndex: 125919 entries, 0 to 125918\n",
      "Data columns (total 1 columns):\n",
      " #   Column      Non-Null Count   Dtype \n",
      "---  ------      --------------   ----- \n",
      " 0   readmitted  125919 non-null  object\n",
      "dtypes: object(1)\n",
      "memory usage: 983.9+ KB\n",
      "\n",
      "\n",
      "Y_test Information\n",
      "\n",
      "<class 'pandas.core.frame.DataFrame'>\n",
      "RangeIndex: 19869 entries, 0 to 19868\n",
      "Data columns (total 1 columns):\n",
      " #   Column      Non-Null Count  Dtype \n",
      "---  ------      --------------  ----- \n",
      " 0   readmitted  19869 non-null  object\n",
      "dtypes: object(1)\n",
      "memory usage: 155.4+ KB\n"
     ]
    }
   ],
   "source": [
    "# Check data\n",
    "print('Y_train Information\\n')\n",
    "Y_train.info()\n",
    "print('\\n\\nY_test Information\\n')\n",
    "Y_test.info()"
   ]
  },
  {
   "cell_type": "code",
   "execution_count": 5,
   "id": "d06a683b",
   "metadata": {},
   "outputs": [],
   "source": [
    "# Change Y data to categorical\n",
    "Y_train = Y_train.astype('category')\n",
    "Y_test = Y_test.astype('category')"
   ]
  },
  {
   "cell_type": "code",
   "execution_count": 6,
   "id": "44185c20",
   "metadata": {},
   "outputs": [
    {
     "name": "stdout",
     "output_type": "stream",
     "text": [
      "Y_train Information\n",
      "\n",
      "<class 'pandas.core.frame.DataFrame'>\n",
      "RangeIndex: 125919 entries, 0 to 125918\n",
      "Data columns (total 1 columns):\n",
      " #   Column      Non-Null Count   Dtype   \n",
      "---  ------      --------------   -----   \n",
      " 0   readmitted  125919 non-null  category\n",
      "dtypes: category(1)\n",
      "memory usage: 123.2 KB\n",
      "\n",
      "\n",
      "Y_test Information\n",
      "\n",
      "<class 'pandas.core.frame.DataFrame'>\n",
      "RangeIndex: 19869 entries, 0 to 19868\n",
      "Data columns (total 1 columns):\n",
      " #   Column      Non-Null Count  Dtype   \n",
      "---  ------      --------------  -----   \n",
      " 0   readmitted  19869 non-null  category\n",
      "dtypes: category(1)\n",
      "memory usage: 19.7 KB\n"
     ]
    }
   ],
   "source": [
    "# Verify changes were made correctly\n",
    "print('Y_train Information\\n')\n",
    "Y_train.info()\n",
    "print('\\n\\nY_test Information\\n')\n",
    "Y_test.info()"
   ]
  },
  {
   "cell_type": "code",
   "execution_count": null,
   "id": "9d4a46d5",
   "metadata": {},
   "outputs": [],
   "source": []
  },
  {
   "cell_type": "code",
   "execution_count": null,
   "id": "4695734e",
   "metadata": {},
   "outputs": [],
   "source": []
  },
  {
   "cell_type": "markdown",
   "id": "1e2f7f8d",
   "metadata": {},
   "source": [
    "## Random Forest Classifier"
   ]
  },
  {
   "cell_type": "code",
   "execution_count": 7,
   "id": "a13f82cf",
   "metadata": {},
   "outputs": [
    {
     "name": "stdout",
     "output_type": "stream",
     "text": [
      "Accuracy: 0.6859\n",
      "Accuracy: 0.6864\n",
      "Accuracy: 0.6861\n",
      "Accuracy: 0.6838\n",
      "Accuracy: 0.6855\n",
      "Accuracy: 0.6836\n",
      "Accuracy: 0.6888\n",
      "Accuracy: 0.6824\n",
      "Accuracy: 0.6847\n",
      "Accuracy: 0.6862\n",
      "Accuracy: 0.6811\n",
      "Accuracy: 0.6888\n",
      "Accuracy: 0.6874\n",
      "Accuracy: 0.6880\n",
      "Accuracy: 0.6777\n",
      "\n",
      "Time taken: 312.84035062789917 seconds\n",
      "\n"
     ]
    }
   ],
   "source": [
    "\n",
    "# Run KNN model with K-fold cross validation\n",
    "\n",
    "# Start timer\n",
    "start_time = time.time()\n",
    "\n",
    "# Instantiate the Random Forest Classifier with 100 trees\n",
    "classifier = RandomForestClassifier(n_estimators = 100, random_state = 53)\n",
    "\n",
    "# Set up inputs for Stratified KFold cross validator\n",
    "splits = 5            # number of splits\n",
    "repeats = 3           # number of repeats\n",
    "\n",
    "# Set up the tool\n",
    "rskf = RepeatedStratifiedKFold(n_splits = splits, n_repeats = repeats, random_state = 53)\n",
    "\n",
    "# Initialize a list to store accuracy scores for each fold\n",
    "accuracy_scores = []\n",
    "\n",
    "# Use the classifier to make predication with repeated stratified k-fold cross validation\n",
    "for train_index, test_index in rskf.split(X_train, Y_train):\n",
    "    # Subset the training and testing sets for each iteration\n",
    "    X_fold_train, X_fold_test = X_train.iloc[train_index], X_train.iloc[test_index]\n",
    "    Y_fold_train, Y_fold_test = Y_train.iloc[train_index], Y_train.iloc[test_index]\n",
    "\n",
    "    # Train the classifier\n",
    "    # ravel() converts Y_fold_train to a 1D array\n",
    "    classifier.fit(X_fold_train, Y_fold_train.values.ravel())\n",
    "    \n",
    "    # Use classifier to make predictions on the test subset\n",
    "    Y_pred = classifier.predict(X_fold_test)\n",
    "    \n",
    "    # Check the accuracy score\n",
    "    accuracy = accuracy_score(Y_fold_test, Y_pred)\n",
    "    \n",
    "    # Add the accuracy score for this fold to the list\n",
    "    accuracy_scores.append(accuracy)\n",
    "    \n",
    "    print(f'Accuracy: {accuracy:0.4f}')\n",
    "\n",
    "# Turn off timer\n",
    "end_time = time.time()\n",
    "elapsed_time = end_time - start_time\n",
    "\n",
    "print(f'\\nTime taken: {elapsed_time} seconds\\n')\n"
   ]
  },
  {
   "cell_type": "code",
   "execution_count": 8,
   "id": "06b2eda9",
   "metadata": {},
   "outputs": [
    {
     "name": "stdout",
     "output_type": "stream",
     "text": [
      "\n",
      "Accuracy on Test Set: 0.5351\n"
     ]
    }
   ],
   "source": [
    "# Evaluate the model on the testing set\n",
    "Y_pred_test_RF = classifier.predict(X_test)\n",
    "accuracy_test = accuracy_score(Y_test, Y_pred_test_RF)\n",
    "print(f'\\nAccuracy on Test Set: {accuracy_test:.4f}')"
   ]
  },
  {
   "cell_type": "code",
   "execution_count": null,
   "id": "ee0063e8",
   "metadata": {},
   "outputs": [],
   "source": []
  },
  {
   "cell_type": "code",
   "execution_count": 9,
   "id": "926d9926",
   "metadata": {},
   "outputs": [
    {
     "data": {
      "text/plain": [
       "\"\\n# Run KNN model with K-fold cross validation\\n\\n# Start timer\\nstart_time = time.time()\\n\\n# Instantiate the Random Forest Classifier with 10 trees\\nclassifier = RandomForestClassifier(n_estimators = 10, random_state = 53)\\n\\n# Set up inputs for Stratified KFold cross validator\\nsplits = 5            # number of splits\\nrepeats = 3           # number of repeats\\n\\n# Set up the tool\\nrskf = RepeatedStratifiedKFold(n_splits = splits, n_repeats = repeats, random_state = 53)\\n\\n# Initialize a list to store accuracy scores for each fold\\naccuracy_scores = []\\n\\n# Use the classifier to make predication with repeated stratified k-fold cross validation\\nfor train_index, test_index in rskf.split(X_train, Y_train):\\n    # Subset the training and testing sets for each iteration\\n    X_fold_train, X_fold_test = X_train.iloc[train_index], X_train.iloc[test_index]\\n    Y_fold_train, Y_fold_test = Y_train.iloc[train_index], Y_train.iloc[test_index]\\n\\n    # Train the classifier\\n    # ravel() converts Y_fold_train to a 1D array\\n    classifier.fit(X_fold_train, Y_fold_train.values.ravel())\\n    \\n    # Use classifier to make predictions on the test subset\\n    Y_pred = classifier.predict(X_fold_test)\\n    \\n    # Check the accuracy score\\n    accuracy = accuracy_score(Y_fold_test, Y_pred)\\n    \\n    # Add the accuracy score for this fold to the list\\n    accuracy_scores.append(accuracy)\\n    \\n    print(f'Accuracy: {accuracy:0.4f}')\\n\\n# Turn off timer\\nend_time = time.time()\\nelapsed_time = end_time - start_time\\n\\nprint(f'\\nTime taken: {elapsed_time} seconds\\n')\\n\\n# Evaluate the model on the testing set\\nY_pred_test_RF = classifier.predict(X_test)\\naccuracy_test = accuracy_score(Y_test, Y_pred_test_RF)\\nprint(f'\\nAccuracy on Test Set: {accuracy_test:.4f}')\\n\""
      ]
     },
     "execution_count": 9,
     "metadata": {},
     "output_type": "execute_result"
    }
   ],
   "source": [
    "# CHANGING THE NUMBER OF TREES IN THE FOREST\n",
    "'''\n",
    "# Run KNN model with K-fold cross validation\n",
    "\n",
    "# Start timer\n",
    "start_time = time.time()\n",
    "\n",
    "# Instantiate the Random Forest Classifier with 10 trees\n",
    "classifier = RandomForestClassifier(n_estimators = 10, random_state = 53)\n",
    "\n",
    "# Set up inputs for Stratified KFold cross validator\n",
    "splits = 5            # number of splits\n",
    "repeats = 3           # number of repeats\n",
    "\n",
    "# Set up the tool\n",
    "rskf = RepeatedStratifiedKFold(n_splits = splits, n_repeats = repeats, random_state = 53)\n",
    "\n",
    "# Initialize a list to store accuracy scores for each fold\n",
    "accuracy_scores = []\n",
    "\n",
    "# Use the classifier to make predication with repeated stratified k-fold cross validation\n",
    "for train_index, test_index in rskf.split(X_train, Y_train):\n",
    "    # Subset the training and testing sets for each iteration\n",
    "    X_fold_train, X_fold_test = X_train.iloc[train_index], X_train.iloc[test_index]\n",
    "    Y_fold_train, Y_fold_test = Y_train.iloc[train_index], Y_train.iloc[test_index]\n",
    "\n",
    "    # Train the classifier\n",
    "    # ravel() converts Y_fold_train to a 1D array\n",
    "    classifier.fit(X_fold_train, Y_fold_train.values.ravel())\n",
    "    \n",
    "    # Use classifier to make predictions on the test subset\n",
    "    Y_pred = classifier.predict(X_fold_test)\n",
    "    \n",
    "    # Check the accuracy score\n",
    "    accuracy = accuracy_score(Y_fold_test, Y_pred)\n",
    "    \n",
    "    # Add the accuracy score for this fold to the list\n",
    "    accuracy_scores.append(accuracy)\n",
    "    \n",
    "    print(f'Accuracy: {accuracy:0.4f}')\n",
    "\n",
    "# Turn off timer\n",
    "end_time = time.time()\n",
    "elapsed_time = end_time - start_time\n",
    "\n",
    "print(f'\\nTime taken: {elapsed_time} seconds\\n')\n",
    "\n",
    "# Evaluate the model on the testing set\n",
    "Y_pred_test_RF = classifier.predict(X_test)\n",
    "accuracy_test = accuracy_score(Y_test, Y_pred_test_RF)\n",
    "print(f'\\nAccuracy on Test Set: {accuracy_test:.4f}')\n",
    "'''"
   ]
  },
  {
   "cell_type": "markdown",
   "id": "45311a0e",
   "metadata": {},
   "source": [
    "## Random Forest Confusion Matrix and Model Evaluation"
   ]
  },
  {
   "cell_type": "code",
   "execution_count": 10,
   "id": "b7a27a40",
   "metadata": {},
   "outputs": [
    {
     "name": "stdout",
     "output_type": "stream",
     "text": [
      "Variance of Accuracy Scores:  0.0000\n"
     ]
    }
   ],
   "source": [
    "# Calcualte the variance of the accuracy scores\n",
    "variance_of_accuracies = np.var(accuracy_scores)\n",
    "print(f'Variance of Accuracy Scores: {variance_of_accuracies: .4f}')"
   ]
  },
  {
   "cell_type": "code",
   "execution_count": 11,
   "id": "cef842ca",
   "metadata": {},
   "outputs": [
    {
     "name": "stdout",
     "output_type": "stream",
     "text": [
      "Confusion Matrix:\n",
      "[[ 236  959 1044]\n",
      " [ 427 3051 3598]\n",
      " [ 411 2799 7344]]\n"
     ]
    }
   ],
   "source": [
    "# *********************** THERE IS A PROBLEM WITH THIS ******************************\n",
    "\n",
    "# Evaluate the model\n",
    "# Generate the confusion matrix\n",
    "confMatrix = confusion_matrix(Y_test, Y_pred_test_RF)\n",
    "\n",
    "print('Confusion Matrix:')\n",
    "print(confMatrix)"
   ]
  },
  {
   "cell_type": "code",
   "execution_count": 12,
   "id": "472433cc",
   "metadata": {},
   "outputs": [
    {
     "name": "stdout",
     "output_type": "stream",
     "text": [
      "Classification Report:\n",
      "              precision    recall  f1-score   support\n",
      "\n",
      "         <30       0.22      0.11      0.14      2239\n",
      "         >30       0.45      0.43      0.44      7076\n",
      "          NO       0.61      0.70      0.65     10554\n",
      "\n",
      "    accuracy                           0.54     19869\n",
      "   macro avg       0.43      0.41      0.41     19869\n",
      "weighted avg       0.51      0.54      0.52     19869\n",
      "\n"
     ]
    }
   ],
   "source": [
    "# Generate the classification report\n",
    "print('Classification Report:')\n",
    "print(classification_report(Y_test, Y_pred_test_RF, target_names=['<30', '>30', 'NO']))"
   ]
  },
  {
   "cell_type": "code",
   "execution_count": null,
   "id": "be28d3d4",
   "metadata": {},
   "outputs": [],
   "source": []
  },
  {
   "cell_type": "code",
   "execution_count": null,
   "id": "aebf6b08",
   "metadata": {},
   "outputs": [],
   "source": []
  },
  {
   "cell_type": "code",
   "execution_count": null,
   "id": "2a1f0c94",
   "metadata": {},
   "outputs": [],
   "source": []
  }
 ],
 "metadata": {
  "kernelspec": {
   "display_name": "Python 3 (ipykernel)",
   "language": "python",
   "name": "python3"
  },
  "language_info": {
   "codemirror_mode": {
    "name": "ipython",
    "version": 3
   },
   "file_extension": ".py",
   "mimetype": "text/x-python",
   "name": "python",
   "nbconvert_exporter": "python",
   "pygments_lexer": "ipython3",
   "version": "3.11.4"
  }
 },
 "nbformat": 4,
 "nbformat_minor": 5
}
